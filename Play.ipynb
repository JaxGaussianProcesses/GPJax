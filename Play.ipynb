{
 "cells": [
  {
   "cell_type": "code",
   "execution_count": 1,
   "metadata": {},
   "outputs": [
    {
     "name": "stderr",
     "output_type": "stream",
     "text": [
      "2024-02-23 16:56:39.478088: W external/xla/xla/service/gpu/nvptx_compiler.cc:698] The NVIDIA driver's CUDA version is 12.0 which is older than the ptxas CUDA version (12.3.107). Because the driver is older than the ptxas version, XLA is disabling parallel compilation, which may slow down compilation. You should update your NVIDIA driver or use the NVIDIA-provided CUDA forward compatibility packages.\n"
     ]
    }
   ],
   "source": [
    "\n",
    "%load_ext autoreload\n",
    "%autoreload 2\n",
    "\n",
    "from jax import config\n",
    "config.update(\"jax_enable_x64\", True)\n",
    "import jax\n",
    "from dataclasses import dataclass\n",
    "import jax.numpy as jnp\n",
    "import jax.random as jr\n",
    "\n",
    "import tensorflow_probability.substrates.jax.bijectors as tfb\n",
    "\n",
    "#with install_import_hook(\"gpjax\", \"beartype.beartype\"):\n",
    "import gpjax as gpx\n",
    "from gpjax.distributions import GaussianDistribution\n",
    "import matplotlib.pyplot as plt\n",
    "from matplotlib import rcParams\n",
    "# plt.style.use(\n",
    "#     \"https://raw.githubusercontent.com/JaxGaussianProcesses/GPJax/main/docs/examples/gpjax.mplstyle\"\n",
    "# )\n",
    "# colors = rcParams[\"axes.prop_cycle\"].by_key()[\"color\"]\n",
    "\n",
    "key = jr.PRNGKey(123)\n",
    "\n",
    "import tensorflow_probability.substrates.jax as tfp\n",
    "tfd = tfp.distributions\n",
    "from gpjax.kernels.base import AdditiveKernel\n",
    "\n",
    "\n",
    "import optax as ox\n",
    "import tensorflow_probability.substrates.jax.bijectors as tfb\n",
    "\n",
    "# custom bits\n",
    "from gpjax.dataset import VerticalDataset\n",
    "from gpjax.kernels.stationary.rbf import OrthogonalRBF, OrthogonalRBFUnif\n",
    "from gpjax.gps import CustomAdditiveConjugatePosterior, VerticalSmoother\n",
    "from gpjax.objectives import CustomConjugateMLL, CustomELBO, custom_variational_expectation\n",
    "from gpjax.optim_utils import optim_builder, zero_grads\n",
    "from gpjax.variational_families import CustomVariationalGaussian\n"
   ]
  },
  {
   "cell_type": "markdown",
   "metadata": {},
   "source": [
    "# 100_000 entries sampled across time/lat/lon over first day of data\n",
    "\n",
    "## X2D has:\n",
    "\n",
    "0\"Sea surface temperature (K)\"\n",
    "\n",
    "1\"Sensible heat flux (W/m^2)\"\n",
    "\n",
    "2\"Latent heat flux (W/m^2)\"\n",
    "\n",
    "3\"Vertically-integrated moisture convergence (kg/m^2)\"\n",
    "\n",
    "4\"Column relative humidity (%)\"\n",
    "\n",
    "\n",
    "## X3D has:\n",
    "\n",
    "0\"Absolute temperature (K)\"\n",
    "\n",
    "1\"Relative humidity (%)\"\n",
    "\n",
    "2\"Specific humidity (kg/kg)\"\n",
    "\n",
    "3\"Geopotential height (m^2 s^-2)\"\n",
    "\n",
    "4\"Zonal wind (m/s)\"\n",
    "\n",
    "5\"Meridional wind (m/s)\"\n",
    "\n",
    "6\"Potential temperature (K)\"\n",
    "\n",
    "7\"Equivalent potential temperature (K)\"\n",
    "\n",
    "8\"Equivalent potential temperature saturation deficit (K)\"\n",
    "\n",
    "9\"Saturated equivalent potential temperature (K)\"\n",
    "\n",
    "10\"MSE-conserving plume buoyancy (m/s^2)\"\n",
    "\n",
    "\n",
    "## static has:\n",
    "\n",
    "0\"Land-sea mask\"\n",
    "\n",
    "1\"Angle of sub-gridscale orography (rad)Anisotropy of sub-gridscale orography\"\n",
    "\n",
    "2\"Standard deviation of sub-gridscale orography\"\n",
    "\n",
    "3\"Slope of sub-gridscale orography\"\n",
    "\n",
    "## Y has:\n",
    "\n",
    "0\"ERA5 Precipitation (mm/hr)\"\n",
    "\n",
    "1\"TRMM Precipitation (mm/hr)\"\n",
    "\n",
    "2\"TRMM Relative Error (%)\"\n",
    "\n",
    "# plev are\n",
    "1000.,   2000.,   3000.,   5000.,   7000.,  10000., 15000.,\n",
    "20000.,  25000.,  30000.,  40000.,  50000.,  60000.,  70000.,80000.,  85000.,  90000.,  92500.,  95000.,  97500., 100000.\n"
   ]
  },
  {
   "cell_type": "code",
   "execution_count": 24,
   "metadata": {},
   "outputs": [
    {
     "name": "stdout",
     "output_type": "stream",
     "text": [
      "Removed all pressure levels below [20000.] hPa\n",
      "Removed 38 entries with nan\n",
      "then standardized Y as Gaussian\n",
      "standardized inputs to be Gaussian\n",
      "Using 99862 training and 100 testing points!\n",
      "using 4 static variables\n",
      "using 4 2d variables\n",
      "using 11 3d variables\n",
      "using variables with names ['K,', 'RH', 'q', 'gh', 'wind_z', 'wind_m', 'theta', 'tehta_e', 'theta_e+', 'theta_e*', 'plume', 'flux_s', 'flux_l', 'moisture', 'CRH', 'LSM', 'O_angle', 'O_sd', 'O_slope']\n"
     ]
    }
   ],
   "source": [
    "# load data\n",
    "X2d = jnp.array(jnp.load(\"../data/ERA/NPY_DATA/X2d_sample.npy\"), dtype=jnp.float64) # [N, D]\n",
    "X3d = jnp.array(jnp.load(\"../data/ERA/NPY_DATA/X3d_sample.npy\"), dtype=jnp.float64) # [N, D]\n",
    "Xstatic = jnp.array(jnp.load(\"../data/ERA/NPY_DATA/XStatic_sample.npy\"), dtype=jnp.float64) # [N, D]\n",
    "Y = jnp.array(jnp.load(\"../data/ERA/NPY_DATA/Y_sample.npy\"), dtype=jnp.float64) # [N, 1]\n",
    "pressure = jnp.array([[1000,2000,3000,5000,7000,10000,15000,20000,25000,30000,40000,50000,60000,70000,80000, 85000,90000,92500,95000,97500,100000]], dtype=jnp.float64)\n",
    "\n",
    "\n",
    "# random shuffle\n",
    "X2d = jr.permutation(key, X2d)\n",
    "X3d = jr.permutation(key, X3d)\n",
    "Xstatic = jr.permutation(key, Xstatic)\n",
    "Y = jr.permutation(key, Y)\n",
    "\n",
    "# look at ERA5 rain\n",
    "Y = Y[:,0:1]  \n",
    "\n",
    "\n",
    "\n",
    "\n",
    "# just keep the \"prognostic\" 3d inputs that joe considered (for now)\n",
    "# RH, tehta_e^+, theta_e, theta_e^*\n",
    "names_3d =  [\"K,\",\"RH\", \"q\", \"gh\", \"wind_z\",\"wind_m\",\"theta\",\"tehta_e\", \"theta_e+\", \"theta_e*\", \"plume\"]\n",
    "idx_3d = [i for i in range(len(names_3d))]\n",
    "# idx_3d = [1, 7, 8, 9]\n",
    "names_3d = [names_3d[i] for i in idx_3d]\n",
    "X3d = X3d[:,idx_3d,:]\n",
    "\n",
    "\n",
    "# # also use his \"normalisatopm\" for sigma_o\n",
    "# sigma_o = jnp.where(Xstatic[:,0]<0.5, 0.0, 1.0+jnp.log(1+Xstatic[:,2])) # optimize threshold?\n",
    "# Xstatic = Xstatic.at[:,2].set(sigma_o)\n",
    "names_static = [\"LSM\",\"O_angle\",\"O_sd\",\"O_slope\"]\n",
    "idx_static = [i for i in range(len(names_static))]\n",
    "# idx_static = [0]\n",
    "#idx_static = []\n",
    "names_static = [names_static[i] for i in idx_static]\n",
    "Xstatic = Xstatic[:,idx_static]\n",
    "\n",
    "\n",
    "names_2d = [\"K_surface\",\"flux_s\",\"flux_l\",\"moisture\",\"CRH\"]\n",
    "idx_2d =[i for i in range(len(names_2d))]\n",
    "idx_2d = [1,2,3,4]\n",
    "names_2d = [names_2d[i] for i in idx_2d]\n",
    "X2d = X2d[:,idx_2d]\n",
    "\n",
    "\n",
    "#remove all pressure levels above 500 hPA\n",
    "lowest_idx =  7 #11\n",
    "print(f\"Removed all pressure levels below {pressure[:,lowest_idx]} hPa\")\n",
    "X3d = X3d[:, :, lowest_idx:]\n",
    "pressure_levels = pressure[:,lowest_idx:]\n",
    "\n",
    "\n",
    "\n",
    "# remove any entries with nan\n",
    "X3d_nan_idx = jnp.isnan(X3d).any(axis=1).any(axis=1)\n",
    "X2d_nan_idx = jnp.isnan(X2d).any(axis=1)\n",
    "Xstatic_nan_idx = jnp.isnan(Xstatic).any(axis=1)\n",
    "Y_nan_idx = jnp.isnan(Y).any(axis=1)\n",
    "any_nan = X3d_nan_idx | X2d_nan_idx | Y_nan_idx | Xstatic_nan_idx\n",
    "no_nan = ~ any_nan\n",
    "print(f\"Removed {any_nan.sum()} entries with nan\")\n",
    "X2d = X2d[no_nan,:]\n",
    "X3d = X3d[no_nan,:,:]\n",
    "Xstatic = Xstatic[no_nan,:]\n",
    "Y = Y[no_nan,:]\n",
    "\n",
    "\n",
    "# # remove no rain days\n",
    "# print(f\"Removed {(Y[:,0]==0).sum()} entries with zero rain\")\n",
    "# X3d = X3d[Y[:,0]>0,:]\n",
    "# X2d = X2d[Y[:,0]>0,:]\n",
    "# Xstatic = Xstatic[Y[:,0]>0,:]\n",
    "# Y = Y[Y[:,0]>0,:]\n",
    "\n",
    "\n",
    "# also log Y\n",
    "# print(f\"Applied log transform to Y\")\n",
    "# Y = jnp.log(Y-jnp.min(Y)+1e-12)\n",
    "print(f\"then standardized Y as Gaussian\")\n",
    "Y_mean = jnp.mean(Y)\n",
    "Y_std = jnp.std(Y)\n",
    "Y = (Y - Y_mean) / Y_std\n",
    "\n",
    "\n",
    "\n",
    "#standardize inputs \n",
    "print(\"standardized inputs to be Gaussian\")\n",
    "X3d_std = jnp.std(X3d, axis=(0))\n",
    "X3d_mean = jnp.mean(X3d,axis=(0))\n",
    "X3d = (X3d - X3d_mean[None,:,:]) / X3d_std[None,:,:]\n",
    "X2d_std = jnp.std(X2d, axis=0)\n",
    "X2d_mean = jnp.mean(X2d,axis=0)\n",
    "X2d = (X2d - X2d_mean) / X2d_std\n",
    "Xstatic_std = jnp.std(Xstatic, axis=0)\n",
    "Xstatic_mean = jnp.mean(Xstatic,axis=0)\n",
    "Xstatic = (Xstatic - Xstatic_mean) / Xstatic_std\n",
    "\n",
    "# print(\"standardized inputs with max and min\")\n",
    "# X3d_min = jnp.min(X3d, axis=(0))\n",
    "# X3d_max = jnp.max(X3d,axis=(0))\n",
    "# X3d = (X3d_max - X3d) / (X3d_max - X3d_min)\n",
    "# X2d_min = jnp.min(X2d, axis=0)\n",
    "# X2d_max = jnp.max(X2d,axis=0)\n",
    "# X2d = (X2d_max - X2d) / (X2d_max - X2d_min)\n",
    "# Xstatic_min = jnp.min(Xstatic, axis=0)\n",
    "# Xstatic_max = jnp.max(Xstatic,axis=0)\n",
    "# Xstatic = (Xstatic_max - Xstatic) / (Xstatic_max - Xstatic_min)\n",
    "\n",
    "\n",
    "\n",
    "\n",
    "\n",
    "# look at all data but 1_000 test\n",
    "\n",
    "N_test = 100\n",
    "N_train = len(X2d) - N_test \n",
    "print(f\"Using {N_train} training and {N_test} testing points!\")\n",
    "num_2d_variables= X2d.shape[1]\n",
    "num_3d_variables= X3d.shape[1]\n",
    "num_static_variables= Xstatic.shape[1]\n",
    "num_not_3d_variables = num_2d_variables + num_static_variables\n",
    "num_variables = num_2d_variables + num_3d_variables + num_static_variables\n",
    "print(f\"using {num_static_variables} static variables\")\n",
    "print(f\"using {num_2d_variables} 2d variables\")\n",
    "print(f\"using {num_3d_variables} 3d variables\")\n",
    "names = names_3d + names_2d + names_static\n",
    "print(f\"using variables with names {names}\")"
   ]
  },
  {
   "cell_type": "code",
   "execution_count": 25,
   "metadata": {},
   "outputs": [],
   "source": [
    "def plot_params(model, title=\"\"):\n",
    "    if isinstance(model, gpx.variational_families.AbstractVariationalFamily):\n",
    "        model = model.posterior\n",
    "    plt.figure()\n",
    "    if isinstance(model.prior.kernel, gpx.kernels.AdditiveKernel):\n",
    "        lengthscales = jnp.array([model.prior.kernel.kernels[i].lengthscale[0] for i in range(len(model.prior.kernel.kernels))])\n",
    "    else:\n",
    "        lengthscales = model.prior.kernel.lengthscale\n",
    "    \n",
    "    z_to_plot = jnp.linspace(jnp.min(model.smoother.Z_levels),jnp.max(model.smoother.Z_levels),100)\n",
    "    smoothing_weights = model.smoother.smooth_fn(z_to_plot) \n",
    "    z_unscaled = z_to_plot * model.smoother.Z_std + model.smoother.Z_mean\n",
    "    for i in range(num_3d_variables):\n",
    "        plt.plot(smoothing_weights[i,:].T,z_unscaled, label=f\"{names_3d[i]} with lengthscales_ {lengthscales[i]:.2f}\")\n",
    "    plt.legend()\n",
    "    plt.title(title+f\" other lengthscales are {lengthscales[num_3d_variables:]}\")\n",
    "    plt.gca().invert_yaxis()\n",
    "\n",
    "\n",
    "\n",
    "\n",
    "def plot_interactions(model, data):\n",
    "    plt.figure()\n",
    "    idx_0 = [[]]\n",
    "    idx_1 = [[i] for i in range(num_variables)]\n",
    "    idx_2 = []\n",
    "    for i in range(num_variables):\n",
    "        for j in range(i+1,num_variables):\n",
    "            idx_2.append([i,j])\n",
    "    idxs = idx_0 + idx_1 + idx_2\n",
    "    if isinstance(model, gpx.variational_families.AbstractVariationalFamily):\n",
    "        sobols = model.get_sobol_indicies(idxs)\n",
    "    else:\n",
    "        sobols = model.get_sobol_indicies(data, idxs)\n",
    "    sobols = sobols / jnp.sum(sobols)\n",
    "    plt.plot(sobols)\n",
    "    plt.title(\"sobol indicies (red lines between orders)\")\n",
    "    plt.axvline(x=1, color=\"red\")\n",
    "    plt.axvline(x=num_variables+1, color=\"red\")\n",
    "    k=10\n",
    "    top_idx = jax.lax.top_k(sobols, k)[1]\n",
    "\n",
    "\n",
    "    if isinstance(model, gpx.variational_families.AbstractVariationalFamily):\n",
    "        z = model.inducing_inputs\n",
    "        posterior_dist = model.predict_additive_component(z[:1,:],[])\n",
    "    else:\n",
    "        z = model.smoother.smooth_data(data)[0]\n",
    "        posterior_dist = model.predict_additive_component(z[:1,:], data, [])\n",
    "    mean = posterior_dist.mean() * Y_std + Y_mean\n",
    "    print(f\"cst term is {mean}\")\n",
    "    for idx in top_idx:\n",
    "        chosen_idx = idxs[idx]\n",
    "        plt.figure()\n",
    "        num_plot = 1_000 if len(chosen_idx)==1 else 10_000\n",
    "        x_plot = jr.uniform(key, (num_plot, num_variables), minval=jnp.min(z, axis=0), maxval=jnp.max(z, axis=0))\n",
    "        if isinstance(model, gpx.variational_families.AbstractVariationalFamily):\n",
    "            posterior_dist = model.predict_additive_component(x_plot,chosen_idx)\n",
    "        else:\n",
    "            posterior_dist = model.predict_additive_component(x_plot, data, chosen_idx)\n",
    "        mean = posterior_dist.mean() * Y_std + Y_mean\n",
    "        std = jnp.sqrt(posterior_dist.variance())* Y_std\n",
    "        \n",
    "\n",
    "\n",
    "        if len(chosen_idx)==1:\n",
    "            plt.scatter(x_plot[:,chosen_idx[0]],mean, color=\"blue\") \n",
    "            plt.scatter(x_plot[:,chosen_idx[0]],mean+ 1.96*std, color=\"red\") \n",
    "            plt.scatter(x_plot[:,chosen_idx[0]],mean- 1.96*std, color=\"red\") \n",
    "            \n",
    "\n",
    "\n",
    "            plt.xlim([jnp.min(z[:,chosen_idx[0]]),jnp.max(z[:,chosen_idx[0]])])\n",
    "            plt.scatter(z[:,chosen_idx[0]],jnp.zeros_like(z[:,chosen_idx[0]]), color=\"black\")\n",
    "\n",
    "        elif len(chosen_idx)==2:\n",
    "            col = plt.scatter(x_plot[:,chosen_idx[0]],x_plot[:,chosen_idx[1]],c=mean)\n",
    "            \n",
    "            plt.xlim([jnp.min(z[:,chosen_idx[0]]),jnp.max(z[:,chosen_idx[0]])])\n",
    "            plt.ylim([jnp.min(z[:,chosen_idx[1]]),jnp.max(z[:,chosen_idx[1]])])\n",
    "            plt.colorbar(col)\n",
    "            plt.scatter(z[:,chosen_idx[0]],z[:,chosen_idx[1]], color=\"black\")\n",
    "                \n",
    "        plt.title(f\"variable {[names[i] for i in chosen_idx]} with sobol index {sobols[idx]}\")\n",
    "\n"
   ]
  },
  {
   "cell_type": "code",
   "execution_count": 49,
   "metadata": {},
   "outputs": [
    {
     "data": {
      "text/plain": [
       "(array([985.,   8.,   3.,   1.,   0.,   1.,   0.,   0.,   1.,   1.]),\n",
       " array([1.95512921e-03, 9.98148346e+01, 1.99627716e+02, 2.99440582e+02,\n",
       "        3.99253479e+02, 4.99066345e+02, 5.98879211e+02, 6.98692078e+02,\n",
       "        7.98505005e+02, 8.98317871e+02, 9.98130737e+02]),\n",
       " <BarContainer object of 10 artists>)"
      ]
     },
     "execution_count": 49,
     "metadata": {},
     "output_type": "execute_result"
    },
    {
     "data": {
      "image/png": "[encoded data removed]",
      "text/plain": [
       "<Figure size 640x480 with 1 Axes>"
      ]
     },
     "metadata": {},
     "output_type": "display_data"
    }
   ],
   "source": [
    "dist = tfd.LogNormal(0.0,2.0)\n",
    "plt.hist(dist.sample(seed=key, sample_shape=1000))"
   ]
  },
  {
   "cell_type": "code",
   "execution_count": 82,
   "metadata": {},
   "outputs": [],
   "source": [
    "def build_log_prior(tau) -> callable:\n",
    "\n",
    "    def log_prior(model):\n",
    "        log_prob = 0.0\n",
    "\n",
    "        if hasattr(model, \"smoother\"):\n",
    "            smoother_input_scale_prior = tfd.LogNormal(0.0,1.0)\n",
    "            smoother_mean_prior = tfd.Uniform(jnp.min(model.smoother.Z_levels),jnp.max(model.smoother.Z_levels))\n",
    "            log_prob += jnp.sum(smoother_mean_prior.log_prob(model.smoother.smoother_mean))\n",
    "            log_prob += jnp.sum(smoother_input_scale_prior.log_prob(model.smoother.smoother_input_scale))\n",
    "\n",
    "\n",
    "        if isinstance(model.prior.kernel, AdditiveKernel):\n",
    "            lengthscales = jnp.vstack([k.lengthscale for k in model.prior.kernel.kernels])\n",
    "            variances = model.prior.kernel.interaction_variances\n",
    "        else:\n",
    "            lengthscales = model.prior.kernel.lengthscale\n",
    "            variances = model.prior.kernel.variance\n",
    "            \n",
    "        variance_prior = tfd.LogNormal(0.0,10)\n",
    "        log_prob += jnp.sum(variance_prior.log_prob(variances))\n",
    "\n",
    "\n",
    "        sigma_prior = tfd.LogNormal(0.0,10)\n",
    "        log_prob += jnp.sum(sigma_prior.log_prob(variances))\n",
    "\n",
    "        l_prior = tfd.LogNormal(0.0,1.0)\n",
    "        log_prob += jnp.sum(l_prior.log_prob(lengthscales))\n",
    "        #l_prior = tfd.HalfCauchy(0.0,tau)\n",
    "        #log_prob += jnp.sum(l_prior.log_prob((1.0 / lengthscales**2)))\n",
    "\n",
    "            \n",
    "        # noise_prior = tfd.LogNormal(0.0,10)\n",
    "        # log_prob += noise_prior.log_prob(model.likelihood.obs_stddev)\n",
    "\n",
    "\n",
    "\n",
    "\n",
    "        return log_prob\n",
    "    \n",
    "    return log_prior\n",
    "\n",
    "\n",
    "\n",
    "def init_smoother(data: VerticalDataset, fit=True, tau=0.1) -> VerticalSmoother:\n",
    "    \n",
    "    \n",
    "    if fit:\n",
    "\n",
    "        kernels = []\n",
    "        smoothers = []\n",
    "        for i in range(num_3d_variables):\n",
    "            print(f\"doing the {i} input\")\n",
    "            scores_i = []\n",
    "            kernels_i = []\n",
    "            smoothers_i = []\n",
    "            for j in range(2):\n",
    "                smoother_input_scale = 2.0\n",
    "                smoother_mean = tfd.Normal(jnp.array(0.0, dtype=jnp.float64),jnp.array(1.0, dtype=jnp.float64)).sample(seed= jr.PRNGKey(j))\n",
    "                smoother_i = VerticalSmoother(jnp.array([[smoother_mean]]), jnp.array([[smoother_input_scale]]), Z_levels=pressure_levels)\n",
    "                data_i = VerticalDataset(X3d=data.X3d[:,i:i+1,:]  ,X2d = jnp.array([[]]*len(data.X3d)),Xstatic = jnp.array([[]]*len(data.X3d)), y = data.y)\n",
    "                posterior_i = CustomAdditiveConjugatePosterior(prior= init_prior(data_i, additive=False), likelihood=init_likelihood(data_i), smoother=smoother_i)\n",
    "                obj_i = CustomConjugateMLL(negative=True, log_prior=build_log_prior(tau))\n",
    "                opt_posterior_i, history_i = gpx.fit_scipy(model=posterior_i,objective=obj_i,train_data=data_i,safe=False)\n",
    "                scores_i.append(history_i[-1])\n",
    "                smoothers_i.append(opt_posterior_i.smoother)\n",
    "                kernels_i.append(opt_posterior_i.prior.kernel)\n",
    "            best_idx = jnp.argmin(jnp.array(scores_i))\n",
    "            smoothers.append(smoothers_i[best_idx])\n",
    "            kernels.append(kernels_i[best_idx])\n",
    "            # plt.figure()\n",
    "            # plt.hist(smoothers_i[best_idx].smooth_data(data_i)[0])\n",
    "\n",
    "\n",
    "        smoother = VerticalSmoother(\n",
    "            jnp.array([[s.smoother_mean[0,0] for s in smoothers]]), \n",
    "            jnp.array([[s.smoother_input_scale[0][0] for s in smoothers]]), \n",
    "            Z_levels=pressure_levels\n",
    "        )\n",
    "        lengthscales = jnp.array([k.lengthscale[0] for k in kernels])\n",
    "\n",
    "        z_to_plot = jnp.linspace(jnp.min(smoother.Z_levels),jnp.max(smoother.Z_levels),100)\n",
    "        smoothing_weights = smoother.smooth_fn(z_to_plot) \n",
    "        z_unscaled = z_to_plot * smoother.Z_std + smoother.Z_mean\n",
    "        for i in range(num_3d_variables):\n",
    "            plt.plot(smoothing_weights[i,:].T,z_unscaled, label=f\"{names_3d[i]} with lengthscales_ {lengthscales[i]:.2f}\")\n",
    "        plt.legend()\n",
    "    else:\n",
    "        smoother = VerticalSmoother(\n",
    "            jnp.array([[1.0]*num_3d_variables]), \n",
    "            jnp.array([[1.0]*num_3d_variables]), \n",
    "            Z_levels=pressure_levels\n",
    "            )\n",
    "    return smoother\n",
    "\n",
    "\n",
    "def init_prior(data, additive=True, smoother=None):\n",
    "    if additive:\n",
    "        #base_kernels = [gpx.kernels.RBF(lengthscale=jnp.array([1.0]), active_dims=[i]).replace_trainable(variance=False) for i in range(num_variables)]\n",
    "        #base_kernels= [OrthogonalRBF(lengthscale=jnp.array([1.]), active_dims=[i]) for i in range(data.dim)]\n",
    "        base_kernels= [OrthogonalRBFUnif(lengthscale=jnp.array([1.]), active_dims=[i]) for i in range(data.dim)]\n",
    "        max_interaction = 2\n",
    "        kernel = gpx.kernels.AdditiveKernel(kernels=base_kernels,interaction_variances=jnp.array([1.0/(max_interaction+1.0)]*(max_interaction+1)), max_interaction_depth=max_interaction)#.replace_bijector(interaction_variances=variance_bij)\n",
    "        #kernel = kernel.replace_trainable(interaction_variances=False)\n",
    "    else:\n",
    "        kernel = gpx.kernels.RBF(lengthscale= jnp.array([1.0]*data.dim))\n",
    "    return gpx.gps.Prior(mean_function= gpx.mean_functions.Zero(), kernel = kernel)\n",
    "\n",
    "\n",
    "def init_likelihood(data: VerticalDataset, fix_noise=False):\n",
    "    likelihood = gpx.likelihoods.Gaussian(num_datapoints=data.n, obs_stddev=jnp.array(0.5, dtype=jnp.float64))\n",
    "    if fix_noise:\n",
    "        return likelihood.replace_trainable(obs_stddev=False)\n",
    "    else:\n",
    "        return likelihood\n",
    "\n",
    "\n",
    "\n",
    "\n",
    "\n"
   ]
  },
  {
   "cell_type": "code",
   "execution_count": null,
   "metadata": {},
   "outputs": [],
   "source": []
  },
  {
   "cell_type": "code",
   "execution_count": null,
   "metadata": {},
   "outputs": [],
   "source": []
  },
  {
   "cell_type": "markdown",
   "metadata": {},
   "source": []
  },
  {
   "cell_type": "code",
   "execution_count": 83,
   "metadata": {},
   "outputs": [
    {
     "name": "stdout",
     "output_type": "stream",
     "text": [
      "doing the 0 input\n"
     ]
    },
    {
     "name": "stderr",
     "output_type": "stream",
     "text": [
      "/home/henry/anaconda3/envs/gpjax/lib/python3.10/site-packages/scipy/optimize/_minimize.py:705: OptimizeWarning: Desired error not necessarily achieved due to precision loss.\n",
      "  res = _minimize_bfgs(fun, x0, args, jac, callback, **options)\n"
     ]
    },
    {
     "name": "stdout",
     "output_type": "stream",
     "text": [
      "         Current function value: 683.110764\n",
      "         Iterations: 1\n",
      "         Function evaluations: 16\n",
      "         Gradient evaluations: 10\n"
     ]
    },
    {
     "name": "stderr",
     "output_type": "stream",
     "text": [
      "/home/henry/anaconda3/envs/gpjax/lib/python3.10/site-packages/scipy/optimize/_minimize.py:705: OptimizeWarning: Desired error not necessarily achieved due to precision loss.\n",
      "  res = _minimize_bfgs(fun, x0, args, jac, callback, **options)\n"
     ]
    },
    {
     "name": "stdout",
     "output_type": "stream",
     "text": [
      "         Current function value: 638.291645\n",
      "         Iterations: 5\n",
      "         Function evaluations: 26\n",
      "         Gradient evaluations: 15\n",
      "doing the 1 input\n"
     ]
    },
    {
     "name": "stderr",
     "output_type": "stream",
     "text": [
      "/home/henry/anaconda3/envs/gpjax/lib/python3.10/site-packages/scipy/optimize/_minimize.py:705: OptimizeWarning: Desired error not necessarily achieved due to precision loss.\n",
      "  res = _minimize_bfgs(fun, x0, args, jac, callback, **options)\n"
     ]
    },
    {
     "name": "stdout",
     "output_type": "stream",
     "text": [
      "         Current function value: 668.182045\n",
      "         Iterations: 3\n",
      "         Function evaluations: 31\n",
      "         Gradient evaluations: 18\n"
     ]
    },
    {
     "name": "stderr",
     "output_type": "stream",
     "text": [
      "/home/henry/anaconda3/envs/gpjax/lib/python3.10/site-packages/scipy/optimize/_minimize.py:705: OptimizeWarning: Desired error not necessarily achieved due to precision loss.\n",
      "  res = _minimize_bfgs(fun, x0, args, jac, callback, **options)\n"
     ]
    },
    {
     "name": "stdout",
     "output_type": "stream",
     "text": [
      "         Current function value: 682.148788\n",
      "         Iterations: 1\n",
      "         Function evaluations: 16\n",
      "         Gradient evaluations: 11\n",
      "doing the 2 input\n"
     ]
    },
    {
     "name": "stderr",
     "output_type": "stream",
     "text": [
      "/home/henry/anaconda3/envs/gpjax/lib/python3.10/site-packages/scipy/optimize/_minimize.py:705: OptimizeWarning: Desired error not necessarily achieved due to precision loss.\n",
      "  res = _minimize_bfgs(fun, x0, args, jac, callback, **options)\n"
     ]
    },
    {
     "name": "stdout",
     "output_type": "stream",
     "text": [
      "         Current function value: 670.288484\n",
      "         Iterations: 2\n",
      "         Function evaluations: 27\n",
      "         Gradient evaluations: 11\n"
     ]
    },
    {
     "name": "stderr",
     "output_type": "stream",
     "text": [
      "/home/henry/anaconda3/envs/gpjax/lib/python3.10/site-packages/scipy/optimize/_minimize.py:705: OptimizeWarning: Desired error not necessarily achieved due to precision loss.\n",
      "  res = _minimize_bfgs(fun, x0, args, jac, callback, **options)\n"
     ]
    },
    {
     "name": "stdout",
     "output_type": "stream",
     "text": [
      "         Current function value: 669.380345\n",
      "         Iterations: 2\n",
      "         Function evaluations: 27\n",
      "         Gradient evaluations: 12\n",
      "doing the 3 input\n"
     ]
    },
    {
     "name": "stderr",
     "output_type": "stream",
     "text": [
      "/home/henry/anaconda3/envs/gpjax/lib/python3.10/site-packages/scipy/optimize/_minimize.py:705: OptimizeWarning: Desired error not necessarily achieved due to precision loss.\n",
      "  res = _minimize_bfgs(fun, x0, args, jac, callback, **options)\n"
     ]
    },
    {
     "name": "stdout",
     "output_type": "stream",
     "text": [
      "         Current function value: 668.571557\n",
      "         Iterations: 2\n",
      "         Function evaluations: 21\n",
      "         Gradient evaluations: 11\n",
      "Optimization terminated successfully.\n",
      "         Current function value: 659.368941\n",
      "         Iterations: 17\n",
      "         Function evaluations: 30\n",
      "         Gradient evaluations: 24\n",
      "doing the 4 input\n"
     ]
    },
    {
     "name": "stderr",
     "output_type": "stream",
     "text": [
      "/home/henry/anaconda3/envs/gpjax/lib/python3.10/site-packages/scipy/optimize/_minimize.py:705: OptimizeWarning: Desired error not necessarily achieved due to precision loss.\n",
      "  res = _minimize_bfgs(fun, x0, args, jac, callback, **options)\n"
     ]
    },
    {
     "name": "stdout",
     "output_type": "stream",
     "text": [
      "         Current function value: 603.786723\n",
      "         Iterations: 7\n",
      "         Function evaluations: 30\n",
      "         Gradient evaluations: 19\n"
     ]
    },
    {
     "name": "stderr",
     "output_type": "stream",
     "text": [
      "/home/henry/anaconda3/envs/gpjax/lib/python3.10/site-packages/scipy/optimize/_minimize.py:705: OptimizeWarning: Desired error not necessarily achieved due to precision loss.\n",
      "  res = _minimize_bfgs(fun, x0, args, jac, callback, **options)\n"
     ]
    },
    {
     "name": "stdout",
     "output_type": "stream",
     "text": [
      "         Current function value: 658.715231\n",
      "         Iterations: 7\n",
      "         Function evaluations: 31\n",
      "         Gradient evaluations: 21\n",
      "doing the 5 input\n"
     ]
    },
    {
     "name": "stderr",
     "output_type": "stream",
     "text": [
      "/home/henry/anaconda3/envs/gpjax/lib/python3.10/site-packages/scipy/optimize/_minimize.py:705: OptimizeWarning: Desired error not necessarily achieved due to precision loss.\n",
      "  res = _minimize_bfgs(fun, x0, args, jac, callback, **options)\n"
     ]
    },
    {
     "name": "stdout",
     "output_type": "stream",
     "text": [
      "         Current function value: 639.175502\n",
      "         Iterations: 5\n",
      "         Function evaluations: 24\n",
      "         Gradient evaluations: 18\n"
     ]
    },
    {
     "name": "stderr",
     "output_type": "stream",
     "text": [
      "/home/henry/anaconda3/envs/gpjax/lib/python3.10/site-packages/scipy/optimize/_minimize.py:705: OptimizeWarning: Desired error not necessarily achieved due to precision loss.\n",
      "  res = _minimize_bfgs(fun, x0, args, jac, callback, **options)\n"
     ]
    },
    {
     "name": "stdout",
     "output_type": "stream",
     "text": [
      "         Current function value: 660.876551\n",
      "         Iterations: 4\n",
      "         Function evaluations: 26\n",
      "         Gradient evaluations: 16\n",
      "doing the 6 input\n"
     ]
    },
    {
     "name": "stderr",
     "output_type": "stream",
     "text": [
      "/home/henry/anaconda3/envs/gpjax/lib/python3.10/site-packages/scipy/optimize/_minimize.py:705: OptimizeWarning: Desired error not necessarily achieved due to precision loss.\n",
      "  res = _minimize_bfgs(fun, x0, args, jac, callback, **options)\n"
     ]
    },
    {
     "name": "stdout",
     "output_type": "stream",
     "text": [
      "         Current function value: 669.240584\n",
      "         Iterations: 2\n",
      "         Function evaluations: 22\n",
      "         Gradient evaluations: 10\n"
     ]
    },
    {
     "name": "stderr",
     "output_type": "stream",
     "text": [
      "/home/henry/anaconda3/envs/gpjax/lib/python3.10/site-packages/scipy/optimize/_minimize.py:705: OptimizeWarning: Desired error not necessarily achieved due to precision loss.\n",
      "  res = _minimize_bfgs(fun, x0, args, jac, callback, **options)\n"
     ]
    },
    {
     "name": "stdout",
     "output_type": "stream",
     "text": [
      "         Current function value: 600.770976\n",
      "         Iterations: 7\n",
      "         Function evaluations: 30\n",
      "         Gradient evaluations: 21\n",
      "doing the 7 input\n"
     ]
    },
    {
     "name": "stderr",
     "output_type": "stream",
     "text": [
      "/home/henry/anaconda3/envs/gpjax/lib/python3.10/site-packages/scipy/optimize/_minimize.py:705: OptimizeWarning: Desired error not necessarily achieved due to precision loss.\n",
      "  res = _minimize_bfgs(fun, x0, args, jac, callback, **options)\n"
     ]
    },
    {
     "name": "stdout",
     "output_type": "stream",
     "text": [
      "         Current function value: 646.113867\n",
      "         Iterations: 7\n",
      "         Function evaluations: 38\n",
      "         Gradient evaluations: 25\n"
     ]
    },
    {
     "name": "stderr",
     "output_type": "stream",
     "text": [
      "/home/henry/anaconda3/envs/gpjax/lib/python3.10/site-packages/scipy/optimize/_minimize.py:705: OptimizeWarning: Desired error not necessarily achieved due to precision loss.\n",
      "  res = _minimize_bfgs(fun, x0, args, jac, callback, **options)\n"
     ]
    },
    {
     "name": "stdout",
     "output_type": "stream",
     "text": [
      "         Current function value: 634.878024\n",
      "         Iterations: 5\n",
      "         Function evaluations: 24\n",
      "         Gradient evaluations: 15\n",
      "doing the 8 input\n"
     ]
    },
    {
     "name": "stderr",
     "output_type": "stream",
     "text": [
      "/home/henry/anaconda3/envs/gpjax/lib/python3.10/site-packages/scipy/optimize/_minimize.py:705: OptimizeWarning: Desired error not necessarily achieved due to precision loss.\n",
      "  res = _minimize_bfgs(fun, x0, args, jac, callback, **options)\n"
     ]
    },
    {
     "name": "stdout",
     "output_type": "stream",
     "text": [
      "         Current function value: 665.168455\n",
      "         Iterations: 3\n",
      "         Function evaluations: 26\n",
      "         Gradient evaluations: 16\n",
      "Optimization terminated successfully.\n",
      "         Current function value: 573.399359\n",
      "         Iterations: 16\n",
      "         Function evaluations: 18\n",
      "         Gradient evaluations: 18\n",
      "doing the 9 input\n",
      "Optimization terminated successfully.\n",
      "         Current function value: 573.399359\n",
      "         Iterations: 22\n",
      "         Function evaluations: 45\n",
      "         Gradient evaluations: 36\n",
      "Optimization terminated successfully.\n",
      "         Current function value: 573.399359\n",
      "         Iterations: 16\n",
      "         Function evaluations: 18\n",
      "         Gradient evaluations: 18\n",
      "doing the 10 input\n"
     ]
    },
    {
     "name": "stderr",
     "output_type": "stream",
     "text": [
      "/home/henry/anaconda3/envs/gpjax/lib/python3.10/site-packages/scipy/optimize/_minimize.py:705: OptimizeWarning: Desired error not necessarily achieved due to precision loss.\n",
      "  res = _minimize_bfgs(fun, x0, args, jac, callback, **options)\n"
     ]
    },
    {
     "name": "stdout",
     "output_type": "stream",
     "text": [
      "         Current function value: 682.587797\n",
      "         Iterations: 1\n",
      "         Function evaluations: 17\n",
      "         Gradient evaluations: 10\n"
     ]
    },
    {
     "name": "stderr",
     "output_type": "stream",
     "text": [
      "/home/henry/anaconda3/envs/gpjax/lib/python3.10/site-packages/scipy/optimize/_minimize.py:705: OptimizeWarning: Desired error not necessarily achieved due to precision loss.\n",
      "  res = _minimize_bfgs(fun, x0, args, jac, callback, **options)\n"
     ]
    },
    {
     "name": "stdout",
     "output_type": "stream",
     "text": [
      "         Current function value: 661.500110\n",
      "         Iterations: 4\n",
      "         Function evaluations: 27\n",
      "         Gradient evaluations: 16\n"
     ]
    },
    {
     "data": {
      "image/png": "[encoded data removed]",
      "text/plain": [
       "<Figure size 640x480 with 1 Axes>"
      ]
     },
     "metadata": {},
     "output_type": "display_data"
    }
   ],
   "source": [
    "# prep fancy kernel for model\n",
    "# first fit with small data to get init for SVGP\n",
    "num_data_for_init=500\n",
    "D_small = VerticalDataset(\n",
    "    X2d = X2d[:num_data_for_init,:],\n",
    "    X3d = X3d[:num_data_for_init,:,:],\n",
    "    Xstatic = Xstatic[:num_data_for_init,:],\n",
    "    y=Y[:num_data_for_init,:],\n",
    ")\n",
    "\n",
    "\n",
    "\n",
    "smoother = init_smoother(D_small, fit=True, tau=10)\n",
    "# smoother = smoother.replace_trainable(smoother_input_scale=False, smoother_mean=False)\n",
    "\n",
    "# fit with small data\n",
    "\n",
    "# posterior = CustomAdditiveConjugatePosterior(prior=init_prior(D_small, smoother=smoother), likelihood=init_likelihood(D_small), smoother=smoother)\n",
    "# plt.figure()\n",
    "# opt_posterior, history = gpx.fit(\n",
    "#         model=posterior,\n",
    "#         objective=jax.jit(CustomConjugateMLL(negative=True, log_prior=build_log_prior(tau=tau))),\n",
    "#         train_data=D_small,\n",
    "#         optim=ox.adamw(1e-1),\n",
    "#         num_iters=1000,\n",
    "#         key=jr.PRNGKey(42),\n",
    "#         safe=False,\n",
    "#     )\n",
    "# opt_posterior, history = gpx.fit_scipy(\n",
    "#         model=posterior,\n",
    "#         objective=jax.jit(CustomConjugateMLL(negative=True, log_prior=build_log_prior(tau=0.1, sparsity=True))),\n",
    "#         train_data=D_small,\n",
    "#         safe=False,\n",
    "#     )\n",
    "# plt.plot(history)\n",
    "# plot_params(opt_posterior, title=\"initial fit with small data\")\n",
    "# print(f\"noise is {opt_posterior.likelihood.obs_stddev}\")\n",
    "# print(f\"interaction vars i/88/14s {opt_posterior.prior.kernel.interaction_variances}\")\n"
   ]
  },
  {
   "cell_type": "code",
   "execution_count": 81,
   "metadata": {},
   "outputs": [
    {
     "data": {
      "text/plain": [
       "VerticalSmoother(smoother_mean=Array([[-2.18238965e-07,  2.10538890e-10,  4.42867821e-01,\n",
       "         4.31929697e-01,  8.26130405e-08,  9.79809480e-08,\n",
       "         5.86293536e-08, -3.61674650e-09, -2.28497314e-08,\n",
       "         4.60724778e-09, -1.32893674e-07]], dtype=float64), smoother_input_scale=Array([[0.36787959, 0.36787944, 0.11163116, 0.07453811, 0.36787945,\n",
       "        0.36787941, 0.36787943, 0.36787943, 0.36787944, 0.36787943,\n",
       "        0.36787932]], dtype=float64), Z_levels=Array([[-1.67728313, -1.4980315 , -1.31877986, -0.9602766 , -0.60177334,\n",
       "        -0.24327007,  0.11523319,  0.47373646,  0.65298809,  0.83223972,\n",
       "         0.92186554,  1.01149135,  1.10111717,  1.19074298]],      dtype=float64))"
      ]
     },
     "execution_count": 81,
     "metadata": {},
     "output_type": "execute_result"
    }
   ],
   "source": [
    "smoother"
   ]
  },
  {
   "cell_type": "code",
   "execution_count": null,
   "metadata": {},
   "outputs": [],
   "source": []
  },
  {
   "cell_type": "code",
   "execution_count": null,
   "metadata": {},
   "outputs": [],
   "source": []
  },
  {
   "cell_type": "code",
   "execution_count": null,
   "metadata": {},
   "outputs": [],
   "source": [
    "plot_interactions(opt_posterior, D_small)\n"
   ]
  },
  {
   "cell_type": "code",
   "execution_count": null,
   "metadata": {},
   "outputs": [],
   "source": [
    "# # choose inducing inputs and init SVGP\n",
    "# num_inducing = 10\n",
    "# #z = jr.normal(key, (num_inducing , num_variables)) # allow this\n",
    "# z = opt_posterior.smoother.smooth_data(D_small)[0][:num_inducing] # need space filling deisng\n",
    "\n",
    "# # from scipy.stats import qmc\n",
    "# # sampler = qmc.Halton(d=num_variables, scramble=False, seed=1234)\n",
    "# # z_box = sampler.random(n=num_inducing)\n",
    "# # v = 0.5 + (1 - 1e-10) * (z_box - 0.5)\n",
    "# # z = jax.scipy.special.erfinv(2 * v - 1) * jnp.sqrt(2)\n",
    "\n",
    "\n",
    "\n",
    "# init_posterior_at_inducing = opt_posterior.predict(z, D_small)\n",
    "# D_full = VerticalDataset(\n",
    "#     X2d = X2d[:N_train,:],\n",
    "#     X3d = X3d[:N_train,:,:],\n",
    "#     Xstatic = Xstatic[:N_train,:],\n",
    "#     y=Y[:N_train,:],\n",
    "# )\n",
    "# # todo try whitening ?\n",
    "# q = CustomVariationalGaussian(\n",
    "#     posterior=opt_posterior, \n",
    "#     inducing_inputs=z,\n",
    "#     variational_mean= init_posterior_at_inducing.mean()[:,None],\n",
    "#     variational_root_covariance= jnp.eye(num_inducing, dtype=jnp.float64)#jnp.linalg.cholesky(init_posterior_at_inducing.covariance() + 1e-3 * jnp.eye(num_inducing)), # todo check this is right!\n",
    "# )\n",
    "\n",
    "# #q = q.replace_trainable(inducing_inputs=False)\n",
    "# # q = q.replace_trainable(variational_mean=False)\n",
    "# # q = q.replace_trainable(variational_root_covariance=False)\n",
    "\n",
    "# objective = jax.jit(CustomELBO(negative=True))\n",
    "\n",
    "# optim_pytree = q.replace(\n",
    "#     posterior = ox.adamw(1e-1), \n",
    "#     variational_mean = ox.adamw(1e-2),\n",
    "#     variational_root_covariance = ox.adamw(1e-2), \n",
    "#     inducing_inputs= ox.adamw(1e-1),\n",
    "#     )\n",
    "\n",
    "# optim = optim_builder(optim_pytree)\n",
    "\n",
    "# opt_q, history = gpx.fit(\n",
    "#     model=q,\n",
    "#     objective=objective,\n",
    "#     train_data=D_full,\n",
    "#     optim=optim,\n",
    "#     num_iters=1000,\n",
    "#     key=jr.PRNGKey(42),\n",
    "#     batch_size=512,\n",
    "#     safe=False,\n",
    "# )\n",
    "\n",
    "# plt.figure()\n",
    "# plt.plot(jnp.log(history))\n",
    "# plot_params(opt_q, title=\"full fit\")"
   ]
  },
  {
   "cell_type": "markdown",
   "metadata": {},
   "source": []
  },
  {
   "cell_type": "code",
   "execution_count": null,
   "metadata": {},
   "outputs": [],
   "source": [
    "# plot_interactions(opt_q, D_small)"
   ]
  }
 ],
 "metadata": {
  "kernelspec": {
   "display_name": "gpjax",
   "language": "python",
   "name": "python3"
  },
  "language_info": {
   "codemirror_mode": {
    "name": "ipython",
    "version": 3
   },
   "file_extension": ".py",
   "mimetype": "text/x-python",
   "name": "python",
   "nbconvert_exporter": "python",
   "pygments_lexer": "ipython3",
   "version": "3.10.13"
  },
  "orig_nbformat": 4
 },
 "nbformat": 4,
 "nbformat_minor": 2
}
