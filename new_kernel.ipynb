{
 "cells": [
  {
   "cell_type": "code",
   "execution_count": 1,
   "metadata": {},
   "outputs": [],
   "source": [
    "import jax\n",
    "# Enable Float64 for more stable matrix inversions.\n",
    "jax.config.update(\"jax_enable_x64\", True)\n",
    "\n",
    "from dataclasses import dataclass\n",
    "import warnings\n",
    "from typing import List, Union\n",
    "\n",
    "import cola\n",
    "\n",
    "import jax.numpy as jnp\n",
    "import jax.random as jr\n",
    "from jaxtyping import (\n",
    "    Array,\n",
    "    Float,\n",
    "    install_import_hook,\n",
    "    Num,\n",
    ")\n",
    "import tensorflow_probability.substrates.jax.bijectors as tfb\n",
    "\n",
    "with install_import_hook(\"gpjax\", \"beartype.beartype\"):\n",
    "    import gpjax as gpx\n",
    "from gpjax.typing import (\n",
    "    Array,\n",
    "    ScalarInt,\n",
    "    ScalarFloat,\n",
    ")\n",
    "from gpjax.distributions import GaussianDistribution\n",
    "\n",
    "import matplotlib.pyplot as plt\n"
   ]
  },
  {
   "cell_type": "code",
   "execution_count": 2,
   "metadata": {},
   "outputs": [],
   "source": [
    "# prepare some plotting utilities\n",
    "x1_plot, x2_plot = jnp.meshgrid(jnp.linspace(-1.5,1.5,50), jnp.linspace(-1.5,1.5,50))\n",
    "xplot2d = jnp.stack([x1_plot.reshape(-1), x2_plot.reshape(-1)]).T # [2500, 2]\n",
    "xplot1d = jnp.stack([jnp.linspace(-1.5,1.5,50), jnp.linspace(-1.5,1.5,50)]).T # [50, 2]\n",
    "def contour_plot(Z, ax):\n",
    "    Z = Z.reshape(50, 50)\n",
    "    cp = ax.contourf(x1_plot, x2_plot, Z)\n",
    "    ax.scatter(X[:,0], X[:,1], c=\"red\", marker=\"x\", label=\"data\")\n",
    "    ax.set_xlim(-1.5,1.5)\n",
    "    ax.set_ylim(-1.5,1.5)"
   ]
  },
  {
   "cell_type": "code",
   "execution_count": 3,
   "metadata": {},
   "outputs": [
    {
     "data": {
      "image/png": "[encoded data removed]",
      "text/plain": [
       "<Figure size 640x480 with 1 Axes>"
      ]
     },
     "metadata": {},
     "output_type": "display_data"
    }
   ],
   "source": [
    "# ground truth function\n",
    "def f(x): \n",
    "    return (x[:,0:1]**2 - 2*x[:,1:2] + jnp.cos(3*x[:,0:1])*jnp.sin(5*x[:,1:2]))\n",
    "\n",
    "# simulate a noisy dataset of 50 noisy observations\n",
    "n, noise = 50, 0.01\n",
    "X = jr.normal(jr.PRNGKey(12345), shape=(n,2)) \n",
    "y = f(X) + jr.normal(jr.PRNGKey(12345), shape= (n, 1)) * noise\n",
    "D = gpx.Dataset(X=X, y=y)\n",
    "\n",
    "# plot the ground truth function\n",
    "fig, ax = plt.subplots()\n",
    "contour_plot(f(xplot2d), ax)"
   ]
  },
  {
   "cell_type": "code",
   "execution_count": 11,
   "metadata": {},
   "outputs": [],
   "source": [
    "@dataclass\n",
    "class EponentiationKernel(gpx.kernels.AbstractKernel):\n",
    "    base_kernel: gpx.kernels.RBF = None\n",
    "    def __call__(self,x: Float[Array, \" D\"],y: Float[Array, \" D\"]) -> ScalarFloat:\n",
    "        return jnp.exp(self.base_kernel.variance)*(jnp.exp(self.base_kernel(x, y)) - 1.0)\n",
    "\n",
    "\n",
    "\n",
    "\n",
    "\n",
    "\n",
    "\n",
    "\n",
    "\n",
    "\n",
    "\n"
   ]
  },
  {
   "cell_type": "code",
   "execution_count": null,
   "metadata": {},
   "outputs": [],
   "source": []
  },
  {
   "cell_type": "code",
   "execution_count": null,
   "metadata": {},
   "outputs": [],
   "source": []
  },
  {
   "cell_type": "code",
   "execution_count": null,
   "metadata": {},
   "outputs": [],
   "source": []
  },
  {
   "cell_type": "code",
   "execution_count": null,
   "metadata": {},
   "outputs": [],
   "source": []
  },
  {
   "cell_type": "code",
   "execution_count": null,
   "metadata": {},
   "outputs": [],
   "source": []
  },
  {
   "cell_type": "code",
   "execution_count": null,
   "metadata": {},
   "outputs": [],
   "source": []
  },
  {
   "cell_type": "code",
   "execution_count": null,
   "metadata": {},
   "outputs": [],
   "source": []
  },
  {
   "cell_type": "code",
   "execution_count": null,
   "metadata": {},
   "outputs": [],
   "source": []
  },
  {
   "cell_type": "code",
   "execution_count": null,
   "metadata": {},
   "outputs": [],
   "source": []
  }
 ],
 "metadata": {
  "kernelspec": {
   "display_name": "gpjax",
   "language": "python",
   "name": "python3"
  },
  "language_info": {
   "codemirror_mode": {
    "name": "ipython",
    "version": 3
   },
   "file_extension": ".py",
   "mimetype": "text/x-python",
   "name": "python",
   "nbconvert_exporter": "python",
   "pygments_lexer": "ipython3",
   "version": "3.10.0"
  }
 },
 "nbformat": 4,
 "nbformat_minor": 2
}
