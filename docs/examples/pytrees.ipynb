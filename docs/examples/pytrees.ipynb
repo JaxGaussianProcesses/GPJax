{
 "cells": [
  {
   "cell_type": "markdown",
   "id": "84c6c887",
   "metadata": {},
   "source": [
    "# Guide to PyTrees\n",
    "## Immutable strucutres (Dan)\n",
    "\n",
    "- Intro to PyTrees\n",
    "- Why PyTrees\n",
    "- Diagrams labelling the components of a PyTree\n",
    "\n",
    "## Operations on PyTrees (Tom)\n",
    "\n",
    "- Import the RBF kernel\n",
    "   - Computing gradients\n",
    "   - Squaring the leaves\n",
    "   - Adding two PyTrees\n",
    "\n",
    "## Writing your own PyTree\n",
    "\n",
    "- Give an example of creating the `Constant` mean function\n",
    "    - Demonstrate fixing the mean vs. learning it\n",
    "    - Transforming the parameter's value\n",
    "    - Changing the bijection"
   ]
  }
 ],
 "metadata": {
  "jupytext": {
   "cell_metadata_filter": "-all",
   "main_language": "python",
   "notebook_metadata_filter": "-all"
  }
 },
 "nbformat": 4,
 "nbformat_minor": 5
}
