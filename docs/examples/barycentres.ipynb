{
 "cells": [
  {
   "cell_type": "markdown",
   "id": "e1fa004d",
   "metadata": {},
   "source": [
    "# Gaussian Processes Barycentres\n",
    "\n",
    "In this notebook we'll give an implementation of\n",
    "<strong data-cite=\"mallasto2017learning\"></strong>. In this work, the existence of a\n",
    "Wasserstein barycentre between a collection of Gaussian processes is proven. When\n",
    "faced with trying to _average_ a set of probability distributions, the Wasserstein\n",
    "barycentre is an attractive choice as it enables uncertainty amongst the individual\n",
    "distributions to be incorporated into the averaged distribution. When compared to a\n",
    "naive _mean of means_ and _mean of variances_ approach to computing the average\n",
    "probability distributions, it can be seen that Wasserstein barycentres offer\n",
    "significantly more favourable uncertainty estimation.\n"
   ]
  },
  {
   "cell_type": "code",
   "execution_count": null,
   "id": "74043851",
   "metadata": {},
   "outputs": [],
   "source": [
    "# Enable Float64 for more stable matrix inversions.\n",
    "from jax.config import config\n",
    "\n",
    "config.update(\"jax_enable_x64\", True)\n",
    "\n",
    "import typing as tp\n",
    "\n",
    "import jax\n",
    "import jax.numpy as jnp\n",
    "import jax.random as jr\n",
    "import jax.scipy.linalg as jsl\n",
    "from jaxtyping import install_import_hook\n",
    "import matplotlib.pyplot as plt\n",
    "import jaxopt\n",
    "import tensorflow_probability.substrates.jax.distributions as tfd\n",
    "\n",
    "with install_import_hook(\"gpjax\", \"beartype.beartype\"):\n",
    "    import gpjax as gpx\n",
    "\n",
    "\n",
    "key = jr.PRNGKey(123)\n",
    "plt.style.use(\n",
    "    \"https://raw.githubusercontent.com/JaxGaussianProcesses/GPJax/main/docs/examples/gpjax.mplstyle\"\n",
    ")\n",
    "cols = plt.rcParams[\"axes.prop_cycle\"].by_key()[\"color\"]"
   ]
  },
  {
   "cell_type": "markdown",
   "id": "516ee1ba",
   "metadata": {},
   "source": [
    "## Background\n",
    "\n",
    "### Wasserstein distance\n",
    "\n",
    "The 2-Wasserstein distance metric between two probability measures $\\mu$ and $\\nu$\n",
    "quantifies the minimal cost required to transport the unit mass from $\\mu$ to $\\nu$,\n",
    "or vice-versa. Typically, computing this metric requires solving a linear program.\n",
    "However, when $\\mu$ and $\\nu$ both belong to the family of multivariate Gaussian\n",
    "distributions, the solution is analytically given by\n",
    "$$W_2^2(\\mu, \\nu) = \\lVert m_1- m_2 \\rVert^2_2 + \\operatorname{Tr}(S_1 + S_2 - 2(S_1^{1/2}S_2S_1^{1/2})^{1/2}),$$\n",
    "where $\\mu \\sim \\mathcal{N}(m_1, S_1)$ and $\\nu\\sim\\mathcal{N}(m_2, S_2)$.\n",
    "\n",
    "### Wasserstein barycentre\n",
    "\n",
    "For a collection of $T$ measures\n",
    "$\\lbrace\\mu_i\\rbrace_{t=1}^T \\in \\mathcal{P}_2(\\theta)$, the Wasserstein barycentre\n",
    "$\\bar{\\mu}$ is the measure that minimises the average Wasserstein distance to all\n",
    "other measures in the set. More formally, the Wasserstein barycentre is the Fréchet\n",
    "mean on a Wasserstein space that we can write as\n",
    "$$\\bar{\\mu} = \\operatorname{argmin}_{\\mu\\in\\mathcal{P}_2(\\theta)}\\sum_{t=1}^T \\alpha_t W_2^2(\\mu, \\mu_t),$$\n",
    "where $\\alpha\\in\\mathbb{R}^T$ is a weight vector that sums to 1.\n",
    "\n",
    "As with the Wasserstein distance, identifying the Wasserstein barycentre $\\bar{\\mu}$\n",
    "is often an computationally demanding optimisation problem. However, when all the\n",
    "measures admit a multivariate Gaussian density, the barycentre\n",
    "$\\bar{\\mu} = \\mathcal{N}(\\bar{m}, \\bar{S})$ has analytical solutions\n",
    "$$\\bar{m} = \\sum_{t=1}^T \\alpha_t m_t\\,, \\quad \\bar{S}=\\sum_{t=1}^T\\alpha_t (\\bar{S}^{1/2}S_t\\bar{S}^{1/2})^{1/2}\\,. \\qquad (\\star)$$\n",
    "Identifying $\\bar{S}$ is achieved through a fixed-point iterative update.\n",
    "\n",
    "## Barycentre of Gaussian processes\n",
    "\n",
    "It was shown in <strong data-cite=\"mallasto2017learning\"></strong> that the\n",
    "barycentre $\\bar{f}$ of a collection of Gaussian processes\n",
    "$\\lbrace f_i\\rbrace_{i=1}^T$ such that $f_i \\sim \\mathcal{GP}(m_i, K_i)$ can be\n",
    "found using the same solutions as in $(\\star)$. For a full theoretical understanding,\n",
    "we recommend reading the original paper. However, the central argument to this result\n",
    "is that one can first show that the barycentre GP\n",
    "$\\bar{f}\\sim\\mathcal{GP}(\\bar{m}, \\bar{S})$ is non-degenerate for any finite set of\n",
    "GPs $\\lbrace f_t\\rbrace_{t=1}^T$ i.e., $T<\\infty$. With this established, one can\n",
    "show that for a $n$-dimensional finite Gaussian distribution $f_{i,n}$, the\n",
    "Wasserstein metric between any two Gaussian distributions $f_{i, n}, f_{j, n}$\n",
    "converges to the Wasserstein metric between GPs as $n\\to\\infty$.\n",
    "\n",
    "In this notebook, we will demonstrate how this can be achieved in GPJax.\n",
    "\n",
    "## Dataset\n",
    "\n",
    "We'll simulate five datasets and develop a Gaussian process posterior before\n",
    "identifying the Gaussian process barycentre at a set of test points. Each dataset\n",
    "will be a sine function with a different vertical shift, periodicity, and quantity\n",
    "of noise."
   ]
  },
  {
   "cell_type": "code",
   "execution_count": null,
   "id": "688925e0",
   "metadata": {},
   "outputs": [],
   "source": [
    "n = 100\n",
    "n_test = 200\n",
    "n_datasets = 5\n",
    "\n",
    "x = jnp.linspace(-5.0, 5.0, n).reshape(-1, 1)\n",
    "xtest = jnp.linspace(-5.5, 5.5, n_test).reshape(-1, 1)\n",
    "f = lambda x, a, b: a + jnp.sin(b * x)\n",
    "\n",
    "ys = []\n",
    "for _i in range(n_datasets):\n",
    "    key, subkey = jr.split(key)\n",
    "    vertical_shift = jr.uniform(subkey, minval=0.0, maxval=2.0)\n",
    "    period = jr.uniform(subkey, minval=0.75, maxval=1.25)\n",
    "    noise_amount = jr.uniform(subkey, minval=0.01, maxval=0.5)\n",
    "    noise = jr.normal(subkey, shape=x.shape) * noise_amount\n",
    "    ys.append(f(x, vertical_shift, period) + noise)\n",
    "\n",
    "y = jnp.hstack(ys)\n",
    "\n",
    "fig, ax = plt.subplots()\n",
    "ax.plot(x, y, \"x\")\n",
    "plt.show()"
   ]
  },
  {
   "cell_type": "markdown",
   "id": "4c7a1bda",
   "metadata": {
    "lines_to_next_cell": 2
   },
   "source": [
    "## Learning a posterior distribution\n",
    "\n",
    "We'll now independently learn Gaussian process posterior distributions for each\n",
    "dataset. We won't spend any time here discussing how GP hyperparameters are\n",
    "optimised. For advice on achieving this, see the\n",
    "[Regression notebook](https://docs.jaxgaussianprocesses.com/examples/regression/)\n",
    "for advice on optimisation and the\n",
    "[Kernels notebook](https://docs.jaxgaussianprocesses.com/examples/constructing_new_kernels/) for\n",
    "advice on selecting an appropriate kernel."
   ]
  },
  {
   "cell_type": "code",
   "execution_count": null,
   "id": "2dfc4e75",
   "metadata": {},
   "outputs": [],
   "source": [
    "def fit_gp(x: jax.Array, y: jax.Array) -> tfd.MultivariateNormalFullCovariance:\n",
    "    if y.ndim == 1:\n",
    "        y = y.reshape(-1, 1)\n",
    "    D = gpx.Dataset(X=x, y=y)\n",
    "\n",
    "    likelihood = gpx.Gaussian(num_datapoints=n)\n",
    "    posterior = gpx.Prior(mean_function=gpx.Constant(), kernel=gpx.RBF()) * likelihood\n",
    "    opt_posterior, _ = gpx.fit(\n",
    "        model=posterior,\n",
    "        train_data=D,\n",
    "        solver=jaxopt.LBFGS(gpx.ConjugateMLL(negative=True), maxiter=500),\n",
    "        key=key,\n",
    "    )\n",
    "    latent_dist = opt_posterior.predict(xtest, train_data=D)\n",
    "    return opt_posterior.likelihood(latent_dist)\n",
    "\n",
    "\n",
    "posterior_preds = [fit_gp(x, i) for i in ys]"
   ]
  },
  {
   "cell_type": "markdown",
   "id": "d6ac3f91",
   "metadata": {
    "lines_to_next_cell": 2
   },
   "source": [
    "## Computing the barycentre\n",
    "\n",
    "In GPJax, the predictive distribution of a GP is given by a\n",
    "[TensorFlow Probability](https://www.tensorflow.org/probability/api_docs/python/tfp/substrates/jax)\n",
    "distribution, making it\n",
    "straightforward to extract the mean vector and covariance matrix of each GP for\n",
    "learning a barycentre. We implement the fixed point scheme given in (3) in the\n",
    "following cell by utilising Jax's `vmap` operator to speed up large matrix operations\n",
    "using broadcasting in `tensordot`."
   ]
  },
  {
   "cell_type": "code",
   "execution_count": null,
   "id": "e1ee7d96",
   "metadata": {},
   "outputs": [],
   "source": [
    "def sqrtm(A: jax.Array):\n",
    "    return jnp.real(jsl.sqrtm(A))\n",
    "\n",
    "\n",
    "def wasserstein_barycentres(\n",
    "    distributions: tp.List[tfd.MultivariateNormalFullCovariance], weights: jax.Array\n",
    "):\n",
    "    covariances = [d.covariance() for d in distributions]\n",
    "    cov_stack = jnp.stack(covariances)\n",
    "    stack_sqrt = jax.vmap(sqrtm)(cov_stack)\n",
    "\n",
    "    def step(covariance_candidate: jax.Array, idx: None):\n",
    "        inner_term = jax.vmap(sqrtm)(\n",
    "            jnp.matmul(jnp.matmul(stack_sqrt, covariance_candidate), stack_sqrt)\n",
    "        )\n",
    "        fixed_point = jnp.tensordot(weights, inner_term, axes=1)\n",
    "        return fixed_point, fixed_point\n",
    "\n",
    "    return step"
   ]
  },
  {
   "cell_type": "markdown",
   "id": "124a7863",
   "metadata": {},
   "source": [
    "With a function defined for learning a barycentre, we'll now compute it using the\n",
    "`lax.scan` operator that drastically speeds up for loops in Jax (see the\n",
    "[Jax documentation](https://jax.readthedocs.io/en/latest/_autosummary/jax.lax.scan.html)).\n",
    "The iterative update will be executed 100 times, with convergence measured by the\n",
    "difference between the previous and current iteration that we can confirm by\n",
    "inspecting the `sequence` array in the following cell."
   ]
  },
  {
   "cell_type": "code",
   "execution_count": null,
   "id": "f04e3d34",
   "metadata": {},
   "outputs": [],
   "source": [
    "weights = jnp.ones((n_datasets,)) / n_datasets\n",
    "\n",
    "means = jnp.stack([d.mean() for d in posterior_preds])\n",
    "barycentre_mean = jnp.tensordot(weights, means, axes=1)\n",
    "\n",
    "step_fn = jax.jit(wasserstein_barycentres(posterior_preds, weights))\n",
    "initial_covariance = jnp.eye(n_test)\n",
    "\n",
    "barycentre_covariance, sequence = jax.lax.scan(\n",
    "    step_fn, initial_covariance, jnp.arange(100)\n",
    ")\n",
    "L = jnp.linalg.cholesky(barycentre_covariance)\n",
    "\n",
    "barycentre_process = tfd.MultivariateNormalTriL(barycentre_mean, L)"
   ]
  },
  {
   "cell_type": "markdown",
   "id": "6dba8bc3",
   "metadata": {
    "lines_to_next_cell": 2
   },
   "source": [
    "## Plotting the result\n",
    "\n",
    "With a barycentre learned, we can visualise the result. We can see that the result\n",
    "looks reasonable as it follows the sinusoidal curve of all the inferred GPs, and the\n",
    "uncertainty bands are sensible."
   ]
  },
  {
   "cell_type": "code",
   "execution_count": null,
   "id": "6f4e1d48",
   "metadata": {},
   "outputs": [],
   "source": [
    "def plot(\n",
    "    dist: tfd.MultivariateNormalTriL,\n",
    "    ax,\n",
    "    color: str,\n",
    "    label: str = None,\n",
    "    ci_alpha: float = 0.2,\n",
    "    linewidth: float = 1.0,\n",
    "    zorder: int = 0,\n",
    "):\n",
    "    mu = dist.mean()\n",
    "    sigma = dist.stddev()\n",
    "    ax.plot(xtest, mu, linewidth=linewidth, color=color, label=label, zorder=zorder)\n",
    "    ax.fill_between(\n",
    "        xtest.squeeze(),\n",
    "        mu - sigma,\n",
    "        mu + sigma,\n",
    "        alpha=ci_alpha,\n",
    "        color=color,\n",
    "        zorder=zorder,\n",
    "    )\n",
    "\n",
    "\n",
    "fig, ax = plt.subplots()\n",
    "[plot(d, ax, color=cols[1], ci_alpha=0.1) for d in posterior_preds]\n",
    "plot(\n",
    "    barycentre_process,\n",
    "    ax,\n",
    "    color=cols[0],\n",
    "    label=\"Barycentre\",\n",
    "    ci_alpha=0.5,\n",
    "    linewidth=2,\n",
    "    zorder=1,\n",
    ")\n",
    "ax.legend()"
   ]
  },
  {
   "cell_type": "markdown",
   "id": "375695b8",
   "metadata": {},
   "source": [
    "## Displacement interpolation\n",
    "\n",
    "In the above example, we assigned uniform weights to each of the posteriors within\n",
    "the barycentre. In practice, we may have prior knowledge of which posterior is most\n",
    "likely to be the correct one. Regardless of the weights chosen, the barycentre\n",
    "remains a Gaussian process. We can interpolate between a pair of posterior\n",
    "distributions $\\mu_1$ and $\\mu_2$ to visualise the corresponding barycentre\n",
    "$\\bar{\\mu}$.\n",
    "\n",
    "![](barycentre_gp.gif)"
   ]
  },
  {
   "cell_type": "markdown",
   "id": "3357c374",
   "metadata": {},
   "source": [
    "## System configuration"
   ]
  },
  {
   "cell_type": "code",
   "execution_count": null,
   "id": "0832f02c",
   "metadata": {},
   "outputs": [],
   "source": [
    "%reload_ext watermark\n",
    "%watermark -n -u -v -iv -w -a 'Thomas Pinder'"
   ]
  }
 ],
 "metadata": {
  "jupytext": {
   "cell_metadata_filter": "-all",
   "main_language": "python",
   "notebook_metadata_filter": "-all"
  }
 },
 "nbformat": 4,
 "nbformat_minor": 5
}
