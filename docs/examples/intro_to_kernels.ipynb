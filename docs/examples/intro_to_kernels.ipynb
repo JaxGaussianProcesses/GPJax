{
 "cells": [
  {
   "cell_type": "markdown",
   "id": "ab1e3df7",
   "metadata": {},
   "source": [
    "# Introduction to Kernels"
   ]
  },
  {
   "cell_type": "markdown",
   "id": "bb506a1f",
   "metadata": {},
   "source": [
    "In this guide we provide an introduction to kernels, and the role they play in Gaussian process models."
   ]
  },
  {
   "cell_type": "code",
   "execution_count": null,
   "id": "13431cfb",
   "metadata": {},
   "outputs": [],
   "source": [
    "# Enable Float64 for more stable matrix inversions.\n",
    "from jax.config import config\n",
    "\n",
    "config.update(\"jax_enable_x64\", True)\n",
    "\n",
    "from jax import jit\n",
    "import jax.numpy as jnp\n",
    "import jax.random as jr\n",
    "from jaxtyping import install_import_hook, Float\n",
    "import matplotlib as mpl\n",
    "import matplotlib.pyplot as plt\n",
    "import jaxopt\n",
    "import pandas as pd\n",
    "from docs.examples.utils import clean_legend\n",
    "\n",
    "with install_import_hook(\"gpjax\", \"beartype.beartype\"):\n",
    "    import gpjax as gpx\n",
    "from gpjax.typing import Array\n",
    "from sklearn.preprocessing import StandardScaler\n",
    "\n",
    "key = jr.PRNGKey(42)\n",
    "plt.style.use(\n",
    "    \"https://raw.githubusercontent.com/JaxGaussianProcesses/GPJax/main/docs/examples/gpjax.mplstyle\"\n",
    ")\n",
    "cols = mpl.rcParams[\"axes.prop_cycle\"].by_key()[\"color\"]"
   ]
  },
  {
   "cell_type": "markdown",
   "id": "e136e55d",
   "metadata": {},
   "source": [
    "Using Gaussian Processes (GPs) to model functions can offer several advantages over alternative methods, such as deep neural networks. One key advantage is their rich quantification of uncertainty; not only do they provide *point estimates* for the values taken by a function throughout its domain, but they provide a full predictive posterior *distribution* over the range of values the function may take. This rich quantification of uncertainty is useful in many applications, such as Bayesian optimisation, which relies on being able to make *uncertainty-aware* decisions.\n",
    "\n",
    "However, another advantage of GPs is the ability for one to place *priors* on the functions being modelled. For instance, one may know that the underlying function being modelled observes certain characteristics, such as being *periodic* or having a certain level of *smoothness*. The *kernel*, or *covariance function*, is the primary means through which one is able to encode such prior knowledge about the function being modelled. This enables one to equip the GP with inductive biases which enable it to learn from data more efficiently, whilst generalising to unseen data more effectively.\n",
    "\n",
    "In this notebook we'll develop some intuition for what kinds of priors are encoded through the use of different kernels, and how this can be useful when modelling different types of functions."
   ]
  },
  {
   "cell_type": "markdown",
   "id": "abd9436b",
   "metadata": {},
   "source": [
    "## What is a Kernel?\n",
    "\n",
    "Intuitively, for a function $f$, the kernel defines the notion of *similarity* between\n",
    "the value of the function at two points, $f(\\mathbf{x})$ and $f(\\mathbf{x}')$, and\n",
    "will be denoted as $k(\\mathbf{x}, \\mathbf{x}')$:\n",
    "\n",
    "$$\\begin{aligned} k(\\mathbf{x}, \\mathbf{x}') &= \\text{Cov}[f(\\mathbf{x}),\n",
    "f(\\mathbf{x}')] \\\\ &= \\mathbb{E}[(f(\\mathbf{x}) - \\mathbb{E}[f(\\mathbf{x})])(f(\\mathbf{x}') - \\mathbb{E}[f(\\mathbf{x}')])] \\end{aligned}$$\n",
    "\n",
    " One would expect that, given a previously unobserved test point $\\mathbf{x}^*$, the\n",
    " training points which are *closest* to this unobserved point will be most similar to\n",
    " it. As such, the kernel is used to define this notion of similarity within the GP\n",
    " framework. It is up to the user to select a kernel function which is appropriate for\n",
    " the function being modelled. In this notebook we are going to give some examples of\n",
    " commonly used kernels, and try to develop an understanding of when one may wish to use\n",
    " one kernel over another. However, before we do this, it is worth discussing the\n",
    " necessary conditions for a function to be a valid kernel/covariance function. This\n",
    " requires a little bit of maths, so for those of you who just wish to obtain an\n",
    " intuitive understanding, feel free to skip to the section introducing the Matérn\n",
    " family of kernels.\n",
    "\n",
    "### What are the necessary conditions for a function to be a valid kernel?\n",
    "\n",
    "Whilst intuitively the kernel function is used to define the notion of similarity within\n",
    "the GP framework, it is important to note that there are two *necessary conditions*\n",
    "that a kernel function must satisfy in order to be a valid covariance function. For\n",
    "clarity, we will refer to *any* function mapping two inputs to a scalar output as a\n",
    "*kernel function*, and we will refer to a *valid* kernel function satisfying the two\n",
    "necessary conditions as a *covariance function*. However, it is worth noting that the\n",
    "GP community often uses the terms *kernel function* and *covariance function*\n",
    "interchangeably.\n",
    "\n",
    "The first necessary condition is that the covariance function must be *symmetric*, i.e.\n",
    "$k(\\mathbf{x}, \\mathbf{x}') = k(\\mathbf{x}', \\mathbf{x})$. This is because the\n",
    "covariance between two random variables $X$ and $X'$ is symmetric; if one looks at the\n",
    "definition of covariance given above, it is clear that it is invariant to swapping the\n",
    "order of the inputs $\\mathbf{x}$ and $\\mathbf{x}'$.\n",
    "\n",
    "The second necessary condition is that the covariance function must be *positive\n",
    "semi-definite* (PSD). In order to understand this condition, it is useful to first\n",
    "introduce the concept of a *Gram matrix*. We'll use the same notation as the [GP introduction\n",
    "notebook](https://docs.jaxgaussianprocesses.com/examples/intro_to_gps/), and denote\n",
    "$n$ input points as $\\mathbf{X} = \\{\\mathbf{x}_1, \\ldots, \\mathbf{x}_n\\}$. Given these\n",
    "input points and a kernel function $k$ the *Gram matrix* stores the pairwise kernel\n",
    "evaluations between all input points. Mathematically, this leads to the Gram matrix being defined as:\n",
    "\n",
    "$$K(\\mathbf{X}, \\mathbf{X}) = \\begin{bmatrix} k(\\mathbf{x}_1, \\mathbf{x}_1) & \\cdots & k(\\mathbf{x}_1, \\mathbf{x}_n) \\\\ \\vdots & \\ddots & \\vdots \\\\ k(\\mathbf{x}_n, \\mathbf{x}_1) & \\cdots & k(\\mathbf{x}_n, \\mathbf{x}_n) \\end{bmatrix}$$\n",
    "\n",
    "such that $K(\\mathbf{X}, \\mathbf{X})_{ij} = k(\\mathbf{x}_i, \\mathbf{x}_j)$.\n",
    "\n",
    "In order for $k$ to be a valid covariance function, the corresponding Gram matrix\n",
    "must be *positive semi-definite*. In this case the Gram matrix is referred to as a\n",
    "*covariance matrix*. A real $n \\times n$ matrix $K$ is positive semi-definite if and\n",
    "only if for all vectors $\\mathbf{z} \\in \\mathbb{R}^n$:\n",
    "\n",
    "$$\\mathbf{z}^\\top K \\mathbf{z} \\geq 0$$\n",
    "\n",
    "Alternatively, a real $n \\times n$ matrix $K$ is positive semi-definite if and only if\n",
    "all of its eigenvalues are non-negative.\n",
    "\n",
    "Therefore, the two necessary conditions for a function to be a valid covariance function\n",
    "are that it must be *symmetric* and *positive semi-definite*. In this section we have\n",
    "referred to *any* function from two inputs to a scalar output as a *kernel function*,\n",
    "with its corresponding matrix of pairwise evaluations referred to as the *Gram matrix*,\n",
    "and a function satisfying the two necessary conditions as a *covariance function*, with\n",
    "its corresponding matrix of pairwise evaluations referred to as the *covariance matrix*.\n",
    "This enabled us to easily define the necessary conditions for a function to be a valid\n",
    "covariance function. However, as noted previously, the GP community often uses these\n",
    "terms interchangeably, and so we will for the remainder of this notebook.\n"
   ]
  },
  {
   "cell_type": "markdown",
   "id": "36100825",
   "metadata": {},
   "source": [
    "## Introducing a Common Family of Kernels - The Matérn Family"
   ]
  },
  {
   "cell_type": "markdown",
   "id": "f26bac1d",
   "metadata": {},
   "source": [
    "One of the most widely used families of kernels is the Matérn family ([Matérn, 1960](https://core.ac.uk/download/pdf/11698705.pdf)). These kernels take on the following form:\n",
    "\n",
    "$$k_{\\nu}(\\mathbf{x}, \\mathbf{x'}) = \\sigma^2 \\frac{2^{1 - \\nu}}{\\Gamma(\\nu)}\\left(\\sqrt{2\\nu} \\frac{|\\mathbf{x} - \\mathbf{x'}|}{\\kappa}\\right)^{\\nu} K_{\\nu} \\left(\\sqrt{2\\nu} \\frac{|\\mathbf{x} - \\mathbf{x'}|}{\\kappa}\\right)$$\n",
    "\n",
    "where $K_{\\nu}$ is a modified Bessel function, $\\nu$, $\\kappa$ and $\\sigma^2$ are\n",
    "hyperparameters specifying the mean-square differentiability, lengthscale and\n",
    "variability respectively, and $|\\cdot|$ is used to denote the Euclidean norm. Note that\n",
    "for those of you less interested in the mathematical underpinnings of kernels, it isn't\n",
    "necessary to understand the exact functional form of the Matérn kernels to\n",
    "gain an understanding of how they behave. The key takeaway is that they are\n",
    "parameterised by several hyperparameters, and that these hyperparameters dictate the\n",
    "behaviour of functions sampled from the corresponding GP. The plots below will provide\n",
    "some more intuition for how these hyperparameters affect the behaviour of functions\n",
    "sampled from the corresponding GP.\n",
    "\n",
    "\n",
    "Some commonly used Matérn kernels use half-integer values of $\\nu$, such as $\\nu = 1/2$\n",
    "or $\\nu = 3/2$. The fraction is sometimes omitted when naming the kernel, so that $\\nu =\n",
    "1/2$ is referred to as the Matérn12 kernel, and $\\nu = 3/2$ is referred to as the\n",
    "Matérn32 kernel. When $\\nu$ takes in a half-integer value, $\\nu = k + 1/2$, the kernel\n",
    "can be expressed as the product of a polynomial of order $k$ and an exponential:\n",
    "\n",
    "$$k_{k + 1/2}(\\mathbf{x}, \\mathbf{x'}) = \\sigma^2\n",
    "\\exp\\left(-\\frac{\\sqrt{2\\nu}|\\mathbf{x} - \\mathbf{x'}|}{\\kappa}\\right)\n",
    "\\frac{\\Gamma(k+1)}{\\Gamma(2k+1)} \\times \\sum_{i= 0}^k \\frac{(k+i)!}{i!(k-i)!}\n",
    "\\left(\\frac{(\\sqrt{8\\nu}|\\mathbf{x} - \\mathbf{x'}|)}{\\kappa}\\right)^{k-i}$$\n",
    "\n",
    "In the limit of $\\nu \\to \\infty$ this yields the *squared-exponential*, or *radial basis function (RBF)*, kernel, which is infinitely mean-square differentiable:\n",
    "\n",
    "$$k_{\\infty}(\\mathbf{x}, \\mathbf{x'}) = \\sigma^2 \\exp\\left(-\\frac{|\\mathbf{x} - \\mathbf{x'}|^2}{2\\kappa^2}\\right)$$\n",
    "\n",
    "But what kind of functions does this kernel encode prior knowledge about? Let's take a look at some samples from GP priors defined used Matérn kernels with different values of $\\nu$:"
   ]
  },
  {
   "cell_type": "code",
   "execution_count": null,
   "id": "bb605d7a",
   "metadata": {
    "lines_to_next_cell": 2
   },
   "outputs": [],
   "source": [
    "kernels = [\n",
    "    gpx.kernels.Matern12(),\n",
    "    gpx.kernels.Matern32(),\n",
    "    gpx.kernels.Matern52(),\n",
    "    gpx.kernels.RBF(),\n",
    "]\n",
    "fig, axes = plt.subplots(ncols=2, nrows=2, figsize=(7, 6), tight_layout=True)\n",
    "\n",
    "x = jnp.linspace(-3.0, 3.0, num=200).reshape(-1, 1)\n",
    "\n",
    "meanf = gpx.mean_functions.Zero()\n",
    "\n",
    "for k, ax in zip(kernels, axes.ravel()):\n",
    "    prior = gpx.Prior(mean_function=meanf, kernel=k)\n",
    "    rv = prior(x)\n",
    "    y = rv.sample(seed=key, sample_shape=(10,))\n",
    "    ax.plot(x, y.T, alpha=0.7)\n",
    "    ax.set_title(k.name)"
   ]
  },
  {
   "cell_type": "markdown",
   "id": "0cef025f",
   "metadata": {},
   "source": [
    "The plots above clearly show that the choice of $\\nu$ has a large impact on the *smoothness* of the functions being modelled by the GP, with functions drawn from GPs defined with the Matérn kernel becoming increasingly smooth as $\\nu \\to \\infty$. More formally, this notion of smoothness is captured through the mean-square differentiability of the function being modelled. Functions sampled from GPs using a Matérn kernel are $k$-times mean-square differentiable, if and only if $\\nu > k$. For instance, functions sampled from a GP using a Matérn12 kernel are zero times mean-square differentiable, and functions sampled from a GP using the RBF kernel are infinitely mean-square differentiable.\n",
    "\n",
    "As an important aside, a general property of the Matérn family of kernels is that they are examples of *stationary* kernels. This means that they only depend on the *displacement* of the two points being compared, $\\mathbf{x} - \\mathbf{x}'$, and not on their absolute values. This is a useful property to have, as it means that the kernel is invariant to translations in the input space. They also go beyond this, as they only depend on the Euclidean *distance* between the two points being compared, $|\\mathbf{x} - \\mathbf{x}'|$. Kernels which satisfy this property are known as *isotropic* kernels. This makes the function invariant to all rigid motions in the input space, such as rotations."
   ]
  },
  {
   "cell_type": "markdown",
   "id": "922c3395",
   "metadata": {},
   "source": [
    "## Inferring Kernel Hyperparameters"
   ]
  },
  {
   "cell_type": "markdown",
   "id": "0619fac1",
   "metadata": {},
   "source": [
    "Most kernels have several *hyperparameters*, which we denote $\\mathbf{\\theta}$, which encode different assumptions about the underlying function being modelled. For the Matérn family described above, $\\mathbf{\\theta} = \\{\\nu, \\kappa, \\sigma\\}$. A fully Bayesian approach to dealing with hyperparameters would be to place a prior over them, and marginalise over the posterior derived from the data in order to perform predictions. However, this is often computationally very expensive, and so a common approach is to instead *optimise* the hyperparameters by maximising the log marginal likelihood of the data. Given training data $\\mathbf{D} = (\\mathbf{X}, \\mathbf{y})$, assumed to contain some additive Gaussian noise $\\epsilon \\sim \\mathcal{N}(0, \\sigma^2)$, the log marginal likelihood of the dataset is defined as:\n",
    "\n",
    "$$ \\begin{aligned}\n",
    "\\log(p(\\mathbf{y} | \\mathbf{X}, \\boldsymbol{\\theta})) &= \\log\\left(\\int p(\\mathbf{y} | \\mathbf{f}, \\mathbf{X}, \\boldsymbol{\\theta}) p(\\mathbf{f} | \\mathbf{X}, \\boldsymbol{\\theta}) d\\mathbf{f}\\right) \\nonumber \\\\\n",
    "&= - \\frac{1}{2} \\mathbf{y} ^ \\top \\left(K(\\mathbf{X}, \\mathbf{X}) + \\sigma^2 \\mathbf{I} \\right)^{-1} \\mathbf{y} - \\frac{1}{2} \\log |K(\\mathbf{X}, \\mathbf{X}) + \\sigma^2 \\mathbf{I}| - \\frac{n}{2} \\log 2 \\pi\n",
    "\\end{aligned}$$"
   ]
  },
  {
   "cell_type": "markdown",
   "id": "7309d3c9",
   "metadata": {
    "lines_to_next_cell": 2
   },
   "source": [
    "This expression can then be maximised with respect to the hyperparameters using a\n",
    "gradient-based approach such as Adam or L-BFGS. Note that we may choose to fix some\n",
    "hyperparameters, and in GPJax the parameter $\\nu$ is set by the user, and not\n",
    "inferred though optimisation. For more details on using the log marginal likelihood to\n",
    "optimise kernel hyperparameters, see our [GP introduction notebook](https://docs.jaxgaussianprocesses.com/examples/intro_to_gps/#gaussian-process-regression).\n",
    "\n",
    "We'll demonstrate the advantages of being able to infer kernel parameters from the training data by fitting a GP to the widely used [Forrester function](https://www.sfu.ca/~ssurjano/forretal08.html):\n",
    "\n",
    "$$f(x) = (6x - 2)^2 \\sin(12x - 4)$$"
   ]
  },
  {
   "cell_type": "code",
   "execution_count": null,
   "id": "0f0382c0",
   "metadata": {},
   "outputs": [],
   "source": [
    "# Forrester function\n",
    "def forrester(x: Float[Array, \"N\"]) -> Float[Array, \"N\"]:\n",
    "    return (6 * x - 2) ** 2 * jnp.sin(12 * x - 4)\n",
    "\n",
    "\n",
    "n = 5\n",
    "\n",
    "training_x = jr.uniform(key=key, minval=0, maxval=1, shape=(n,)).reshape(-1, 1)\n",
    "training_y = forrester(training_x)\n",
    "D = gpx.Dataset(X=training_x, y=training_y)\n",
    "\n",
    "test_x = jnp.linspace(0, 1, 100).reshape(-1, 1)\n",
    "test_y = forrester(test_x)"
   ]
  },
  {
   "cell_type": "markdown",
   "id": "f0fa5a2d",
   "metadata": {},
   "source": [
    "First we define our model, using the Matérn52 kernel, and construct our posterior *without* optimising the kernel hyperparameters:"
   ]
  },
  {
   "cell_type": "code",
   "execution_count": null,
   "id": "1925b644",
   "metadata": {},
   "outputs": [],
   "source": [
    "mean = gpx.mean_functions.Zero()\n",
    "kernel = gpx.kernels.Matern52(\n",
    "    lengthscale=jnp.array(2.0)\n",
    ")  # Initialise our kernel lengthscale to 2.0\n",
    "\n",
    "prior = gpx.Prior(mean_function=mean, kernel=kernel)\n",
    "\n",
    "likelihood = gpx.Gaussian(\n",
    "    num_datapoints=D.n, obs_noise=jnp.array(1e-6)\n",
    ")  # Our function is noise-free, so we set the observation noise to a very small value\n",
    "likelihood = likelihood.replace_trainable(obs_noise=False)\n",
    "\n",
    "no_opt_posterior = prior * likelihood"
   ]
  },
  {
   "cell_type": "markdown",
   "id": "c0ebcce4",
   "metadata": {},
   "source": [
    "We can then optimise the hyperparameters by minimising the negative log marginal likelihood of the data:"
   ]
  },
  {
   "cell_type": "code",
   "execution_count": null,
   "id": "b2f8e4fc",
   "metadata": {
    "lines_to_next_cell": 2
   },
   "outputs": [],
   "source": [
    "\n",
    "opt_posterior, history = gpx.fit(\n",
    "    model=no_opt_posterior,\n",
    "    train_data=D,\n",
    "    solver=jaxopt.ScipyMinimize(gpx.ConjugateMLL(negative=True)),\n",
    "    safe=True,\n",
    "    key=key,\n",
    ")"
   ]
  },
  {
   "cell_type": "markdown",
   "id": "dfed7339",
   "metadata": {},
   "source": [
    "Having optimised the hyperparameters, we can now make predictions using the posterior\n",
    "with the optimised hyperparameters, and compare them to the predictions made using the\n",
    "posterior with the default hyperparameters:"
   ]
  },
  {
   "cell_type": "code",
   "execution_count": null,
   "id": "74987dc8",
   "metadata": {},
   "outputs": [],
   "source": [
    "opt_latent_dist = opt_posterior.predict(test_x, train_data=D)\n",
    "opt_predictive_dist = opt_posterior.likelihood(opt_latent_dist)\n",
    "\n",
    "opt_predictive_mean = opt_predictive_dist.mean()\n",
    "opt_predictive_std = opt_predictive_dist.stddev()\n",
    "\n",
    "fig, (ax1, ax2) = plt.subplots(2, 1, figsize=(5, 6))\n",
    "ax1.plot(training_x, training_y, \"x\", label=\"Observations\", color=cols[0], alpha=0.5)\n",
    "ax1.fill_between(\n",
    "    test_x.squeeze(),\n",
    "    opt_predictive_mean - 2 * opt_predictive_std,\n",
    "    opt_predictive_mean + 2 * opt_predictive_std,\n",
    "    alpha=0.2,\n",
    "    label=\"Two sigma\",\n",
    "    color=cols[1],\n",
    ")\n",
    "ax1.plot(\n",
    "    test_x,\n",
    "    opt_predictive_mean - 2 * opt_predictive_std,\n",
    "    linestyle=\"--\",\n",
    "    linewidth=1,\n",
    "    color=cols[1],\n",
    ")\n",
    "ax1.plot(\n",
    "    test_x,\n",
    "    opt_predictive_mean + 2 * opt_predictive_std,\n",
    "    linestyle=\"--\",\n",
    "    linewidth=1,\n",
    "    color=cols[1],\n",
    ")\n",
    "ax1.plot(\n",
    "    test_x, test_y, label=\"Latent function\", color=cols[0], linestyle=\"--\", linewidth=2\n",
    ")\n",
    "ax1.plot(test_x, opt_predictive_mean, label=\"Predictive mean\", color=cols[1])\n",
    "ax1.set_title(\"Posterior with Hyperparameter Optimisation\")\n",
    "ax1.legend(loc=\"center left\", bbox_to_anchor=(0.975, 0.5))\n",
    "\n",
    "no_opt_latent_dist = no_opt_posterior.predict(test_x, train_data=D)\n",
    "no_opt_predictive_dist = no_opt_posterior.likelihood(no_opt_latent_dist)\n",
    "\n",
    "no_opt_predictive_mean = no_opt_predictive_dist.mean()\n",
    "no_opt_predictive_std = no_opt_predictive_dist.stddev()\n",
    "\n",
    "ax2.plot(training_x, training_y, \"x\", label=\"Observations\", color=cols[0], alpha=0.5)\n",
    "ax2.fill_between(\n",
    "    test_x.squeeze(),\n",
    "    no_opt_predictive_mean - 2 * no_opt_predictive_std,\n",
    "    no_opt_predictive_mean + 2 * no_opt_predictive_std,\n",
    "    alpha=0.2,\n",
    "    label=\"Two sigma\",\n",
    "    color=cols[1],\n",
    ")\n",
    "ax2.plot(\n",
    "    test_x,\n",
    "    no_opt_predictive_mean - 2 * no_opt_predictive_std,\n",
    "    linestyle=\"--\",\n",
    "    linewidth=1,\n",
    "    color=cols[1],\n",
    ")\n",
    "ax2.plot(\n",
    "    test_x,\n",
    "    no_opt_predictive_mean + 2 * no_opt_predictive_std,\n",
    "    linestyle=\"--\",\n",
    "    linewidth=1,\n",
    "    color=cols[1],\n",
    ")\n",
    "ax2.plot(\n",
    "    test_x, test_y, label=\"Latent function\", color=cols[0], linestyle=\"--\", linewidth=2\n",
    ")\n",
    "ax2.plot(test_x, no_opt_predictive_mean, label=\"Predictive mean\", color=cols[1])\n",
    "ax2.set_title(\"Posterior without Hyperparameter Optimisation\")\n",
    "ax2.legend(loc=\"center left\", bbox_to_anchor=(0.975, 0.5))"
   ]
  },
  {
   "cell_type": "markdown",
   "id": "b1e31c10",
   "metadata": {},
   "source": [
    "We can see that optimising the hyperparameters by minimising the negative log marginal likelihood of the data results in a more faithful fit of the GP to the data. In particular, we can observe that the GP using optimised hyperparameters is more accurately able to reflect uncertainty in its predictions, as opposed to the GP using the default parameters, which is overconfident in its predictions.\n",
    "\n",
    "The lengthscale, $\\kappa$, and variance, $\\sigma^2$, are shown below, both before and after optimisation:"
   ]
  },
  {
   "cell_type": "code",
   "execution_count": null,
   "id": "be61e64c",
   "metadata": {},
   "outputs": [],
   "source": [
    "no_opt_lengthscale = no_opt_posterior.prior.kernel.lengthscale\n",
    "no_opt_variance = no_opt_posterior.prior.kernel.variance\n",
    "opt_lengthscale = opt_posterior.prior.kernel.lengthscale\n",
    "opt_variance = opt_posterior.prior.kernel.variance\n",
    "\n",
    "print(f\"Optimised Lengthscale: {opt_lengthscale} and Variance: {opt_variance}\")\n",
    "print(\n",
    "    f\"Non-Optimised Lengthscale: {no_opt_lengthscale} and Variance: {no_opt_variance}\"\n",
    ")"
   ]
  },
  {
   "cell_type": "markdown",
   "id": "05e74205",
   "metadata": {},
   "source": [
    "## Expressing Other Priors with Different Kernels"
   ]
  },
  {
   "cell_type": "markdown",
   "id": "6cc36ec4",
   "metadata": {},
   "source": [
    "Whilst the Matérn kernels are often used as a first choice of kernel, and they often perform well due to their smoothing properties often being well-aligned with the properties of the underlying function being modelled, sometimes more prior knowledge is known about the function being modelled. For instance, it may be known that the function being modelled is *periodic*. In this case, a suitable kernel choice would be the *periodic* kernel:\n",
    "\n",
    "$$k(\\mathbf{x}, \\mathbf{x}') = \\sigma^2 \\exp \\left( -\\frac{1}{2} \\sum_{i=1}^{D} \\left(\\frac{\\sin (\\pi (\\mathbf{x}_i - \\mathbf{x}_i')/p)}{\\ell}\\right)^2 \\right)$$\n",
    "\n",
    "with $D$ being the dimensionality of the inputs.\n",
    "\n",
    "Below we show $10$ samples drawn from a GP prior using the periodic kernel:"
   ]
  },
  {
   "cell_type": "code",
   "execution_count": null,
   "id": "a55e8f40",
   "metadata": {},
   "outputs": [],
   "source": [
    "mean = gpx.mean_functions.Zero()\n",
    "kernel = gpx.kernels.Periodic()\n",
    "prior = gpx.Prior(mean_function=mean, kernel=kernel)\n",
    "\n",
    "x = jnp.linspace(-3.0, 3.0, num=200).reshape(-1, 1)\n",
    "rv = prior(x)\n",
    "y = rv.sample(seed=key, sample_shape=(10,))\n",
    "\n",
    "fig, ax = plt.subplots()\n",
    "ax.plot(x, y.T, alpha=0.7)\n",
    "ax.set_title(\"Samples from the Periodic Kernel\")\n",
    "plt.show()"
   ]
  },
  {
   "cell_type": "markdown",
   "id": "b1a48bd9",
   "metadata": {},
   "source": [
    "In other scenarios, it may be known that the underlying function is *linear*, in which case the *linear* kernel would be a suitable choice:\n",
    "\n",
    "$$k(\\mathbf{x}, \\mathbf{x}') = \\sigma^2 \\mathbf{x}^\\top \\mathbf{x}'$$\n",
    "\n",
    "Unlike the kernels shown above, the linear kernel is *not* stationary, and so it is not invariant to translations in the input space.\n",
    "\n",
    "Below we show $10$ samples drawn from a GP prior using the linear kernel:"
   ]
  },
  {
   "cell_type": "code",
   "execution_count": null,
   "id": "ec9db581",
   "metadata": {},
   "outputs": [],
   "source": [
    "mean = gpx.mean_functions.Zero()\n",
    "kernel = gpx.kernels.Linear()\n",
    "prior = gpx.Prior(mean_function=mean, kernel=kernel)\n",
    "\n",
    "x = jnp.linspace(-3.0, 3.0, num=200).reshape(-1, 1)\n",
    "rv = prior(x)\n",
    "y = rv.sample(seed=key, sample_shape=(10,))\n",
    "\n",
    "fig, ax = plt.subplots()\n",
    "ax.plot(x, y.T, alpha=0.7)\n",
    "ax.set_title(\"Samples from the Linear Kernel\")\n",
    "plt.show()"
   ]
  },
  {
   "cell_type": "markdown",
   "id": "4984767e",
   "metadata": {},
   "source": [
    "## Composing Kernels"
   ]
  },
  {
   "cell_type": "markdown",
   "id": "e8084e4e",
   "metadata": {},
   "source": [
    "It is also mathematically valid to compose kernels through operations such as addition\n",
    "and multiplication in order to produce more expressive kernels. For the mathematically\n",
    "interested amongst you, this is valid as the resulting kernel functions still satisfy\n",
    "the necessary conditions introduced at the [start of this\n",
    "notebook](#what-are-the-necessary-conditions-for-a-function-to-be-a-valid-kernel).\n",
    "Adding or multiplying kernel functions is equivalent to performing elementwise addition\n",
    "or multiplication of the corresponding covariance matrices, and fortunately symmetric,\n",
    "positive semi-definite kernels are closed under these operations. This means that\n",
    "kernels produced by adding or multiplying other kernels will also be symmetric and\n",
    "positive semi-definite, and so will also be valid kernels. GPJax provides the\n",
    "functionality required to easily compose kernels via addition and multiplication, which\n",
    "we'll demonstrate below.\n",
    "\n",
    "First, we'll take a look at some samples drawn from a GP prior using a kernel which is\n",
    "composed of the sum of a linear kernel and a periodic kernel:"
   ]
  },
  {
   "cell_type": "code",
   "execution_count": null,
   "id": "2260fc56",
   "metadata": {
    "lines_to_next_cell": 2
   },
   "outputs": [],
   "source": [
    "kernel_one = gpx.kernels.Linear()\n",
    "kernel_two = gpx.kernels.Periodic()\n",
    "sum_kernel = gpx.kernels.SumKernel(kernels=[kernel_one, kernel_two])\n",
    "mean = gpx.mean_functions.Zero()\n",
    "prior = gpx.Prior(mean_function=mean, kernel=sum_kernel)\n",
    "\n",
    "x = jnp.linspace(-3.0, 3.0, num=200).reshape(-1, 1)\n",
    "rv = prior(x)\n",
    "y = rv.sample(seed=key, sample_shape=(10,))\n",
    "fig, ax = plt.subplots()\n",
    "ax.plot(x, y.T, alpha=0.7)\n",
    "ax.set_title(\"Samples from a GP Prior with Kernel = Linear + Periodic\")\n",
    "plt.show()"
   ]
  },
  {
   "cell_type": "markdown",
   "id": "a42c5186",
   "metadata": {},
   "source": [
    "We can see that the samples drawn behave as one would naturally expect through adding\n",
    "the two kernels together. In particular, the samples are still periodic, as with the\n",
    "periodic kernel, but their mean also linearly increases/decreases as they move away from\n",
    "the origin, as seen with the linear kernel.\n",
    "\n",
    "Below we take a look at some samples drawn from a GP prior using a kernel which is\n",
    "composed of the same two kernels, but this time multiplied together:"
   ]
  },
  {
   "cell_type": "code",
   "execution_count": null,
   "id": "71924a0d",
   "metadata": {
    "lines_to_next_cell": 2
   },
   "outputs": [],
   "source": [
    "kernel_one = gpx.kernels.Linear()\n",
    "kernel_two = gpx.kernels.Periodic()\n",
    "sum_kernel = gpx.kernels.ProductKernel(kernels=[kernel_one, kernel_two])\n",
    "mean = gpx.mean_functions.Zero()\n",
    "prior = gpx.Prior(mean_function=mean, kernel=sum_kernel)\n",
    "\n",
    "x = jnp.linspace(-3.0, 3.0, num=200).reshape(-1, 1)\n",
    "rv = prior(x)\n",
    "y = rv.sample(seed=key, sample_shape=(10,))\n",
    "fig, ax = plt.subplots()\n",
    "ax.plot(x, y.T, alpha=0.7)\n",
    "ax.set_title(\"Samples from a GP with Kernel = Linear x Periodic\")\n",
    "plt.show()"
   ]
  },
  {
   "cell_type": "markdown",
   "id": "d47c5469",
   "metadata": {},
   "source": [
    "Once again, the samples drawn behave as one would naturally expect through multiplying\n",
    "the two kernels together. In particular, the samples are still periodic but their mean\n",
    "linearly increases/decreases as they move away from the origin, and the amplitude of\n",
    "the oscillations also linearly increases with increasing distance from the origin."
   ]
  },
  {
   "cell_type": "markdown",
   "id": "71f11b7e",
   "metadata": {},
   "source": [
    "## Putting it All Together on a Real-World Dataset"
   ]
  },
  {
   "cell_type": "markdown",
   "id": "2dc26b2a",
   "metadata": {},
   "source": [
    "### Mauna Loa CO2 Dataset"
   ]
  },
  {
   "cell_type": "markdown",
   "id": "47344788",
   "metadata": {},
   "source": [
    "We'll put together some of the ideas we've discussed in this notebook by fitting a GP\n",
    "to the [Mauna Loa CO2 dataset](https://www.esrl.noaa.gov/gmd/ccgg/trends/data.html).\n",
    "This dataset measures atmospheric CO2 concentration at the Mauna Loa Observatory in\n",
    "Hawaii, and is widely used in the GP literature. It contains monthly CO2 readings\n",
    "starting in March 1958. Interestingly, there was an eruption at the Mauna Loa volcano in\n",
    "November 2022, so readings from December 2022 have changed to a site roughly 21 miles\n",
    "North of the Mauna Loa Observatory. We'll use the data from March 1958 to November 2022,\n",
    "and see how our GP extrapolates to 8 years before and after the data in the training\n",
    "set.\n",
    "\n",
    "First we'll load the data and plot it:"
   ]
  },
  {
   "cell_type": "code",
   "execution_count": null,
   "id": "55be34e6",
   "metadata": {},
   "outputs": [],
   "source": [
    "co2_data = pd.read_csv(\n",
    "    \"https://gml.noaa.gov/webdata/ccgg/trends/co2/co2_mm_mlo.csv\", comment=\"#\"\n",
    ")\n",
    "co2_data = co2_data.loc[co2_data[\"decimal date\"] < 2022 + 11 / 12]\n",
    "train_x = co2_data[\"decimal date\"].values[:, None]\n",
    "train_y = co2_data[\"average\"].values[:, None]\n",
    "\n",
    "fig, ax = plt.subplots()\n",
    "ax.plot(train_x, train_y)\n",
    "ax.set_title(\"CO2 Concentration in the Atmosphere\")\n",
    "ax.set_xlabel(\"Year\")\n",
    "ax.set_ylabel(\"CO2 Concentration (ppm)\")\n",
    "plt.show()"
   ]
  },
  {
   "cell_type": "markdown",
   "id": "d9669d60",
   "metadata": {},
   "source": [
    "Looking at the data, we can see that there is clearly a periodic trend, with a period of\n",
    "roughly 1 year. We can also see that the data is increasing over time, which is\n",
    "also expected. This looks roughly linear, although it may have a non-linear component.\n",
    "This information will be useful when we come to choose our kernel.\n",
    "\n",
    "First, we'll construct our GPJax dataset, and will standardise the outputs, to match our\n",
    "assumption that the data has zero mean."
   ]
  },
  {
   "cell_type": "code",
   "execution_count": null,
   "id": "b8a15c48",
   "metadata": {},
   "outputs": [],
   "source": [
    "test_x = jnp.linspace(1950, 2030, 5000, dtype=jnp.float64).reshape(-1, 1)\n",
    "y_scaler = StandardScaler().fit(train_y)\n",
    "standardised_train_y = y_scaler.transform(train_y)\n",
    "\n",
    "D = gpx.Dataset(X=train_x, y=standardised_train_y)"
   ]
  },
  {
   "cell_type": "markdown",
   "id": "07d73465",
   "metadata": {},
   "source": [
    "Having constructed our dataset, we'll now define our kernel. We'll use a kernel which is\n",
    "composed of the sum of a linear kernel and a periodic kernel, as we saw in the previous\n",
    "section that this kernel is able to capture both the periodic and linear trends in the\n",
    "data. We'll also add an RBF kernel to the sum, which will allow us to capture any\n",
    "non-linear trends in the data:\n",
    "\n",
    "$$\\text{Kernel = Linear + Periodic + RBF}$$\n",
    "\n"
   ]
  },
  {
   "cell_type": "code",
   "execution_count": null,
   "id": "f2b25f23",
   "metadata": {},
   "outputs": [],
   "source": [
    "mean = gpx.mean_functions.Zero()\n",
    "rbf_kernel = gpx.kernels.RBF(lengthscale=100.0)\n",
    "periodic_kernel = gpx.kernels.Periodic()\n",
    "linear_kernel = gpx.kernels.Linear()\n",
    "sum_kernel = gpx.kernels.SumKernel(kernels=[linear_kernel, periodic_kernel])\n",
    "final_kernel = gpx.kernels.SumKernel(kernels=[rbf_kernel, sum_kernel])\n",
    "\n",
    "prior = gpx.Prior(mean_function=mean, kernel=final_kernel)\n",
    "likelihood = gpx.Gaussian(num_datapoints=D.n)\n",
    "\n",
    "posterior = prior * likelihood"
   ]
  },
  {
   "cell_type": "markdown",
   "id": "337480b4",
   "metadata": {},
   "source": [
    "With our model constructed, let's now fit it to the data, by minimising the negative log\n",
    "marginal likelihood of the data:"
   ]
  },
  {
   "cell_type": "code",
   "execution_count": null,
   "id": "645a41c2",
   "metadata": {},
   "outputs": [],
   "source": [
    "\n",
    "opt_posterior, history = gpx.fit(\n",
    "    model=posterior,\n",
    "    train_data=D,\n",
    "    solver=jaxopt.ScipyMinimize(fun=gpx.ConjugateMLL(negative=True)),\n",
    "    safe=True,\n",
    "    key=key,\n",
    ")"
   ]
  },
  {
   "cell_type": "markdown",
   "id": "946a750c",
   "metadata": {},
   "source": [
    "Now we can obtain the model's prediction over a period of time which includes the\n",
    "training data, as well as 8 years before and after the training data:"
   ]
  },
  {
   "cell_type": "code",
   "execution_count": null,
   "id": "e4a95419",
   "metadata": {},
   "outputs": [],
   "source": [
    "latent_dist = opt_posterior.predict(test_x, train_data=D)\n",
    "predictive_dist = opt_posterior.likelihood(latent_dist)\n",
    "\n",
    "predictive_mean = predictive_dist.mean().reshape(-1, 1)\n",
    "predictive_std = predictive_dist.stddev().reshape(-1, 1)"
   ]
  },
  {
   "cell_type": "markdown",
   "id": "a6d50b34",
   "metadata": {},
   "source": [
    "Let's plot the model's predictions over this period of time:"
   ]
  },
  {
   "cell_type": "code",
   "execution_count": null,
   "id": "cf9dceca",
   "metadata": {},
   "outputs": [],
   "source": [
    "fig, ax = plt.subplots(figsize=(10, 5))\n",
    "ax.plot(\n",
    "    train_x, standardised_train_y, \"x\", label=\"Observations\", color=cols[0], alpha=0.5\n",
    ")\n",
    "ax.fill_between(\n",
    "    test_x.squeeze(),\n",
    "    predictive_mean.squeeze() - 2 * predictive_std.squeeze(),\n",
    "    predictive_mean.squeeze() + 2 * predictive_std.squeeze(),\n",
    "    alpha=0.2,\n",
    "    label=\"Two sigma\",\n",
    "    color=cols[1],\n",
    ")\n",
    "ax.plot(\n",
    "    test_x,\n",
    "    predictive_mean - 2 * predictive_std,\n",
    "    linestyle=\"--\",\n",
    "    linewidth=1,\n",
    "    color=cols[1],\n",
    ")\n",
    "ax.plot(\n",
    "    test_x,\n",
    "    predictive_mean + 2 * predictive_std,\n",
    "    linestyle=\"--\",\n",
    "    linewidth=1,\n",
    "    color=cols[1],\n",
    ")\n",
    "ax.plot(test_x, predictive_mean, label=\"Predictive mean\", color=cols[1])\n",
    "ax.set_xlabel(\"Year\")\n",
    "ax.legend(loc=\"center left\", bbox_to_anchor=(0.975, 0.5))"
   ]
  },
  {
   "cell_type": "markdown",
   "id": "f73e3645",
   "metadata": {},
   "source": [
    "We can see that the model seems to have captured the periodic trend in the data, as well\n",
    "as the (roughly) linear trend. This enables our model to make reasonable seeming\n",
    "predictions over the 8 years before and after the training data. Let's zoom in on the\n",
    "period from 2010 onwards:\n"
   ]
  },
  {
   "cell_type": "code",
   "execution_count": null,
   "id": "d42cedf0",
   "metadata": {},
   "outputs": [],
   "source": [
    "fig, ax = plt.subplots(figsize=(10, 5))\n",
    "ax.plot(\n",
    "    train_x[train_x >= 2010],\n",
    "    standardised_train_y[train_x >= 2010],\n",
    "    \"x\",\n",
    "    label=\"Observations\",\n",
    "    color=cols[0],\n",
    "    alpha=0.5,\n",
    ")\n",
    "ax.fill_between(\n",
    "    test_x[test_x >= 2010].squeeze(),\n",
    "    predictive_mean[test_x >= 2010] - 2 * predictive_std[test_x >= 2010],\n",
    "    predictive_mean[test_x >= 2010] + 2 * predictive_std[test_x >= 2010],\n",
    "    alpha=0.2,\n",
    "    label=\"Two sigma\",\n",
    "    color=cols[1],\n",
    ")\n",
    "ax.plot(\n",
    "    test_x[test_x >= 2010],\n",
    "    predictive_mean[test_x >= 2010] - 2 * predictive_std[test_x >= 2010],\n",
    "    linestyle=\"--\",\n",
    "    linewidth=1,\n",
    "    color=cols[1],\n",
    ")\n",
    "ax.plot(\n",
    "    test_x[test_x >= 2010],\n",
    "    predictive_mean[test_x >= 2010] + 2 * predictive_std[test_x >= 2010],\n",
    "    linestyle=\"--\",\n",
    "    linewidth=1,\n",
    "    color=cols[1],\n",
    ")\n",
    "ax.plot(\n",
    "    test_x[test_x >= 2010],\n",
    "    predictive_mean[test_x >= 2010],\n",
    "    label=\"Predictive mean\",\n",
    "    color=cols[1],\n",
    ")\n",
    "ax.set_xlabel(\"Year\")\n",
    "ax.legend(loc=\"center left\", bbox_to_anchor=(0.975, 0.5))"
   ]
  },
  {
   "cell_type": "markdown",
   "id": "22b6132a",
   "metadata": {},
   "source": [
    "This certainly looks like a reasonable fit to the data, with sensible extrapolation\n",
    "beyond the training data, which finishes in November 2022. Moreover, the learned\n",
    "parameters of the kernel are interpretable. Let's take a look at the learned period of the periodic kernel:"
   ]
  },
  {
   "cell_type": "code",
   "execution_count": null,
   "id": "aee6c774",
   "metadata": {},
   "outputs": [],
   "source": [
    "print(\n",
    "    f\"Periodic Kernel Period: {[i for i in opt_posterior.prior.kernel.kernels if isinstance(i, gpx.kernels.Periodic)][0].period}\"\n",
    ")"
   ]
  },
  {
   "cell_type": "markdown",
   "id": "d2c56639",
   "metadata": {},
   "source": [
    "This tells us that the periodic trend learned has a period of $\\approx 1$. This makes\n",
    "intuitive sense, as the unit of the input data is years, and we can see that the\n",
    "periodic trend tends to repeat itself roughly every year!"
   ]
  },
  {
   "cell_type": "markdown",
   "id": "1ea4ae29",
   "metadata": {},
   "source": [
    "## Defining Kernels on Non-Euclidean Spaces\n",
    "\n",
    "In this notebook, we have focused solely on kernels whose domain resides in Euclidean space. However, what if one wished to work with data whose domain is non-Euclidean? For instance, one may wish to work with graph-structured data, or data which lies on a manifold, or even strings. Fortunately, kernels exist for a wide variety of domains. Whilst this is beyond the scope of this notebook, feel free to checkout out our [notebook on graph kernels](https://docs.jaxgaussianprocesses.com/examples/graph_kernels/) for an introduction on how to define the Matérn kernel on graph-structured data, and there are a wide variety of resources online for learning about defining kernels in other domains. In terms of open-source libraries, the [Geometric Kernels](https://github.com/GPflow/GeometricKernels) library could be a good place to start if you're interested in looking at how these kernels may be implemented, with the additional benefit that it is compatible with GPJax."
   ]
  },
  {
   "cell_type": "markdown",
   "id": "b3dd4cab",
   "metadata": {},
   "source": [
    "## Further Reading\n",
    "\n",
    "Congratulations on making it this far! We hope that this guide has given you a good introduction to kernels and how they can be used in GPJax. If you're interested in learning more about kernels, we recommend the following resources, which have also been used as inspiration for this guide:\n",
    "\n",
    "- [Gaussian Processes for Machine Learning](http://www.gaussianprocess.org/gpml/chapters/RW.pdf) - Chapter 4 provides a comprehensive overview of kernels, diving deep into some of the technical details and also providing some kernels defined on non-Euclidean spaces such as strings.\n",
    "- David Duvenaud's [Kernel Cookbook](https://www.cs.toronto.edu/~duvenaud/cookbook/) is a great resource for learning about kernels, and also provides some information about some of the pitfalls people commonly encounter when using the Matérn family of kernels. His PhD thesis, [Automatic Model Construction with Gaussian Processes](https://www.cs.toronto.edu/~duvenaud/thesis.pdf), also provides some in-depth recipes for how one may incorporate their prior knowledge when constructing kernels.\n",
    "- Finally, please check out our [more advanced kernel guide](https://docs.jaxgaussianprocesses.com/examples/constructing_new_kernels/), which details some more kernels available in GPJax as well as how one may combine kernels together to form more complex kernels.\n",
    "\n",
    "## System Configuration"
   ]
  },
  {
   "cell_type": "code",
   "execution_count": null,
   "id": "4b32981e",
   "metadata": {},
   "outputs": [],
   "source": [
    "%reload_ext watermark\n",
    "%watermark -n -u -v -iv -w -a 'Thomas Christie'"
   ]
  }
 ],
 "metadata": {
  "jupytext": {
   "cell_metadata_filter": "-all",
   "main_language": "python",
   "notebook_metadata_filter": "-all"
  },
  "kernelspec": {
   "display_name": "gpjax",
   "language": "python",
   "name": "python3"
  },
  "language_info": {
   "name": "python",
   "version": "3.10.0"
  }
 },
 "nbformat": 4,
 "nbformat_minor": 5
}
