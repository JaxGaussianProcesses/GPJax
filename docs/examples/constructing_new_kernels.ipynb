{
 "cells": [
  {
   "cell_type": "markdown",
   "id": "e11cfcf0",
   "metadata": {},
   "source": [
    "# Kernel Guide\n",
    "\n",
    "In this guide, we introduce the kernels available in GPJax and demonstrate how to\n",
    "create custom kernels."
   ]
  },
  {
   "cell_type": "code",
   "execution_count": null,
   "id": "d5e9ad19",
   "metadata": {},
   "outputs": [],
   "source": [
    "# Enable Float64 for more stable matrix inversions.\n",
    "from jax.config import config\n",
    "\n",
    "config.update(\"jax_enable_x64\", True)\n",
    "\n",
    "from dataclasses import dataclass\n",
    "from typing import Dict\n",
    "\n",
    "from jax import jit\n",
    "import jax.numpy as jnp\n",
    "import jax.random as jr\n",
    "from jaxtyping import (\n",
    "    Array,\n",
    "    Float,\n",
    "    install_import_hook,\n",
    ")\n",
    "import matplotlib.pyplot as plt\n",
    "import numpy as np\n",
    "import optax as ox\n",
    "import jaxopt\n",
    "from simple_pytree import static_field\n",
    "import tensorflow_probability.substrates.jax as tfp\n",
    "\n",
    "with install_import_hook(\"gpjax\", \"beartype.beartype\"):\n",
    "    import gpjax as gpx\n",
    "    from gpjax.base.param import param_field\n",
    "\n",
    "key = jr.PRNGKey(123)\n",
    "tfb = tfp.bijectors\n",
    "plt.style.use(\n",
    "    \"https://raw.githubusercontent.com/JaxGaussianProcesses/GPJax/main/docs/examples/gpjax.mplstyle\"\n",
    ")\n",
    "cols = plt.rcParams[\"axes.prop_cycle\"].by_key()[\"color\"]"
   ]
  },
  {
   "cell_type": "markdown",
   "id": "bdccbdf4",
   "metadata": {},
   "source": [
    "## Supported Kernels\n",
    "\n",
    "The following kernels are natively supported in GPJax.\n",
    "\n",
    "* Matérn 1/2, 3/2 and 5/2.\n",
    "* RBF (or squared exponential).\n",
    "* Rational quadratic.\n",
    "* Powered exponential.\n",
    "* Polynomial.\n",
    "* White noise\n",
    "* Linear.\n",
    "* Polynomial.\n",
    "* [Graph kernels](https://docs.jaxgaussianprocesses.com/examples/graph_kernels/).\n",
    "\n",
    "While the syntax is consistent, each kernel's type influences the\n",
    "characteristics of the sample paths drawn. We visualise this below with 10\n",
    "function draws per kernel."
   ]
  },
  {
   "cell_type": "code",
   "execution_count": null,
   "id": "9717f825",
   "metadata": {},
   "outputs": [],
   "source": [
    "kernels = [\n",
    "    gpx.kernels.Matern12(),\n",
    "    gpx.kernels.Matern32(),\n",
    "    gpx.kernels.Matern52(),\n",
    "    gpx.kernels.RBF(),\n",
    "    gpx.kernels.Polynomial(),\n",
    "    gpx.kernels.Polynomial(degree=2),\n",
    "]\n",
    "fig, axes = plt.subplots(ncols=3, nrows=2, figsize=(10, 6), tight_layout=True)\n",
    "\n",
    "x = jnp.linspace(-3.0, 3.0, num=200).reshape(-1, 1)\n",
    "\n",
    "meanf = gpx.mean_functions.Zero()\n",
    "\n",
    "for k, ax in zip(kernels, axes.ravel()):\n",
    "    prior = gpx.Prior(mean_function=meanf, kernel=k)\n",
    "    rv = prior(x)\n",
    "    y = rv.sample(seed=key, sample_shape=(10,))\n",
    "    ax.plot(x, y.T, alpha=0.7)\n",
    "    ax.set_title(k.name)"
   ]
  },
  {
   "cell_type": "markdown",
   "id": "f06b48b7",
   "metadata": {},
   "source": [
    "### Active dimensions\n",
    "\n",
    "By default, kernels operate over every dimension of the supplied inputs. In\n",
    "some use cases, it is desirable to restrict kernels to specific dimensions of\n",
    "the input data. We can achieve this by the `active dims` argument, which\n",
    "determines which input index values the kernel evaluates.\n",
    "\n",
    "To see this, consider the following 5-dimensional dataset for which we would\n",
    "like our RBF kernel to act on the first, second and fourth dimensions."
   ]
  },
  {
   "cell_type": "code",
   "execution_count": null,
   "id": "65198906",
   "metadata": {},
   "outputs": [],
   "source": [
    "slice_kernel = gpx.kernels.RBF(active_dims=[0, 1, 3], lengthscale=jnp.ones((3,)))"
   ]
  },
  {
   "cell_type": "markdown",
   "id": "47511074",
   "metadata": {},
   "source": [
    "\n",
    "The resulting kernel has one length-scale parameter per input dimension --- an ARD kernel."
   ]
  },
  {
   "cell_type": "code",
   "execution_count": null,
   "id": "d090532b",
   "metadata": {},
   "outputs": [],
   "source": [
    "print(f\"Lengthscales: {slice_kernel.lengthscale}\")"
   ]
  },
  {
   "cell_type": "markdown",
   "id": "ec08bffa",
   "metadata": {},
   "source": [
    "We'll now simulate some data and evaluate the kernel on the previously selected\n",
    "input dimensions."
   ]
  },
  {
   "cell_type": "code",
   "execution_count": null,
   "id": "870d9a53",
   "metadata": {},
   "outputs": [],
   "source": [
    "# Inputs\n",
    "x_matrix = jr.normal(key, shape=(50, 5))\n",
    "\n",
    "# Compute the Gram matrix\n",
    "K = slice_kernel.gram(x_matrix)\n",
    "print(K.shape)"
   ]
  },
  {
   "cell_type": "markdown",
   "id": "3cdda74e",
   "metadata": {},
   "source": [
    "## Kernel combinations\n",
    "\n",
    "The product or sum of two positive definite matrices yields a positive\n",
    "definite matrix. Consequently, summing or multiplying sets of kernels is a\n",
    "valid operation that can give rich kernel functions. In GPJax, functionality for\n",
    "a sum kernel is provided by the `SumKernel` class."
   ]
  },
  {
   "cell_type": "code",
   "execution_count": null,
   "id": "8c9ffa75",
   "metadata": {},
   "outputs": [],
   "source": [
    "k1 = gpx.kernels.RBF()\n",
    "k2 = gpx.kernels.Polynomial()\n",
    "sum_k = gpx.kernels.SumKernel(kernels=[k1, k2])\n",
    "\n",
    "fig, ax = plt.subplots(ncols=3, figsize=(9, 3))\n",
    "im0 = ax[0].matshow(k1.gram(x).to_dense())\n",
    "im1 = ax[1].matshow(k2.gram(x).to_dense())\n",
    "im2 = ax[2].matshow(sum_k.gram(x).to_dense())\n",
    "\n",
    "fig.colorbar(im0, ax=ax[0], fraction=0.05)\n",
    "fig.colorbar(im1, ax=ax[1], fraction=0.05)\n",
    "fig.colorbar(im2, ax=ax[2], fraction=0.05)"
   ]
  },
  {
   "cell_type": "markdown",
   "id": "bfbd2124",
   "metadata": {},
   "source": [
    "Similarly, products of kernels can be created through the `ProductKernel` class."
   ]
  },
  {
   "cell_type": "code",
   "execution_count": null,
   "id": "0c2dd213",
   "metadata": {},
   "outputs": [],
   "source": [
    "k3 = gpx.kernels.Matern32()\n",
    "\n",
    "prod_k = gpx.kernels.ProductKernel(kernels=[k1, k2, k3])\n",
    "\n",
    "fig, ax = plt.subplots(ncols=4, figsize=(12, 3))\n",
    "im0 = ax[0].matshow(k1.gram(x).to_dense())\n",
    "im1 = ax[1].matshow(k2.gram(x).to_dense())\n",
    "im2 = ax[2].matshow(k3.gram(x).to_dense())\n",
    "im3 = ax[3].matshow(prod_k.gram(x).to_dense())\n",
    "\n",
    "fig.colorbar(im0, ax=ax[0], fraction=0.05)\n",
    "fig.colorbar(im1, ax=ax[1], fraction=0.05)\n",
    "fig.colorbar(im2, ax=ax[2], fraction=0.05)\n",
    "fig.colorbar(im3, ax=ax[3], fraction=0.05)"
   ]
  },
  {
   "cell_type": "markdown",
   "id": "425c97d1",
   "metadata": {
    "lines_to_next_cell": 2
   },
   "source": [
    "## Custom kernel\n",
    "\n",
    "GPJax makes the process of implementing kernels of your choice straightforward\n",
    "with two key steps:\n",
    "\n",
    "1. Listing the kernel's parameters.\n",
    "2. Defining the kernel's pairwise operation.\n",
    "\n",
    "We'll demonstrate this process now for a circular kernel --- an adaption of\n",
    "the excellent guide given in the PYMC3 documentation. We encourage curious\n",
    "readers to visit their notebook\n",
    "[here](https://www.pymc.io/projects/docs/en/v3/pymc-examples/examples/gaussian_processes/GP-Circular.html).\n",
    "\n",
    "### Circular kernel\n",
    "\n",
    "When the underlying space is polar, typical Euclidean kernels such as Matérn\n",
    "kernels are insufficient at the boundary where discontinuities will present\n",
    "themselves.\n",
    "This is due to the fact that for a polar space $\\lvert 0, 2\\pi\\rvert=0$ i.e.,\n",
    "the space wraps. Euclidean kernels have no mechanism in them to represent this\n",
    "logic and will instead treat $0$ and $2\\pi$ and elements far apart. Circular\n",
    "kernels do not exhibit this behaviour and instead _wrap_ around the boundary\n",
    "points to create a smooth function. Such a kernel was given in [Padonou &\n",
    "Roustant (2015)](https://hal.inria.fr/hal-01119942v1) where any two angles\n",
    "$\\theta$ and $\\theta'$ are written as $$W_c(\\theta, \\theta') = \\left\\lvert\n",
    "\\left(1 + \\tau \\frac{d(\\theta, \\theta')}{c} \\right) \\left(1 - \\frac{d(\\theta,\n",
    "\\theta')}{c} \\right)^{\\tau} \\right\\rvert \\quad \\tau \\geq 4 \\tag{1}.$$\n",
    "\n",
    "Here the hyperparameter $\\tau$ is analogous to a lengthscale for Euclidean\n",
    "stationary kernels, controlling the correlation between pairs of observations.\n",
    "While $d$ is an angular distance metric\n",
    "\n",
    "$$d(\\theta, \\theta') = \\lvert (\\theta-\\theta'+c) \\operatorname{mod} 2c - c\n",
    "\\rvert.$$\n",
    "\n",
    "To implement this, one must write the following class."
   ]
  },
  {
   "cell_type": "code",
   "execution_count": null,
   "id": "4b731f56",
   "metadata": {},
   "outputs": [],
   "source": [
    "def angular_distance(x, y, c):\n",
    "    return jnp.abs((x - y + c) % (c * 2) - c)\n",
    "\n",
    "\n",
    "bij = tfb.Chain([tfb.Softplus(), tfb.Shift(np.array(4.0).astype(np.float64))])\n",
    "\n",
    "\n",
    "@dataclass\n",
    "class Polar(gpx.kernels.AbstractKernel):\n",
    "    period: float = static_field(2 * jnp.pi)\n",
    "    tau: float = param_field(jnp.array([4.0]), bijector=bij)\n",
    "\n",
    "    def __call__(\n",
    "        self, x: Float[Array, \"1 D\"], y: Float[Array, \"1 D\"]\n",
    "    ) -> Float[Array, \"1\"]:\n",
    "        c = self.period / 2.0\n",
    "        t = angular_distance(x, y, c)\n",
    "        K = (1 + self.tau * t / c) * jnp.clip(1 - t / c, 0, jnp.inf) ** self.tau\n",
    "        return K.squeeze()"
   ]
  },
  {
   "cell_type": "markdown",
   "id": "c795379e",
   "metadata": {},
   "source": [
    "We unpack this now to make better sense of it. In the kernel's initialiser\n",
    "we specify the length of a single period. As the underlying\n",
    "domain is a circle, this is $2\\pi$. We then define the kernel's `__call__`\n",
    "function which is a direct implementation of Equation (1) where we define `c`\n",
    "as half the value of `period`.\n",
    "\n",
    "To constrain $\\tau$ to be greater than 4, we use a `Softplus` bijector with a\n",
    "clipped lower bound of 4.0. This is done by specifying the `bijector` argument\n",
    "when we define the parameter field."
   ]
  },
  {
   "cell_type": "markdown",
   "id": "541e5068",
   "metadata": {},
   "source": [
    "### Using our polar kernel\n",
    "\n",
    "We proceed to fit a GP with our custom circular kernel to a random sequence of\n",
    "points on a circle (see the\n",
    "[Regression notebook](https://docs.jaxgaussianprocesses.com/examples/regression/)\n",
    "for further details on this process)."
   ]
  },
  {
   "cell_type": "code",
   "execution_count": null,
   "id": "694fe036",
   "metadata": {},
   "outputs": [],
   "source": [
    "# Simulate data\n",
    "angles = jnp.linspace(0, 2 * jnp.pi, num=200).reshape(-1, 1)\n",
    "n = 20\n",
    "noise = 0.2\n",
    "\n",
    "X = jnp.sort(jr.uniform(key, minval=0.0, maxval=jnp.pi * 2, shape=(n, 1)), axis=0)\n",
    "y = 4 + jnp.cos(2 * X) + jr.normal(key, shape=X.shape) * noise\n",
    "\n",
    "D = gpx.Dataset(X=X, y=y)\n",
    "\n",
    "# Define polar Gaussian process\n",
    "PKern = Polar()\n",
    "meanf = gpx.mean_functions.Zero()\n",
    "likelihood = gpx.Gaussian(num_datapoints=n)\n",
    "circular_posterior = gpx.Prior(mean_function=meanf, kernel=PKern) * likelihood\n",
    "\n",
    "# Optimise GP's marginal log-likelihood using Adam\n",
    "opt_posterior, history = gpx.fit(\n",
    "    model=circular_posterior,\n",
    "    train_data=D,\n",
    "    solver=jaxopt.LBFGS(gpx.ConjugateMLL(negative=True), maxiter=500),\n",
    "    key=key,\n",
    ")"
   ]
  },
  {
   "cell_type": "markdown",
   "id": "8761d8fb",
   "metadata": {},
   "source": [
    "### Prediction\n",
    "\n",
    "We'll now query the GP's predictive posterior at linearly spaced novel inputs\n",
    "and illustrate the results."
   ]
  },
  {
   "cell_type": "code",
   "execution_count": null,
   "id": "13744f81",
   "metadata": {},
   "outputs": [],
   "source": [
    "posterior_rv = opt_posterior.likelihood(opt_posterior.predict(angles, train_data=D))\n",
    "mu = posterior_rv.mean()\n",
    "one_sigma = posterior_rv.stddev()"
   ]
  },
  {
   "cell_type": "code",
   "execution_count": null,
   "id": "b4f1d9b7",
   "metadata": {},
   "outputs": [],
   "source": [
    "fig = plt.figure(figsize=(7, 3.5))\n",
    "gridspec = fig.add_gridspec(1, 1)\n",
    "ax = plt.subplot(gridspec[0], polar=True)\n",
    "\n",
    "ax.fill_between(\n",
    "    angles.squeeze(),\n",
    "    mu - one_sigma,\n",
    "    mu + one_sigma,\n",
    "    alpha=0.3,\n",
    "    label=r\"1 Posterior s.d.\",\n",
    "    color=cols[1],\n",
    "    lw=0,\n",
    ")\n",
    "ax.fill_between(\n",
    "    angles.squeeze(),\n",
    "    mu - 3 * one_sigma,\n",
    "    mu + 3 * one_sigma,\n",
    "    alpha=0.15,\n",
    "    label=r\"3 Posterior s.d.\",\n",
    "    color=cols[1],\n",
    "    lw=0,\n",
    ")\n",
    "ax.plot(angles, mu, label=\"Posterior mean\")\n",
    "ax.scatter(D.X, D.y, alpha=1, label=\"Observations\")\n",
    "ax.legend()"
   ]
  },
  {
   "cell_type": "markdown",
   "id": "0917650b",
   "metadata": {},
   "source": [
    "## System configuration"
   ]
  },
  {
   "cell_type": "code",
   "execution_count": null,
   "id": "a6053ba2",
   "metadata": {},
   "outputs": [],
   "source": [
    "%reload_ext watermark\n",
    "%watermark -n -u -v -iv -w -a 'Thomas Pinder'"
   ]
  }
 ],
 "metadata": {
  "jupytext": {
   "cell_metadata_filter": "-all",
   "custom_cell_magics": "kql",
   "encoding": "# -*- coding: utf-8 -*-"
  },
  "kernelspec": {
   "display_name": "Python 3 (ipykernel)",
   "language": "python",
   "name": "python3"
  },
  "language_info": {
   "codemirror_mode": {
    "name": "ipython",
    "version": 3
   },
   "file_extension": ".py",
   "mimetype": "text/x-python",
   "name": "python",
   "nbconvert_exporter": "python",
   "pygments_lexer": "ipython3",
   "version": "3.10.0"
  }
 },
 "nbformat": 4,
 "nbformat_minor": 5
}
