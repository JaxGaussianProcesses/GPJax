{
 "cells": [
  {
   "cell_type": "markdown",
   "id": "e6c1802a",
   "metadata": {
    "lines_to_next_cell": 0
   },
   "source": [
    "# Pathwise Sampling for Spatial Modelling\n",
    "In this notebook, we demonstrate an application of Gaussian Processes\n",
    "to a spatial interpolation problem. We will show how\n",
    "to efficiently sample from a GP posterior as shown in <strong data-cite=\"wilson2020efficient\"></strong>.\n",
    "\n",
    "## Data loading\n",
    "We'll use open-source data from\n",
    "[SwissMetNet](https://www.meteoswiss.admin.ch/services-and-publications/applications/measurement-values-and-measuring-networks.html#lang=en&param=messnetz-automatisch),\n",
    "the surface weather monitoring network of the Swiss national weather service,\n",
    "and digital elevation model (DEM) data from Copernicus, accessible\n",
    "[here](https://planetarycomputer.microsoft.com/dataset/cop-dem-glo-90)\n",
    "via the Planetary Computer data catalog.\n",
    "We will coarsen this data by a factor of 10 (going from 90m to 900m resolution), but feel free to change this.\n",
    "\n",
    "Our variable of interest is the maximum daily temperature, observed on the 4th of April 2023 at\n",
    "150 weather stations, and we'll try to interpolate it on a spatial grid using geographical coordinates\n",
    "(latitude and longitude) and elevation as input variables.\n"
   ]
  },
  {
   "cell_type": "code",
   "execution_count": 1,
   "id": "3f9bec24",
   "metadata": {},
   "outputs": [
    {
     "ename": "PydanticImportError",
     "evalue": "`BaseSettings` has been moved to the `pydantic-settings` package. See https://docs.pydantic.dev/2.3/migration/#basesettings-has-moved-to-pydantic-settings for more details.\n\nFor further information visit https://errors.pydantic.dev/2.3/u/import-error",
     "output_type": "error",
     "traceback": [
      "\u001b[0;31m---------------------------------------------------------------------------\u001b[0m",
      "\u001b[0;31mPydanticImportError\u001b[0m                       Traceback (most recent call last)",
      "Cell \u001b[0;32mIn[1], line 22\u001b[0m\n\u001b[1;32m     20\u001b[0m \u001b[38;5;28;01mimport\u001b[39;00m \u001b[38;5;21;01mjaxopt\u001b[39;00m\n\u001b[1;32m     21\u001b[0m \u001b[38;5;28;01mimport\u001b[39;00m \u001b[38;5;21;01mpandas\u001b[39;00m \u001b[38;5;28;01mas\u001b[39;00m \u001b[38;5;21;01mpd\u001b[39;00m\n\u001b[0;32m---> 22\u001b[0m \u001b[38;5;28;01mimport\u001b[39;00m \u001b[38;5;21;01mplanetary_computer\u001b[39;00m\n\u001b[1;32m     23\u001b[0m \u001b[38;5;28;01mimport\u001b[39;00m \u001b[38;5;21;01mpystac_client\u001b[39;00m\n\u001b[1;32m     24\u001b[0m \u001b[38;5;28;01mimport\u001b[39;00m \u001b[38;5;21;01mrioxarray\u001b[39;00m \u001b[38;5;28;01mas\u001b[39;00m \u001b[38;5;21;01mrio\u001b[39;00m\n",
      "File \u001b[0;32m~/anaconda3/envs/gpjax/lib/python3.10/site-packages/planetary_computer/__init__.py:4\u001b[0m\n\u001b[1;32m      1\u001b[0m \u001b[38;5;124;03m\"\"\"Planetary Computer Python SDK\"\"\"\u001b[39;00m\n\u001b[1;32m      2\u001b[0m \u001b[38;5;66;03m# flake8:noqa\u001b[39;00m\n\u001b[0;32m----> 4\u001b[0m \u001b[38;5;28;01mfrom\u001b[39;00m \u001b[38;5;21;01mplanetary_computer\u001b[39;00m\u001b[38;5;21;01m.\u001b[39;00m\u001b[38;5;21;01msas\u001b[39;00m \u001b[38;5;28;01mimport\u001b[39;00m (\n\u001b[1;32m      5\u001b[0m     sign,\n\u001b[1;32m      6\u001b[0m     sign_inplace,\n\u001b[1;32m      7\u001b[0m     sign_url,\n\u001b[1;32m      8\u001b[0m     sign_item,\n\u001b[1;32m      9\u001b[0m     sign_assets,\n\u001b[1;32m     10\u001b[0m     sign_asset,\n\u001b[1;32m     11\u001b[0m     sign_item_collection,\n\u001b[1;32m     12\u001b[0m )\n\u001b[1;32m     13\u001b[0m \u001b[38;5;28;01mfrom\u001b[39;00m \u001b[38;5;21;01mplanetary_computer\u001b[39;00m\u001b[38;5;21;01m.\u001b[39;00m\u001b[38;5;21;01msettings\u001b[39;00m \u001b[38;5;28;01mimport\u001b[39;00m set_subscription_key\n\u001b[1;32m     14\u001b[0m \u001b[38;5;28;01mfrom\u001b[39;00m \u001b[38;5;21;01mplanetary_computer\u001b[39;00m\u001b[38;5;21;01m.\u001b[39;00m\u001b[38;5;21;01m_adlfs\u001b[39;00m \u001b[38;5;28;01mimport\u001b[39;00m get_adlfs_filesystem, get_container_client\n",
      "File \u001b[0;32m~/anaconda3/envs/gpjax/lib/python3.10/site-packages/planetary_computer/sas.py:20\u001b[0m\n\u001b[1;32m     17\u001b[0m \u001b[38;5;28;01mimport\u001b[39;00m \u001b[38;5;21;01mpystac_client\u001b[39;00m\n\u001b[1;32m     18\u001b[0m \u001b[38;5;28;01mimport\u001b[39;00m \u001b[38;5;21;01murllib3\u001b[39;00m\u001b[38;5;21;01m.\u001b[39;00m\u001b[38;5;21;01mutil\u001b[39;00m\u001b[38;5;21;01m.\u001b[39;00m\u001b[38;5;21;01mretry\u001b[39;00m\n\u001b[0;32m---> 20\u001b[0m \u001b[38;5;28;01mfrom\u001b[39;00m \u001b[38;5;21;01mplanetary_computer\u001b[39;00m\u001b[38;5;21;01m.\u001b[39;00m\u001b[38;5;21;01msettings\u001b[39;00m \u001b[38;5;28;01mimport\u001b[39;00m Settings\n\u001b[1;32m     21\u001b[0m \u001b[38;5;28;01mfrom\u001b[39;00m \u001b[38;5;21;01mplanetary_computer\u001b[39;00m\u001b[38;5;21;01m.\u001b[39;00m\u001b[38;5;21;01mutils\u001b[39;00m \u001b[38;5;28;01mimport\u001b[39;00m (\n\u001b[1;32m     22\u001b[0m     parse_blob_url,\n\u001b[1;32m     23\u001b[0m     parse_adlfs_url,\n\u001b[0;32m   (...)\u001b[0m\n\u001b[1;32m     26\u001b[0m     asset_xpr,\n\u001b[1;32m     27\u001b[0m )\n\u001b[1;32m     30\u001b[0m BLOB_STORAGE_DOMAIN \u001b[38;5;241m=\u001b[39m \u001b[38;5;124m\"\u001b[39m\u001b[38;5;124m.blob.core.windows.net\u001b[39m\u001b[38;5;124m\"\u001b[39m\n",
      "File \u001b[0;32m~/anaconda3/envs/gpjax/lib/python3.10/site-packages/planetary_computer/settings.py:11\u001b[0m\n\u001b[1;32m      6\u001b[0m SETTINGS_ENV_PREFIX \u001b[38;5;241m=\u001b[39m \u001b[38;5;124m\"\u001b[39m\u001b[38;5;124mPC_SDK_\u001b[39m\u001b[38;5;124m\"\u001b[39m\n\u001b[1;32m      8\u001b[0m DEFAULT_SAS_TOKEN_ENDPOINT \u001b[38;5;241m=\u001b[39m \u001b[38;5;124m\"\u001b[39m\u001b[38;5;124mhttps://planetarycomputer.microsoft.com/api/sas/v1/token\u001b[39m\u001b[38;5;124m\"\u001b[39m\n\u001b[0;32m---> 11\u001b[0m \u001b[38;5;28;01mclass\u001b[39;00m \u001b[38;5;21;01mSettings\u001b[39;00m(\u001b[43mpydantic\u001b[49m\u001b[38;5;241;43m.\u001b[39;49m\u001b[43mBaseSettings\u001b[49m):\n\u001b[1;32m     12\u001b[0m \u001b[38;5;250m    \u001b[39m\u001b[38;5;124;03m\"\"\"PC SDK configuration settings\u001b[39;00m\n\u001b[1;32m     13\u001b[0m \n\u001b[1;32m     14\u001b[0m \u001b[38;5;124;03m    Settings defined here are attempted to be read in two ways, in this order:\u001b[39;00m\n\u001b[0;32m   (...)\u001b[0m\n\u001b[1;32m     21\u001b[0m \u001b[38;5;124;03m    All settings are prefixed with `PC_SDK_`\u001b[39;00m\n\u001b[1;32m     22\u001b[0m \u001b[38;5;124;03m    \"\"\"\u001b[39;00m\n\u001b[1;32m     24\u001b[0m     \u001b[38;5;66;03m# PC_SDK_SUBSCRIPTION_KEY: subscription key to send along with token\u001b[39;00m\n\u001b[1;32m     25\u001b[0m     \u001b[38;5;66;03m# requests. If present, allows less restricted rate limiting.\u001b[39;00m\n",
      "File \u001b[0;32m~/anaconda3/envs/gpjax/lib/python3.10/site-packages/pydantic/__init__.py:210\u001b[0m, in \u001b[0;36m__getattr__\u001b[0;34m(attr_name)\u001b[0m\n\u001b[1;32m    208\u001b[0m dynamic_attr \u001b[38;5;241m=\u001b[39m _dynamic_imports\u001b[38;5;241m.\u001b[39mget(attr_name)\n\u001b[1;32m    209\u001b[0m \u001b[38;5;28;01mif\u001b[39;00m dynamic_attr \u001b[38;5;129;01mis\u001b[39;00m \u001b[38;5;28;01mNone\u001b[39;00m:\n\u001b[0;32m--> 210\u001b[0m     \u001b[38;5;28;01mreturn\u001b[39;00m \u001b[43m_getattr_migration\u001b[49m\u001b[43m(\u001b[49m\u001b[43mattr_name\u001b[49m\u001b[43m)\u001b[49m\n\u001b[1;32m    212\u001b[0m \u001b[38;5;28;01mfrom\u001b[39;00m \u001b[38;5;21;01mimportlib\u001b[39;00m \u001b[38;5;28;01mimport\u001b[39;00m import_module\n\u001b[1;32m    214\u001b[0m module \u001b[38;5;241m=\u001b[39m import_module(_dynamic_imports[attr_name], package\u001b[38;5;241m=\u001b[39m__package__)\n",
      "File \u001b[0;32m~/anaconda3/envs/gpjax/lib/python3.10/site-packages/pydantic/_migration.py:289\u001b[0m, in \u001b[0;36mgetattr_migration.<locals>.wrapper\u001b[0;34m(name)\u001b[0m\n\u001b[1;32m    287\u001b[0m     \u001b[38;5;28;01mreturn\u001b[39;00m import_string(REDIRECT_TO_V1[import_path])\n\u001b[1;32m    288\u001b[0m \u001b[38;5;28;01mif\u001b[39;00m import_path \u001b[38;5;241m==\u001b[39m \u001b[38;5;124m'\u001b[39m\u001b[38;5;124mpydantic:BaseSettings\u001b[39m\u001b[38;5;124m'\u001b[39m:\n\u001b[0;32m--> 289\u001b[0m     \u001b[38;5;28;01mraise\u001b[39;00m PydanticImportError(\n\u001b[1;32m    290\u001b[0m         \u001b[38;5;124m'\u001b[39m\u001b[38;5;124m`BaseSettings` has been moved to the `pydantic-settings` package. \u001b[39m\u001b[38;5;124m'\u001b[39m\n\u001b[1;32m    291\u001b[0m         \u001b[38;5;124mf\u001b[39m\u001b[38;5;124m'\u001b[39m\u001b[38;5;124mSee https://docs.pydantic.dev/\u001b[39m\u001b[38;5;132;01m{\u001b[39;00mversion_short()\u001b[38;5;132;01m}\u001b[39;00m\u001b[38;5;124m/migration/#basesettings-has-moved-to-pydantic-settings \u001b[39m\u001b[38;5;124m'\u001b[39m\n\u001b[1;32m    292\u001b[0m         \u001b[38;5;124m'\u001b[39m\u001b[38;5;124mfor more details.\u001b[39m\u001b[38;5;124m'\u001b[39m\n\u001b[1;32m    293\u001b[0m     )\n\u001b[1;32m    294\u001b[0m \u001b[38;5;28;01mif\u001b[39;00m import_path \u001b[38;5;129;01min\u001b[39;00m REMOVED_IN_V2:\n\u001b[1;32m    295\u001b[0m     \u001b[38;5;28;01mraise\u001b[39;00m PydanticImportError(\u001b[38;5;124mf\u001b[39m\u001b[38;5;124m'\u001b[39m\u001b[38;5;124m`\u001b[39m\u001b[38;5;132;01m{\u001b[39;00mimport_path\u001b[38;5;132;01m}\u001b[39;00m\u001b[38;5;124m` has been removed in V2.\u001b[39m\u001b[38;5;124m'\u001b[39m)\n",
      "\u001b[0;31mPydanticImportError\u001b[0m: `BaseSettings` has been moved to the `pydantic-settings` package. See https://docs.pydantic.dev/2.3/migration/#basesettings-has-moved-to-pydantic-settings for more details.\n\nFor further information visit https://errors.pydantic.dev/2.3/u/import-error"
     ]
    }
   ],
   "source": [
    "# Enable Float64 for more stable matrix inversions.\n",
    "from jax.config import config\n",
    "\n",
    "config.update(\"jax_enable_x64\", True)\n",
    "\n",
    "from dataclasses import dataclass\n",
    "\n",
    "import fsspec\n",
    "import geopandas as gpd\n",
    "import jax\n",
    "import jax.numpy as jnp\n",
    "import jax.random as jr\n",
    "from jaxtyping import (\n",
    "    Array,\n",
    "    Float,\n",
    "    install_import_hook,\n",
    ")\n",
    "import matplotlib as mpl\n",
    "import matplotlib.pyplot as plt\n",
    "import jaxopt\n",
    "import pandas as pd\n",
    "import planetary_computer\n",
    "import pystac_client\n",
    "import rioxarray as rio\n",
    "from rioxarray.merge import merge_arrays\n",
    "import xarray as xr\n",
    "\n",
    "with install_import_hook(\"gpjax\", \"beartype.beartype\"):\n",
    "    import gpjax as gpx\n",
    "    from gpjax.base import param_field\n",
    "    from gpjax.dataset import Dataset\n",
    "\n",
    "\n",
    "key = jr.PRNGKey(123)\n",
    "plt.style.use(\n",
    "    \"https://raw.githubusercontent.com/JaxGaussianProcesses/GPJax/main/docs/examples/gpjax.mplstyle\"\n",
    ")\n",
    "cols = mpl.rcParams[\"axes.prop_cycle\"].by_key()[\"color\"]\n",
    "\n",
    "# Observed temperature data\n",
    "try:\n",
    "    temperature = pd.read_csv(\"data/max_tempeature_switzerland.csv\")\n",
    "except FileNotFoundError:\n",
    "    temperature = pd.read_csv(\"docs/examples/data/max_tempeature_switzerland.csv\")\n",
    "\n",
    "temperature = gpd.GeoDataFrame(\n",
    "    temperature,\n",
    "    geometry=gpd.points_from_xy(temperature.longitude, temperature.latitude),\n",
    ").dropna(how=\"any\")\n",
    "\n",
    "# Country borders shapefile\n",
    "path = \"simplecache::https://www.naturalearthdata.com/http//www.naturalearthdata.com/download/10m/cultural/ne_10m_admin_0_countries.zip\"\n",
    "with fsspec.open(path) as file:\n",
    "    ch_shp = gpd.read_file(file).query(\"ADMIN == 'Switzerland'\")\n",
    "\n",
    "\n",
    "# Read DEM data and clip it to switzerland\n",
    "catalog = pystac_client.Client.open(\n",
    "    \"https://planetarycomputer.microsoft.com/api/stac/v1\",\n",
    "    modifier=planetary_computer.sign_inplace,\n",
    ")\n",
    "search = catalog.search(collections=[\"cop-dem-glo-90\"], bbox=[5.5, 45.5, 10.0, 48.5])\n",
    "items = list(search.get_all_items())\n",
    "tiles = [rio.open_rasterio(i.assets[\"data\"].href).squeeze().drop(\"band\") for i in items]\n",
    "dem = merge_arrays(tiles).coarsen(x=10, y=10).mean().rio.clip(ch_shp[\"geometry\"])"
   ]
  },
  {
   "cell_type": "markdown",
   "id": "0901b58d",
   "metadata": {
    "lines_to_next_cell": 0
   },
   "source": [
    "Let us take a look at the data. The topography of Switzerland is quite complex, and there\n",
    "are sometimes very large height differences over short distances. This measuring network is fairly dense,\n",
    "and you may already notice that there's a dependency between maximum daily temperature and elevation."
   ]
  },
  {
   "cell_type": "code",
   "execution_count": 2,
   "id": "ca052624",
   "metadata": {
    "lines_to_next_cell": 2
   },
   "outputs": [
    {
     "ename": "NameError",
     "evalue": "name 'dem' is not defined",
     "output_type": "error",
     "traceback": [
      "\u001b[0;31m---------------------------------------------------------------------------\u001b[0m",
      "\u001b[0;31mNameError\u001b[0m                                 Traceback (most recent call last)",
      "Cell \u001b[0;32mIn[2], line 2\u001b[0m\n\u001b[1;32m      1\u001b[0m fig, ax \u001b[38;5;241m=\u001b[39m plt\u001b[38;5;241m.\u001b[39msubplots(figsize\u001b[38;5;241m=\u001b[39m(\u001b[38;5;241m8\u001b[39m, \u001b[38;5;241m5\u001b[39m), layout\u001b[38;5;241m=\u001b[39m\u001b[38;5;124m\"\u001b[39m\u001b[38;5;124mconstrained\u001b[39m\u001b[38;5;124m\"\u001b[39m)\n\u001b[0;32m----> 2\u001b[0m \u001b[43mdem\u001b[49m\u001b[38;5;241m.\u001b[39mplot(\n\u001b[1;32m      3\u001b[0m     cmap\u001b[38;5;241m=\u001b[39m\u001b[38;5;124m\"\u001b[39m\u001b[38;5;124mterrain\u001b[39m\u001b[38;5;124m\"\u001b[39m, cbar_kwargs\u001b[38;5;241m=\u001b[39m{\u001b[38;5;124m\"\u001b[39m\u001b[38;5;124maspect\u001b[39m\u001b[38;5;124m\"\u001b[39m: \u001b[38;5;241m50\u001b[39m, \u001b[38;5;124m\"\u001b[39m\u001b[38;5;124mpad\u001b[39m\u001b[38;5;124m\"\u001b[39m: \u001b[38;5;241m0.02\u001b[39m, \u001b[38;5;124m\"\u001b[39m\u001b[38;5;124mlabel\u001b[39m\u001b[38;5;124m\"\u001b[39m: \u001b[38;5;124m\"\u001b[39m\u001b[38;5;124mElevation [m]\u001b[39m\u001b[38;5;124m\"\u001b[39m}\n\u001b[1;32m      4\u001b[0m )\n\u001b[1;32m      5\u001b[0m temperature\u001b[38;5;241m.\u001b[39mplot(\u001b[38;5;124m\"\u001b[39m\u001b[38;5;124mt_max\u001b[39m\u001b[38;5;124m\"\u001b[39m, ax\u001b[38;5;241m=\u001b[39max, cmap\u001b[38;5;241m=\u001b[39m\u001b[38;5;124m\"\u001b[39m\u001b[38;5;124mRdBu_r\u001b[39m\u001b[38;5;124m\"\u001b[39m, vmin\u001b[38;5;241m=\u001b[39m\u001b[38;5;241m-\u001b[39m\u001b[38;5;241m15\u001b[39m, vmax\u001b[38;5;241m=\u001b[39m\u001b[38;5;241m15\u001b[39m, edgecolor\u001b[38;5;241m=\u001b[39m\u001b[38;5;124m\"\u001b[39m\u001b[38;5;124mk\u001b[39m\u001b[38;5;124m\"\u001b[39m, s\u001b[38;5;241m=\u001b[39m\u001b[38;5;241m50\u001b[39m)\n\u001b[1;32m      6\u001b[0m ax\u001b[38;5;241m.\u001b[39mset(title\u001b[38;5;241m=\u001b[39m\u001b[38;5;124m\"\u001b[39m\u001b[38;5;124mSwitzerland\u001b[39m\u001b[38;5;124m'\u001b[39m\u001b[38;5;124ms topography and SwissMetNet stations\u001b[39m\u001b[38;5;124m\"\u001b[39m, aspect\u001b[38;5;241m=\u001b[39m\u001b[38;5;124m\"\u001b[39m\u001b[38;5;124mauto\u001b[39m\u001b[38;5;124m\"\u001b[39m)\n",
      "\u001b[0;31mNameError\u001b[0m: name 'dem' is not defined"
     ]
    },
    {
     "data": {
      "image/png": "[encoded data removed]",
      "text/plain": [
       "<Figure size 800x500 with 1 Axes>"
      ]
     },
     "metadata": {},
     "output_type": "display_data"
    }
   ],
   "source": [
    "fig, ax = plt.subplots(figsize=(8, 5), layout=\"constrained\")\n",
    "dem.plot(\n",
    "    cmap=\"terrain\", cbar_kwargs={\"aspect\": 50, \"pad\": 0.02, \"label\": \"Elevation [m]\"}\n",
    ")\n",
    "temperature.plot(\"t_max\", ax=ax, cmap=\"RdBu_r\", vmin=-15, vmax=15, edgecolor=\"k\", s=50)\n",
    "ax.set(title=\"Switzerland's topography and SwissMetNet stations\", aspect=\"auto\")\n",
    "cb = fig.colorbar(ax.collections[-1], aspect=50, pad=0.02)\n",
    "cb.set_label(\"Max. daily temperature [°C]\", labelpad=-2)"
   ]
  },
  {
   "cell_type": "markdown",
   "id": "62b6fd46",
   "metadata": {
    "lines_to_next_cell": 0
   },
   "source": [
    "As always, we store our training data in a `Dataset` object."
   ]
  },
  {
   "cell_type": "code",
   "execution_count": null,
   "id": "5f1c19a3",
   "metadata": {},
   "outputs": [],
   "source": [
    "x = temperature[[\"latitude\", \"longitude\", \"elevation\"]].values\n",
    "y = temperature[[\"t_max\"]].values\n",
    "D = Dataset(\n",
    "    X=jnp.array(x),\n",
    "    y=jnp.array(y),\n",
    ")"
   ]
  },
  {
   "cell_type": "markdown",
   "id": "71d15bb8",
   "metadata": {},
   "source": [
    "## ARD Kernel\n",
    "As temperature decreases with height\n",
    "(at a rate of approximately -6.5 °C/km in average conditions), we can expect that using the geographical distance\n",
    "alone isn't enough to to a decent job at interpolating this data. Therefore, we can also use elevation and optimize\n",
    "the parameters of our kernel such that more relevance should be given to elevation. This is possible by using a\n",
    "kernel that has one length-scale parameter per input dimension: an automatic relevance determination (ARD) kernel.\n",
    "See our [kernel notebook](https://docs.jaxgaussianprocesses.com/examples/constructing_new_kernels/) for more an introduction to\n",
    "kernels in GPJax."
   ]
  },
  {
   "cell_type": "code",
   "execution_count": null,
   "id": "03a6b673",
   "metadata": {},
   "outputs": [],
   "source": [
    "kernel = gpx.kernels.RBF(\n",
    "    active_dims=[0, 1, 2],\n",
    "    lengthscale=jnp.array([0.1, 0.1, 100.0]),\n",
    ")"
   ]
  },
  {
   "cell_type": "markdown",
   "id": "6312fc7d",
   "metadata": {
    "lines_to_next_cell": 2
   },
   "source": [
    "## Mean function\n",
    "As stated before, we already know that temperature strongly depends on elevation.\n",
    "So why not use it for our mean function? GPJax lets you define custom mean functions;\n",
    "simply subclass `AbstractMeanFunction`."
   ]
  },
  {
   "cell_type": "code",
   "execution_count": null,
   "id": "de2cf11b",
   "metadata": {},
   "outputs": [],
   "source": [
    "@dataclass\n",
    "class MeanFunction(gpx.gps.AbstractMeanFunction):\n",
    "    w: Float[Array, \"1\"] = param_field(jnp.array([0.0]))\n",
    "    b: Float[Array, \"1\"] = param_field(jnp.array([0.0]))\n",
    "\n",
    "    def __call__(self, x: Float[Array, \"N D\"]) -> Float[Array, \"N 1\"]:\n",
    "        elevation = x[:, 2:3]\n",
    "        out = elevation * self.w + self.b\n",
    "        return out"
   ]
  },
  {
   "cell_type": "markdown",
   "id": "37f3dcad",
   "metadata": {},
   "source": [
    "Now we can define our prior. We'll also choose a Gaussian likelihood."
   ]
  },
  {
   "cell_type": "code",
   "execution_count": null,
   "id": "96e12772",
   "metadata": {},
   "outputs": [],
   "source": [
    "mean_function = MeanFunction()\n",
    "prior = gpx.Prior(kernel=kernel, mean_function=mean_function)\n",
    "likelihood = gpx.Gaussian(D.n)"
   ]
  },
  {
   "cell_type": "markdown",
   "id": "f363a6b8",
   "metadata": {
    "lines_to_next_cell": 0
   },
   "source": [
    "Finally, we construct the posterior."
   ]
  },
  {
   "cell_type": "code",
   "execution_count": null,
   "id": "5aa15281",
   "metadata": {
    "lines_to_next_cell": 2
   },
   "outputs": [],
   "source": [
    "posterior = prior * likelihood"
   ]
  },
  {
   "cell_type": "markdown",
   "id": "c2628adc",
   "metadata": {
    "lines_to_next_cell": 0
   },
   "source": [
    "## Model fitting\n",
    "We proceed to train our model. Because we used a Gaussian likelihood, the resulting posterior is\n",
    "a `ConjugatePosterior`, which allows us to optimize the analytically expressed marginal loglikelihood.\n",
    "\n",
    "As always, we can jit-compile the objective function to speed things up."
   ]
  },
  {
   "cell_type": "code",
   "execution_count": null,
   "id": "5cde8ae2",
   "metadata": {},
   "outputs": [],
   "source": [
    "negative_mll = jax.jit(gpx.objectives.ConjugateMLL(negative=True))\n",
    "negative_mll(posterior, train_data=D)"
   ]
  },
  {
   "cell_type": "code",
   "execution_count": null,
   "id": "78d204de",
   "metadata": {
    "lines_to_next_cell": 0
   },
   "outputs": [],
   "source": [
    "#optim = ox.chain(ox.adam(learning_rate=0.1), ox.clip(1.0))\n",
    "posterior, history = gpx.fit(\n",
    "    model=posterior,\n",
    "    train_data=D,\n",
    "    solver=jaxopt.LBFGS(gpx.ConjugateMLL(negative=True), maxiter=10),\n",
    "    safe=True,\n",
    "    key=key,\n",
    ")\n",
    "posterior: gpx.gps.ConjugatePosterior"
   ]
  },
  {
   "cell_type": "markdown",
   "id": "13037426",
   "metadata": {},
   "source": [
    "## Sampling on a grid\n",
    "Now comes the cool part. In a standard GP implementation, for n test points, we have a $\\mathcal{O}(n^2)$\n",
    "computational complexity and $\\mathcal{O}(n^2)$ memory requirement. We want to make predictions on a total\n",
    "of roughly 70'000 pixels, and that would require us to compute a covariance matrix of `70000 ** 2 = 4900000000` elements.\n",
    "If these are `float64`s, as it is often the case in GPJax, it would be equivalent to more than 36 Gigabytes of memory. And\n",
    "that's for a fairly coarse and tiny grid. If we were to make predictions on a 1000x1000 grid, the total memory required\n",
    "would be 8 _Terabytes_ of memory, which is intractable.\n",
    "Fortunately, the pathwise conditioning method allows us to sample from our posterior in linear complexity,\n",
    "$\\mathcal{O}(n)$, with the number of pixels.\n",
    "\n",
    "GPJax provides the `sample_approx` method to generate random conditioned samples from our posterior."
   ]
  },
  {
   "cell_type": "code",
   "execution_count": null,
   "id": "d35461f1",
   "metadata": {
    "lines_to_next_cell": 0
   },
   "outputs": [],
   "source": [
    "# select the target pixels and exclude nans\n",
    "xtest = dem.drop(\"spatial_ref\").stack(p=[\"y\", \"x\"]).to_dataframe(name=\"dem\")\n",
    "mask = jnp.any(jnp.isnan(xtest.values), axis=-1)\n",
    "\n",
    "# generate 50 samples\n",
    "ytest = posterior.sample_approx(50, D, key, num_features=200)(\n",
    "    jnp.array(xtest.values[~mask])\n",
    ")"
   ]
  },
  {
   "cell_type": "markdown",
   "id": "22184195",
   "metadata": {},
   "source": [
    "Let's take a look at the results. We start with the mean and standard deviation."
   ]
  },
  {
   "cell_type": "code",
   "execution_count": null,
   "id": "ae187049",
   "metadata": {
    "lines_to_next_cell": 0
   },
   "outputs": [],
   "source": [
    "predtest = xr.zeros_like(dem.stack(p=[\"y\", \"x\"])) * jnp.nan\n",
    "predtest[~mask] = ytest.mean(axis=-1)\n",
    "predtest = predtest.unstack()\n",
    "\n",
    "predtest.plot(\n",
    "    vmin=-15.0,\n",
    "    vmax=15.0,\n",
    "    cmap=\"RdBu_r\",\n",
    "    cbar_kwargs={\"aspect\": 50, \"pad\": 0.02, \"label\": \"Max. daily temperature [°C]\"},\n",
    ")\n",
    "plt.gca().set_title(\"Interpolated maximum daily temperature\")"
   ]
  },
  {
   "cell_type": "code",
   "execution_count": null,
   "id": "82e07695",
   "metadata": {
    "lines_to_next_cell": 0
   },
   "outputs": [],
   "source": [
    "predtest = xr.zeros_like(dem.stack(p=[\"y\", \"x\"])) * jnp.nan\n",
    "predtest[~mask] = ytest.std(axis=-1)\n",
    "predtest = predtest.unstack()\n",
    "\n",
    "# plot\n",
    "predtest.plot(\n",
    "    cbar_kwargs={\"aspect\": 50, \"pad\": 0.02, \"label\": \"Standard deviation [°C]\"},\n",
    ")\n",
    "plt.gca().set_title(\"Standard deviation\")"
   ]
  },
  {
   "cell_type": "markdown",
   "id": "de03364b",
   "metadata": {
    "lines_to_next_cell": 0
   },
   "source": [
    "And now some individual realizations of our GP posterior."
   ]
  },
  {
   "cell_type": "code",
   "execution_count": null,
   "id": "76801bcf",
   "metadata": {
    "lines_to_next_cell": 0
   },
   "outputs": [],
   "source": [
    "predtest = (\n",
    "    xr.zeros_like(dem.stack(p=[\"y\", \"x\"]))\n",
    "    .expand_dims(realization=range(9))\n",
    "    .transpose(\"p\", \"realization\")\n",
    "    .copy()\n",
    ")\n",
    "predtest[~mask] = ytest[:, :9]\n",
    "predtest = predtest.unstack()\n",
    "predtest.plot(\n",
    "    col=\"realization\",\n",
    "    col_wrap=3,\n",
    "    cbar_kwargs={\"aspect\": 50, \"pad\": 0.02, \"label\": \"Max. daily temperature [°C]\"},\n",
    ")"
   ]
  },
  {
   "cell_type": "markdown",
   "id": "4be50a23",
   "metadata": {},
   "source": [
    "Remember when we said that on average the temperature decreases with height at a rate\n",
    "of approximately -6.5°C/km? That's -0.0065°C/m. The `w` parameter of our mean function\n",
    "is very close: we have learned the environmental lapse rate!"
   ]
  },
  {
   "cell_type": "code",
   "execution_count": null,
   "id": "c21edf3a",
   "metadata": {
    "lines_to_next_cell": 0
   },
   "outputs": [],
   "source": [
    "print(posterior.prior.mean_function)"
   ]
  },
  {
   "cell_type": "markdown",
   "id": "8f9b683e",
   "metadata": {},
   "source": [
    "That's it! We've successfully interpolated an observed meteorological parameter on a grid.\n",
    "We have used several components of GPJax and adapted them to our needs: a custom mean function\n",
    "that modelled the average temperature lapse rate; an ARD kernel that learned to give more relevance\n",
    "to elevation rather than horizontal distance; an efficient sampling technique to produce\n",
    "probabilistic realizations of our posterior on a large number of test points, which is important for\n",
    "many spatiotemporal modelling applications.\n",
    "If you're interested in a more elaborate work on temperature interpolation for the same domain used here, refer\n",
    "to [Frei 2014](https://rmets.onlinelibrary.wiley.com/doi/full/10.1002/joc.3786)."
   ]
  },
  {
   "cell_type": "markdown",
   "id": "382435a6",
   "metadata": {},
   "source": [
    "## System configuration"
   ]
  },
  {
   "cell_type": "code",
   "execution_count": null,
   "id": "feb5e52e",
   "metadata": {},
   "outputs": [],
   "source": [
    "%reload_ext watermark\n",
    "%watermark -n -u -v -iv -w -a 'Francesco Zanetta'"
   ]
  },
  {
   "cell_type": "code",
   "execution_count": null,
   "id": "ada3aeaa",
   "metadata": {},
   "outputs": [],
   "source": []
  }
 ],
 "metadata": {
  "jupytext": {
   "cell_metadata_filter": "-all",
   "custom_cell_magics": "kql",
   "encoding": "# -*- coding: utf-8 -*-"
  },
  "kernelspec": {
   "display_name": "gpjax",
   "language": "python",
   "name": "gpjax"
  },
  "language_info": {
   "codemirror_mode": {
    "name": "ipython",
    "version": 3
   },
   "file_extension": ".py",
   "mimetype": "text/x-python",
   "name": "python",
   "nbconvert_exporter": "python",
   "pygments_lexer": "ipython3",
   "version": "3.10.0"
  }
 },
 "nbformat": 4,
 "nbformat_minor": 5
}
