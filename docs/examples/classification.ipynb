{
 "cells": [
  {
   "cell_type": "markdown",
   "id": "14d2bb24",
   "metadata": {},
   "source": [
    "# Classification\n",
    "\n",
    "In this notebook we demonstrate how to perform inference for Gaussian process models\n",
    "with non-Gaussian likelihoods via maximum a posteriori (MAP) and Markov chain Monte\n",
    "Carlo (MCMC). We focus on a classification task here and use\n",
    "[BlackJax](https://github.com/blackjax-devs/blackjax/) for sampling."
   ]
  },
  {
   "cell_type": "code",
   "execution_count": null,
   "id": "90b27dc7",
   "metadata": {},
   "outputs": [],
   "source": [
    "# Enable Float64 for more stable matrix inversions.\n",
    "from jax.config import config\n",
    "\n",
    "config.update(\"jax_enable_x64\", True)\n",
    "\n",
    "from time import time\n",
    "import blackjax\n",
    "import jax\n",
    "import jax.numpy as jnp\n",
    "import jax.random as jr\n",
    "import jax.scipy as jsp\n",
    "import jax.tree_util as jtu\n",
    "from jaxtyping import (\n",
    "    Array,\n",
    "    Float,\n",
    "    install_import_hook,\n",
    ")\n",
    "import matplotlib.pyplot as plt\n",
    "import jaxopt\n",
    "import tensorflow_probability.substrates.jax as tfp\n",
    "from tqdm import trange\n",
    "\n",
    "with install_import_hook(\"gpjax\", \"beartype.beartype\"):\n",
    "    import gpjax as gpx\n",
    "\n",
    "tfd = tfp.distributions\n",
    "identity_matrix = jnp.eye\n",
    "key = jr.PRNGKey(123)\n",
    "plt.style.use(\n",
    "    \"https://raw.githubusercontent.com/JaxGaussianProcesses/GPJax/main/docs/examples/gpjax.mplstyle\"\n",
    ")\n",
    "cols = plt.rcParams[\"axes.prop_cycle\"].by_key()[\"color\"]"
   ]
  },
  {
   "cell_type": "markdown",
   "id": "64585152",
   "metadata": {},
   "source": [
    "## Dataset\n",
    "\n",
    "With the necessary modules imported, we simulate a dataset\n",
    "$\\mathcal{D} = (\\boldsymbol{x}, \\boldsymbol{y}) = \\{(x_i, y_i)\\}_{i=1}^{100}$ with inputs\n",
    "$\\boldsymbol{x}$ sampled uniformly on $(-1., 1)$ and corresponding binary outputs\n",
    "\n",
    "$$\\boldsymbol{y} = 0.5 * \\text{sign}(\\cos(2 *  + \\boldsymbol{\\epsilon})) + 0.5, \\quad \\boldsymbol{\\epsilon} \\sim \\mathcal{N} \\left(\\textbf{0}, \\textbf{I} * (0.05)^{2} \\right).$$\n",
    "\n",
    "We store our data $\\mathcal{D}$ as a GPJax `Dataset` and create test inputs for\n",
    "later."
   ]
  },
  {
   "cell_type": "code",
   "execution_count": null,
   "id": "c7316ba9",
   "metadata": {},
   "outputs": [],
   "source": [
    "key, subkey = jr.split(key)\n",
    "x = jr.uniform(key, shape=(100, 1), minval=-1.0, maxval=1.0)\n",
    "y = 0.5 * jnp.sign(jnp.cos(3 * x + jr.normal(subkey, shape=x.shape) * 0.05)) + 0.5\n",
    "\n",
    "D = gpx.Dataset(X=x, y=y)\n",
    "\n",
    "xtest = jnp.linspace(-1.0, 1.0, 500).reshape(-1, 1)\n",
    "\n",
    "fig, ax = plt.subplots()\n",
    "ax.scatter(x, y)"
   ]
  },
  {
   "cell_type": "markdown",
   "id": "b68bb15a",
   "metadata": {},
   "source": [
    "## MAP inference\n",
    "\n",
    "We begin by defining a Gaussian process prior with a radial basis function (RBF)\n",
    "kernel, chosen for the purpose of exposition. Since our observations are binary, we\n",
    "choose a Bernoulli likelihood with a probit link function."
   ]
  },
  {
   "cell_type": "code",
   "execution_count": null,
   "id": "675bef2a",
   "metadata": {},
   "outputs": [],
   "source": [
    "kernel = gpx.RBF()\n",
    "meanf = gpx.Constant()\n",
    "prior = gpx.Prior(mean_function=meanf, kernel=kernel)\n",
    "likelihood = gpx.Bernoulli(num_datapoints=D.n)"
   ]
  },
  {
   "cell_type": "markdown",
   "id": "bfece9af",
   "metadata": {},
   "source": [
    "We construct the posterior through the product of our prior and likelihood."
   ]
  },
  {
   "cell_type": "code",
   "execution_count": null,
   "id": "13a1d1d4",
   "metadata": {},
   "outputs": [],
   "source": [
    "posterior = prior * likelihood\n",
    "print(type(posterior))"
   ]
  },
  {
   "cell_type": "markdown",
   "id": "0dd47285",
   "metadata": {},
   "source": [
    "Whilst the latent function is Gaussian, the posterior distribution is non-Gaussian\n",
    "since our generative model first samples the latent GP and propagates these samples\n",
    "through the likelihood function's inverse link function. This step prevents us from\n",
    "being able to analytically integrate the latent function's values out of our\n",
    "posterior, and we must instead adopt alternative inference techniques. We begin with\n",
    "maximum a posteriori (MAP) estimation, a fast inference procedure to obtain point\n",
    "estimates for the latent function and the kernel's hyperparameters by maximising the\n",
    "marginal log-likelihood."
   ]
  },
  {
   "cell_type": "markdown",
   "id": "952ddc62",
   "metadata": {},
   "source": [
    "We can obtain a MAP estimate by optimising the log-posterior density with\n",
    "`jaxopt` solvers."
   ]
  },
  {
   "cell_type": "code",
   "execution_count": null,
   "id": "fb003bba",
   "metadata": {},
   "outputs": [],
   "source": [
    "negative_lpd = jax.jit(gpx.LogPosteriorDensity(negative=True))\n",
    "\n",
    "opt_posterior, history = gpx.fit(\n",
    "    model=posterior,\n",
    "    train_data=D,\n",
    "    solver=jaxopt.LBFGS(gpx.ConjugateMLL(negative=True), maxiter=500),\n",
    "    key=key,\n",
    ")"
   ]
  },
  {
   "cell_type": "markdown",
   "id": "855ba0a3",
   "metadata": {},
   "source": [
    "From which we can make predictions at novel inputs, as illustrated below."
   ]
  },
  {
   "cell_type": "code",
   "execution_count": null,
   "id": "76fb1924",
   "metadata": {},
   "outputs": [],
   "source": [
    "map_latent_dist = opt_posterior.predict(xtest, train_data=D)\n",
    "predictive_dist = opt_posterior.likelihood(map_latent_dist)\n",
    "\n",
    "predictive_mean = predictive_dist.mean()\n",
    "predictive_std = predictive_dist.stddev()\n",
    "\n",
    "fig, ax = plt.subplots()\n",
    "ax.scatter(x, y, label=\"Observations\", color=cols[0])\n",
    "ax.plot(xtest, predictive_mean, label=\"Predictive mean\", color=cols[1])\n",
    "ax.fill_between(\n",
    "    xtest.squeeze(),\n",
    "    predictive_mean - predictive_std,\n",
    "    predictive_mean + predictive_std,\n",
    "    alpha=0.2,\n",
    "    color=cols[1],\n",
    "    label=\"One sigma\",\n",
    ")\n",
    "ax.plot(\n",
    "    xtest,\n",
    "    predictive_mean - predictive_std,\n",
    "    color=cols[1],\n",
    "    linestyle=\"--\",\n",
    "    linewidth=1,\n",
    ")\n",
    "ax.plot(\n",
    "    xtest,\n",
    "    predictive_mean + predictive_std,\n",
    "    color=cols[1],\n",
    "    linestyle=\"--\",\n",
    "    linewidth=1,\n",
    ")\n",
    "\n",
    "ax.legend()"
   ]
  },
  {
   "cell_type": "markdown",
   "id": "bbed07f4",
   "metadata": {},
   "source": [
    "Here we projected the map estimates $\\hat{\\boldsymbol{f}}$ for the function values\n",
    "$\\boldsymbol{f}$ at the data points $\\boldsymbol{x}$ to get predictions over the\n",
    "whole domain,\n",
    "\n",
    "\\begin{align}\n",
    "p(f(\\cdot)| \\mathcal{D})  \\approx q_{map}(f(\\cdot)) := \\int p(f(\\cdot)| \\boldsymbol{f}) \\delta(\\boldsymbol{f} - \\hat{\\boldsymbol{f}}) d \\boldsymbol{f} = \\mathcal{N}(\\mathbf{K}_{\\boldsymbol{(\\cdot)x}}  \\mathbf{K}_{\\boldsymbol{xx}}^{-1} \\hat{\\boldsymbol{f}},  \\mathbf{K}_{\\boldsymbol{(\\cdot, \\cdot)}} - \\mathbf{K}_{\\boldsymbol{(\\cdot)\\boldsymbol{x}}} \\mathbf{K}_{\\boldsymbol{xx}}^{-1} \\mathbf{K}_{\\boldsymbol{\\boldsymbol{x}(\\cdot)}}).\n",
    "\\end{align}"
   ]
  },
  {
   "cell_type": "markdown",
   "id": "7f21a007",
   "metadata": {},
   "source": [
    "However, as a point estimate, MAP estimation is severely limited for uncertainty\n",
    "quantification, providing only a single piece of information about the posterior."
   ]
  },
  {
   "cell_type": "markdown",
   "id": "f97ed9c4",
   "metadata": {},
   "source": [
    "## Laplace approximation\n",
    "The Laplace approximation improves uncertainty quantification by incorporating\n",
    "curvature induced by the marginal log-likelihood's Hessian to construct an\n",
    "approximate Gaussian distribution centered on the MAP estimate. Writing\n",
    "$\\tilde{p}(\\boldsymbol{f}|\\mathcal{D}) = p(\\boldsymbol{y}|\\boldsymbol{f}) p(\\boldsymbol{f})$\n",
    "as the unormalised posterior for function values $\\boldsymbol{f}$ at the datapoints\n",
    "$\\boldsymbol{x}$, we can expand the log of this about the posterior mode\n",
    "$\\hat{\\boldsymbol{f}}$ via a Taylor expansion. This gives:\n",
    "\n",
    "\\begin{align}\n",
    "\\log\\tilde{p}(\\boldsymbol{f}|\\mathcal{D}) = \\log\\tilde{p}(\\hat{\\boldsymbol{f}}|\\mathcal{D}) + \\left[\\nabla \\log\\tilde{p}({\\boldsymbol{f}}|\\mathcal{D})|_{\\hat{\\boldsymbol{f}}}\\right]^{T} (\\boldsymbol{f}-\\hat{\\boldsymbol{f}}) + \\frac{1}{2} (\\boldsymbol{f}-\\hat{\\boldsymbol{f}})^{T} \\left[\\nabla^2 \\tilde{p}(\\boldsymbol{y}|\\boldsymbol{f})|_{\\hat{\\boldsymbol{f}}} \\right] (\\boldsymbol{f}-\\hat{\\boldsymbol{f}}) + \\mathcal{O}(\\lVert \\boldsymbol{f} - \\hat{\\boldsymbol{f}} \\rVert^3).\n",
    "\\end{align}\n",
    "\n",
    "Since $\\nabla \\log\\tilde{p}({\\boldsymbol{f}}|\\mathcal{D})$ is zero at the mode,\n",
    "this suggests the following approximation\n",
    "\\begin{align}\n",
    "\\tilde{p}(\\boldsymbol{f}|\\mathcal{D}) \\approx \\log\\tilde{p}(\\hat{\\boldsymbol{f}}|\\mathcal{D}) \\exp\\left\\{ \\frac{1}{2} (\\boldsymbol{f}-\\hat{\\boldsymbol{f}})^{T} \\left[-\\nabla^2 \\tilde{p}(\\boldsymbol{y}|\\boldsymbol{f})|_{\\hat{\\boldsymbol{f}}} \\right] (\\boldsymbol{f}-\\hat{\\boldsymbol{f}}) \\right\\}\n",
    "\\end{align},\n",
    "\n",
    "that we identify as a Gaussian distribution,\n",
    "$p(\\boldsymbol{f}| \\mathcal{D}) \\approx q(\\boldsymbol{f}) := \\mathcal{N}(\\hat{\\boldsymbol{f}}, [-\\nabla^2 \\tilde{p}(\\boldsymbol{y}|\\boldsymbol{f})|_{\\hat{\\boldsymbol{f}}} ]^{-1} )$.\n",
    "Since the negative Hessian is positive definite, we can use the Cholesky\n",
    "decomposition to obtain the covariance matrix of the Laplace approximation at the\n",
    "datapoints below."
   ]
  },
  {
   "cell_type": "code",
   "execution_count": null,
   "id": "67baa6c6",
   "metadata": {
    "lines_to_next_cell": 2
   },
   "outputs": [],
   "source": [
    "import cola\n",
    "from gpjax.lower_cholesky import lower_cholesky\n",
    "\n",
    "gram, cross_covariance = (kernel.gram, kernel.cross_covariance)\n",
    "jitter = 1e-6\n",
    "\n",
    "# Compute (latent) function value map estimates at training points:\n",
    "Kxx = opt_posterior.prior.kernel.gram(x)\n",
    "Kxx += identity_matrix(D.n) * jitter\n",
    "Kxx = cola.PSD(Kxx)\n",
    "Lx = lower_cholesky(Kxx)\n",
    "f_hat = Lx @ opt_posterior.latent\n",
    "\n",
    "# Negative Hessian,  H = -∇²p_tilde(y|f):\n",
    "H = jax.jacfwd(jax.jacrev(negative_lpd))(opt_posterior, D).latent.latent[:, 0, :, 0]\n",
    "\n",
    "L = jnp.linalg.cholesky(H + identity_matrix(D.n) * jitter)\n",
    "\n",
    "# H⁻¹ = H⁻¹ I = (LLᵀ)⁻¹ I = L⁻ᵀL⁻¹ I\n",
    "L_inv = jsp.linalg.solve_triangular(L, identity_matrix(D.n), lower=True)\n",
    "H_inv = jsp.linalg.solve_triangular(L.T, L_inv, lower=False)\n",
    "LH = jnp.linalg.cholesky(H_inv)\n",
    "laplace_approximation = tfd.MultivariateNormalTriL(f_hat.squeeze(), LH)"
   ]
  },
  {
   "cell_type": "markdown",
   "id": "0b0080fe",
   "metadata": {
    "lines_to_next_cell": 2
   },
   "source": [
    "For novel inputs, we must project the above approximating distribution through the\n",
    "Gaussian conditional distribution $p(f(\\cdot)| \\boldsymbol{f})$,\n",
    "\n",
    "\\begin{align}\n",
    "p(f(\\cdot)| \\mathcal{D}) \\approx q_{Laplace}(f(\\cdot)) := \\int p(f(\\cdot)| \\boldsymbol{f}) q(\\boldsymbol{f}) d \\boldsymbol{f} = \\mathcal{N}(\\mathbf{K}_{\\boldsymbol{(\\cdot)x}}  \\mathbf{K}_{\\boldsymbol{xx}}^{-1} \\hat{\\boldsymbol{f}},  \\mathbf{K}_{\\boldsymbol{(\\cdot, \\cdot)}} - \\mathbf{K}_{\\boldsymbol{(\\cdot)\\boldsymbol{x}}} \\mathbf{K}_{\\boldsymbol{xx}}^{-1} (\\mathbf{K}_{\\boldsymbol{xx}} - [-\\nabla^2 \\tilde{p}(\\boldsymbol{y}|\\boldsymbol{f})|_{\\hat{\\boldsymbol{f}}} ]^{-1}) \\mathbf{K}_{\\boldsymbol{xx}}^{-1} \\mathbf{K}_{\\boldsymbol{\\boldsymbol{x}(\\cdot)}}).\n",
    "\\end{align}\n",
    "\n",
    "This is the same approximate distribution $q_{map}(f(\\cdot))$, but we have perturbed\n",
    "the covariance by a curvature term of\n",
    "$\\mathbf{K}_{\\boldsymbol{(\\cdot)\\boldsymbol{x}}} \\mathbf{K}_{\\boldsymbol{xx}}^{-1} [-\\nabla^2 \\tilde{p}(\\boldsymbol{y}|\\boldsymbol{f})|_{\\hat{\\boldsymbol{f}}} ]^{-1} \\mathbf{K}_{\\boldsymbol{xx}}^{-1} \\mathbf{K}_{\\boldsymbol{\\boldsymbol{x}(\\cdot)}}$.\n",
    "We take the latent distribution computed in the previous section and add this term\n",
    "to the covariance to construct $q_{Laplace}(f(\\cdot))$."
   ]
  },
  {
   "cell_type": "code",
   "execution_count": null,
   "id": "867815eb",
   "metadata": {},
   "outputs": [],
   "source": [
    "def construct_laplace(test_inputs: Float[Array, \"N D\"]) -> tfd.MultivariateNormalTriL:\n",
    "    map_latent_dist = opt_posterior.predict(xtest, train_data=D)\n",
    "\n",
    "    Kxt = opt_posterior.prior.kernel.cross_covariance(x, test_inputs)\n",
    "    Kxx = opt_posterior.prior.kernel.gram(x)\n",
    "    Kxx += identity_matrix(D.n) * jitter\n",
    "    Kxx = cola.PSD(Kxx)\n",
    "\n",
    "    # Kxx⁻¹ Kxt\n",
    "    Kxx_inv_Kxt = cola.solve(Kxx, Kxt)\n",
    "\n",
    "    # Ktx Kxx⁻¹[ H⁻¹ ] Kxx⁻¹ Kxt\n",
    "    laplace_cov_term = jnp.matmul(jnp.matmul(Kxx_inv_Kxt.T, H_inv), Kxx_inv_Kxt)\n",
    "\n",
    "    mean = map_latent_dist.mean()\n",
    "    covariance = map_latent_dist.covariance() + laplace_cov_term\n",
    "    L = jnp.linalg.cholesky(covariance)\n",
    "    return tfd.MultivariateNormalTriL(jnp.atleast_1d(mean.squeeze()), L)"
   ]
  },
  {
   "cell_type": "markdown",
   "id": "f9fce917",
   "metadata": {
    "lines_to_next_cell": 0
   },
   "source": [
    "From this we can construct the predictive distribution at the test points."
   ]
  },
  {
   "cell_type": "code",
   "execution_count": null,
   "id": "5a56bf0a",
   "metadata": {},
   "outputs": [],
   "source": [
    "laplace_latent_dist = construct_laplace(xtest)\n",
    "predictive_dist = opt_posterior.likelihood(laplace_latent_dist)\n",
    "\n",
    "predictive_mean = predictive_dist.mean()\n",
    "predictive_std = predictive_dist.stddev()\n",
    "\n",
    "fig, ax = plt.subplots()\n",
    "ax.scatter(x, y, label=\"Observations\", color=cols[0])\n",
    "ax.plot(xtest, predictive_mean, label=\"Predictive mean\", color=cols[1])\n",
    "ax.fill_between(\n",
    "    xtest.squeeze(),\n",
    "    predictive_mean - predictive_std,\n",
    "    predictive_mean + predictive_std,\n",
    "    alpha=0.2,\n",
    "    color=cols[1],\n",
    "    label=\"One sigma\",\n",
    ")\n",
    "ax.plot(\n",
    "    xtest,\n",
    "    predictive_mean - predictive_std,\n",
    "    color=cols[1],\n",
    "    linestyle=\"--\",\n",
    "    linewidth=1,\n",
    ")\n",
    "ax.plot(\n",
    "    xtest,\n",
    "    predictive_mean + predictive_std,\n",
    "    color=cols[1],\n",
    "    linestyle=\"--\",\n",
    "    linewidth=1,\n",
    ")\n",
    "ax.legend()"
   ]
  },
  {
   "cell_type": "markdown",
   "id": "9a97c9df",
   "metadata": {},
   "source": [
    "However, the Laplace approximation is still limited by considering information about\n",
    "the posterior at a single location. On the other hand, through approximate sampling,\n",
    "MCMC methods allow us to learn all information about the posterior distribution."
   ]
  },
  {
   "cell_type": "markdown",
   "id": "c726488c",
   "metadata": {},
   "source": [
    "## MCMC inference\n",
    "\n",
    "An MCMC sampler works by starting at an initial position and\n",
    "drawing a sample from a cheap-to-simulate distribution known as the _proposal_. The\n",
    "next step is to determine whether this sample could be considered a draw from the\n",
    "posterior. We accomplish this using an _acceptance probability_ determined via the\n",
    "sampler's _transition kernel_ which depends on the current position and the\n",
    "unnormalised target posterior distribution. If the new sample is more _likely_, we\n",
    "accept it; otherwise, we reject it and stay in our current position. Repeating these\n",
    "steps results in a Markov chain (a random sequence that depends only on the last\n",
    "state) whose stationary distribution (the long-run empirical distribution of the\n",
    "states visited) is the posterior. For a gentle introduction, see the first chapter\n",
    "of [A Handbook of Markov Chain Monte Carlo](https://www.mcmchandbook.net/HandbookChapter1.pdf).\n",
    "\n",
    "### MCMC through BlackJax\n",
    "\n",
    "Rather than implementing a suite of MCMC samplers, GPJax relies on MCMC-specific\n",
    "libraries for sampling functionality. We focus on\n",
    "[BlackJax](https://github.com/blackjax-devs/blackjax/) in this notebook, which we\n",
    "recommend adopting for general applications.\n",
    "\n",
    "We'll use the No U-Turn Sampler (NUTS) implementation given in BlackJax for sampling.\n",
    "For the interested reader, NUTS is a Hamiltonian Monte Carlo sampling scheme where\n",
    "the number of leapfrog integration steps is computed at each step of the change\n",
    "according to the NUTS algorithm. In general, samplers constructed under this\n",
    "framework are very efficient.\n",
    "\n",
    "We begin by generating _sensible_ initial positions for our sampler before defining\n",
    "an inference loop and sampling 500 values from our Markov chain. In practice,\n",
    "drawing more samples will be necessary."
   ]
  },
  {
   "cell_type": "code",
   "execution_count": null,
   "id": "0ba459dc",
   "metadata": {},
   "outputs": [],
   "source": [
    "num_adapt = 500\n",
    "num_samples = 500\n",
    "\n",
    "lpd = jax.jit(gpx.LogPosteriorDensity(negative=False))\n",
    "unconstrained_lpd = jax.jit(lambda tree: lpd(tree.constrain(), D))\n",
    "\n",
    "adapt = blackjax.window_adaptation(\n",
    "    blackjax.nuts, unconstrained_lpd, num_adapt, target_acceptance_rate=0.65\n",
    ")\n",
    "\n",
    "# Initialise the chain\n",
    "start = time()\n",
    "last_state, kernel, _ = adapt.run(key, posterior.unconstrain())\n",
    "print(f\"Adaption time taken: {time() - start: .1f} seconds\")\n",
    "\n",
    "\n",
    "def inference_loop(rng_key, kernel, initial_state, num_samples):\n",
    "    def one_step(state, rng_key):\n",
    "        state, info = kernel(rng_key, state)\n",
    "        return state, (state, info)\n",
    "\n",
    "    keys = jax.random.split(rng_key, num_samples)\n",
    "    _, (states, infos) = jax.lax.scan(one_step, initial_state, keys)\n",
    "\n",
    "    return states, infos\n",
    "\n",
    "\n",
    "# Sample from the posterior distribution\n",
    "start = time()\n",
    "states, infos = inference_loop(key, kernel, last_state, num_samples)\n",
    "print(f\"Sampling time taken: {time() - start: .1f} seconds\")"
   ]
  },
  {
   "cell_type": "markdown",
   "id": "d38ebbea",
   "metadata": {},
   "source": [
    "### Sampler efficiency\n",
    "\n",
    "BlackJax gives us easy access to our sampler's efficiency through metrics such as the\n",
    "sampler's _acceptance probability_ (the number of times that our chain accepted a\n",
    "proposed sample, divided by the total number of steps run by the chain). For NUTS and\n",
    "Hamiltonian Monte Carlo sampling, we typically seek an acceptance rate of 60-70% to\n",
    "strike the right balance between having a chain which is _stuck_ and rarely moves\n",
    "versus a chain that is too jumpy with frequent small steps."
   ]
  },
  {
   "cell_type": "code",
   "execution_count": null,
   "id": "e9fa0d91",
   "metadata": {},
   "outputs": [],
   "source": [
    "acceptance_rate = jnp.mean(infos.acceptance_probability)\n",
    "print(f\"Acceptance rate: {acceptance_rate:.2f}\")"
   ]
  },
  {
   "cell_type": "markdown",
   "id": "cd357372",
   "metadata": {},
   "source": [
    "Our acceptance rate is slightly too large, prompting an examination of the chain's\n",
    "trace plots. A well-mixing chain will have very few (if any) flat spots in its trace\n",
    "plot whilst also not having too many steps in the same direction. In addition to\n",
    "the model's hyperparameters, there will be 500 samples for each of the 100 latent\n",
    "function values in the `states.position` dictionary. We depict the chains that\n",
    "correspond to the model hyperparameters and the first value of the latent function\n",
    "for brevity."
   ]
  },
  {
   "cell_type": "code",
   "execution_count": null,
   "id": "2ef48b0a",
   "metadata": {},
   "outputs": [],
   "source": [
    "fig, (ax0, ax1, ax2) = plt.subplots(ncols=3, figsize=(10, 3))\n",
    "ax0.plot(states.position.prior.kernel.lengthscale)\n",
    "ax1.plot(states.position.prior.kernel.variance)\n",
    "ax2.plot(states.position.latent[:, 1, :])\n",
    "ax0.set_title(\"Kernel Lengthscale\")\n",
    "ax1.set_title(\"Kernel Variance\")\n",
    "ax2.set_title(\"Latent Function (index = 1)\")"
   ]
  },
  {
   "cell_type": "markdown",
   "id": "3e737c51",
   "metadata": {},
   "source": [
    "## Prediction\n",
    "\n",
    "Having obtained samples from the posterior, we draw ten instances from our model's\n",
    "predictive distribution per MCMC sample. Using these draws, we will be able to\n",
    "compute credible values and expected values under our posterior distribution.\n",
    "\n",
    "An ideal Markov chain would have samples completely uncorrelated with their\n",
    "neighbours after a single lag. However, in practice, correlations often exist\n",
    "within our chain's sample set. A commonly used technique to try and reduce this\n",
    "correlation is _thinning_ whereby we select every $n$th sample where $n$ is the\n",
    "minimum lag length at which we believe the samples are uncorrelated. Although further\n",
    "analysis of the chain's autocorrelation is required to find appropriate thinning\n",
    "factors, we employ a thin factor of 10 for demonstration purposes."
   ]
  },
  {
   "cell_type": "code",
   "execution_count": null,
   "id": "4566d7fe",
   "metadata": {},
   "outputs": [],
   "source": [
    "thin_factor = 20\n",
    "posterior_samples = []\n",
    "\n",
    "for i in trange(0, num_samples, thin_factor, desc=\"Drawing posterior samples\"):\n",
    "    sample = jtu.tree_map(lambda samples, i=i: samples[i], states.position)\n",
    "    sample = sample.constrain()\n",
    "    latent_dist = sample.predict(xtest, train_data=D)\n",
    "    predictive_dist = sample.likelihood(latent_dist)\n",
    "    posterior_samples.append(predictive_dist.sample(seed=key, sample_shape=(10,)))\n",
    "\n",
    "posterior_samples = jnp.vstack(posterior_samples)\n",
    "lower_ci, upper_ci = jnp.percentile(posterior_samples, jnp.array([2.5, 97.5]), axis=0)\n",
    "expected_val = jnp.mean(posterior_samples, axis=0)"
   ]
  },
  {
   "cell_type": "markdown",
   "id": "e873d8f6",
   "metadata": {},
   "source": [
    "\n",
    "Finally, we end this tutorial by plotting the predictions obtained from our model\n",
    "against the observed data."
   ]
  },
  {
   "cell_type": "code",
   "execution_count": null,
   "id": "a880e0cd",
   "metadata": {},
   "outputs": [],
   "source": [
    "fig, ax = plt.subplots()\n",
    "ax.scatter(x, y, color=cols[0], label=\"Observations\", zorder=2, alpha=0.7)\n",
    "ax.plot(xtest, expected_val, color=cols[1], label=\"Predicted mean\", zorder=1)\n",
    "ax.fill_between(\n",
    "    xtest.flatten(),\n",
    "    lower_ci.flatten(),\n",
    "    upper_ci.flatten(),\n",
    "    alpha=0.2,\n",
    "    color=cols[1],\n",
    "    label=\"95\\\\% CI\",\n",
    ")\n",
    "ax.plot(\n",
    "    xtest,\n",
    "    lower_ci.flatten(),\n",
    "    color=cols[1],\n",
    "    linestyle=\"--\",\n",
    "    linewidth=1,\n",
    ")\n",
    "ax.plot(\n",
    "    xtest,\n",
    "    upper_ci.flatten(),\n",
    "    color=cols[1],\n",
    "    linestyle=\"--\",\n",
    "    linewidth=1,\n",
    ")\n",
    "ax.legend()"
   ]
  },
  {
   "cell_type": "markdown",
   "id": "c89f0691",
   "metadata": {},
   "source": [
    "## System configuration"
   ]
  },
  {
   "cell_type": "code",
   "execution_count": null,
   "id": "78e217ee",
   "metadata": {},
   "outputs": [],
   "source": [
    "%load_ext watermark\n",
    "%watermark -n -u -v -iv -w -a \"Thomas Pinder & Daniel Dodd\""
   ]
  }
 ],
 "metadata": {
  "jupytext": {
   "cell_metadata_filter": "-all",
   "custom_cell_magics": "kql",
   "encoding": "# -*- coding: utf-8 -*-"
  },
  "kernelspec": {
   "display_name": "gpjax",
   "language": "python",
   "name": "python3"
  }
 },
 "nbformat": 4,
 "nbformat_minor": 5
}
