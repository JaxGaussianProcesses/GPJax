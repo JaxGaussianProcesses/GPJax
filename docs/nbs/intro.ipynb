{
 "cells": [
  {
   "cell_type": "markdown",
   "id": "upper-childhood",
   "metadata": {},
   "source": [
    "# Intro notebook"
   ]
  },
  {
   "cell_type": "code",
   "execution_count": 3,
   "id": "sought-charger",
   "metadata": {},
   "outputs": [],
   "source": [
    "import gpjax"
   ]
  },
  {
   "cell_type": "markdown",
   "id": "valued-sapphire",
   "metadata": {},
   "source": [
    "blah blah blah"
   ]
  }
 ],
 "metadata": {
  "kernelspec": {
   "display_name": "gpjax",
   "language": "python",
   "name": "gpjax"
  },
  "language_info": {
   "codemirror_mode": {
    "name": "ipython",
    "version": 3
   },
   "file_extension": ".py",
   "mimetype": "text/x-python",
   "name": "python",
   "nbconvert_exporter": "python",
   "pygments_lexer": "ipython3",
   "version": "3.8.7"
  }
 },
 "nbformat": 4,
 "nbformat_minor": 5
}
