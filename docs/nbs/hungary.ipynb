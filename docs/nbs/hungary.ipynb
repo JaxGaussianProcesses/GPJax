{
 "cells": [
  {
   "cell_type": "markdown",
   "metadata": {},
   "source": [
    "# Kronecker-structured GPs for spatiotemporal modelling\n",
    "\n",
    "This notebook demostrates how to use GPJax on a real-world example from epidemiology. By exploiting a separable structure in the covariance matrix, here separating the spatial and temporal dimensions, we can yield significant gains in efficiency."
   ]
  },
  {
   "cell_type": "markdown",
   "metadata": {},
   "source": [
    "## Data\n",
    "\n",
    "We'll be using the Chicken Pox Cases in Hungary, a benchmark dataset in the spatiotemporal graph neural networks field ([Rozemberczki 2021a](https://arxiv.org/abs/2102.08100), [Rozemberczki 2021b](https://dl.acm.org/doi/10.1145/3459637.3482014)). The data consists of weekly counts of chickenpox cases for the 20 counties of Hungary over the period 2005-2015.\n",
    "\n",
    "There's evidence to suggest that graph GPs outperform GNNs on this task ([Nikitin 2022](https://arxiv.org/pdf/2111.08524v1.pdf))."
   ]
  },
  {
   "cell_type": "code",
   "execution_count": null,
   "metadata": {},
   "outputs": [],
   "source": [
    "# Load in the data"
   ]
  },
  {
   "cell_type": "markdown",
   "metadata": {},
   "source": [
    "## Building a model"
   ]
  },
  {
   "cell_type": "markdown",
   "metadata": {},
   "source": [
    "### Likelihood\n",
    "\n",
    "$$ \\mathbf{y} \\sim \\text{Poisson Process}(0, k(\\cdot, \\cdot)) $$\n",
    "\n",
    "OR (maybe they're equivalent, but you get the picture - we need a Poisson likelihood and the log transform keeps the rates positive):\n",
    "\n",
    "$$ y_{st} \\sim \\text{Poisson}(\\lambda_{st}) $$\n",
    "\n",
    "$$ \\log(\\lambda_{st}) \\sim \\mathcal{GP}(0, k_{st}(\\cdot, \\cdot)) $$\n",
    "\n",
    "We assume the spatial and temporal processes are separable and use [Kronecker inference](https://sethrf.com/files/fast-hierarchical-GPs.pdf)\n",
    "\n",
    "$$ K_{st} = K_s \\otimes K_t $$\n"
   ]
  },
  {
   "cell_type": "markdown",
   "metadata": {},
   "source": [
    "### Spatial effects\n",
    "\n",
    "Spatial problems are naturally correlated. Near things are more similar to far things. This is why they lend themselves so easily to Gaussian processes.\n",
    "\n",
    "For events which can be given an exact location, such as point processes, it is common to define a Gaussian process using the spatial distance between the events. The data here, however, is areal level data collected at the county level. Rather than define spatial distances between counties, we will use the adjacency structure between counties. We can define a graph describing the spatial connectivity betwen counties and use a graph kernel to model the correlations."
   ]
  },
  {
   "cell_type": "code",
   "execution_count": null,
   "metadata": {},
   "outputs": [],
   "source": [
    "# Plot the counties\n",
    "# Load in the adjacency matrix\n",
    "# Plot the county adjacency matrix as a network"
   ]
  },
  {
   "cell_type": "code",
   "execution_count": null,
   "metadata": {},
   "outputs": [],
   "source": [
    "# define the spatial kernel\n",
    "L = nx.laplacian_matrix(G).toarray()\n",
    "k_s = gpx.GraphKernel(laplacian=L)"
   ]
  },
  {
   "cell_type": "markdown",
   "metadata": {},
   "source": [
    "### Temporal effects"
   ]
  },
  {
   "cell_type": "code",
   "execution_count": null,
   "metadata": {},
   "outputs": [],
   "source": [
    "# Plot time series facet for each county (see paper)"
   ]
  },
  {
   "cell_type": "markdown",
   "metadata": {},
   "source": [
    "The time series present strong seasonality due to weather patterns and the periodocity of the school year."
   ]
  },
  {
   "cell_type": "code",
   "execution_count": null,
   "metadata": {},
   "outputs": [],
   "source": [
    "# define time kernel\n",
    "k_t = gpx.Matern52() + gpx.Periodic()"
   ]
  },
  {
   "cell_type": "code",
   "execution_count": null,
   "metadata": {},
   "outputs": [],
   "source": [
    "# k_st = k_s kron k_t"
   ]
  },
  {
   "cell_type": "markdown",
   "metadata": {},
   "source": [
    "The problem involves a Poisson likelihood, which means we can't use conjugate inference. We will use Blackjax for inference."
   ]
  },
  {
   "cell_type": "code",
   "execution_count": null,
   "metadata": {},
   "outputs": [],
   "source": [
    "# Pick some reasonable priors for lengthscales and variances"
   ]
  }
 ],
 "metadata": {
  "kernelspec": {
   "display_name": "Python 3.9.13 64-bit",
   "language": "python",
   "name": "python3"
  },
  "language_info": {
   "name": "python",
   "version": "3.9.13"
  },
  "vscode": {
   "interpreter": {
    "hash": "aee8b7b246df8f9039afb4144a1f6fd8d2ca17a180786b69acc140d282b71a49"
   }
  }
 },
 "nbformat": 4,
 "nbformat_minor": 2
}
